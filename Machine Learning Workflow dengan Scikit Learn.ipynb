{
 "cells": [
  {
   "cell_type": "markdown",
   "metadata": {},
   "source": [
    "Persiapan Dataset\n",
    "\n",
    "Load Sample Dataset Iris"
   ]
  },
  {
   "cell_type": "code",
   "execution_count": 16,
   "metadata": {},
   "outputs": [],
   "source": [
    "from sklearn.datasets import load_iris\n",
    "\n",
    "iris = load_iris()\n",
    "\n",
    "X = iris.data\n",
    "y = iris.target"
   ]
  },
  {
   "cell_type": "code",
   "execution_count": 17,
   "metadata": {},
   "outputs": [],
   "source": [
    "from sklearn.model_selection import train_test_split\n",
    "\n",
    "X_train, X_test, y_train, y_test = train_test_split(X,\n",
    "                                                    y,\n",
    "                                                    test_size=0.4,\n",
    "                                                    random_state=1)\n"
   ]
  },
  {
   "cell_type": "markdown",
   "metadata": {},
   "source": [
    "Dataset dibagi menjadi 2 bagian yang biasa dikenal dengan istilah Splitting Dataset, yaitu training dan testing set.\n",
    "Sklearn memfasilitas dalam proses train, test, dan split dengan mengimport \n",
    "From sklearn. model_selection import train_test_split\n",
    "Kemudian jika ingin mengetest test split dengan memanggil functionnya dengan melewatkan 4 parameter.  Parameter pertama adalah sekumpulan nilai featuresnya (X), parameter kedua adalah sekumpulan nilai targetnya (y), paramater ketiga adalah ukuran dari testing_size=0,4 (memiliki populasi 40% dari total keseluruhan dataset, sedangkan train_setnya akan menempatkan posisi 60%), paramater 4 adalah random_state=1 (untuk proses pengacakan)\n",
    "Train_Set ini akan menghasilkan 4 nilai yang harus ditampung dalam 4 variabel, yaitu X_train, X_test, y_train, y_test\n"
   ]
  },
  {
   "cell_type": "markdown",
   "metadata": {},
   "source": [
    "Training Model\n",
    "Pada Scikit Learn, model machine learning dibentuk dari class yang dikenal dengan istilah estimator atau estimator class\n",
    "Setiap estimator akan mengimplementasikan dua method utama, yaitu fit() dab predict()\n",
    "Method fit() digunakan untuk melakukan training model\n",
    "Method predict() digunakan untuk melakukan estimasi/prediksi dengan memanfaatkan trained model\n"
   ]
  },
  {
   "cell_type": "code",
   "execution_count": 18,
   "metadata": {},
   "outputs": [
    {
     "data": {
      "text/plain": [
       "KNeighborsClassifier(algorithm='auto', leaf_size=30, metric='minkowski',\n",
       "                     metric_params=None, n_jobs=None, n_neighbors=3, p=2,\n",
       "                     weights='uniform')"
      ]
     },
     "execution_count": 18,
     "metadata": {},
     "output_type": "execute_result"
    }
   ],
   "source": [
    "from sklearn.neighbors import KNeighborsClassifier\n",
    "\n",
    "model = KNeighborsClassifier(n_neighbors=3)\n",
    "model.fit(X_train, y_train)"
   ]
  },
  {
   "cell_type": "markdown",
   "metadata": {},
   "source": [
    "Import dengan menggunakan KNeighborsClassifier\n",
    "Setelah diimport membuat objek dari classKNeighborsClassifier membutuhkan satu buah paramter, yaitu n_neighbors karena berasal dar xlassKNeghborsClassifier yang harus dispesifikasikan jumlah neighborsnya adalah 3 yang akan ditampung dalam variabel model\n",
    "Objek model akan ditraining menggunakan method fit() yang memanggil X_train dan y_train\n",
    "X_train berisi sekumpulan nilai features untuk training set\n",
    "y_training akan berisi sekumpulan nilai target untuk training set\n",
    "Model yang sudah ditraining dikenal dengan istilah train model"
   ]
  },
  {
   "cell_type": "markdown",
   "metadata": {},
   "source": [
    "Evaluasi Model\n",
    "Evaluasi model dikenal juga dengan istilah testing set, yaitu untuk melakukan evaluasi terkait dengan model yang telah kita graining sebleumnya\n",
    "Terdapat berbagai macam metrics yang dapat digunakan, salah satunya adalah accuracy_score"
   ]
  },
  {
   "cell_type": "code",
   "execution_count": 19,
   "metadata": {},
   "outputs": [
    {
     "name": "stdout",
     "output_type": "stream",
     "text": [
      "Accuracy: 0.9833333333333333\n"
     ]
    }
   ],
   "source": [
    "from sklearn.metrics import accuracy_score\n",
    "\n",
    "y_pred = model.predict(X_test)\n",
    "acc = accuracy_score(y_test, y_pred)\n",
    "print(f'Accuracy: {acc}')"
   ]
  },
  {
   "cell_type": "markdown",
   "metadata": {},
   "source": [
    "Cara untuk melakukan evaluasi model adalah dengan cara mengimport terlebih dahulu accucary score\n",
    "Setelah melakukan import, langkah selanjutnya adalah melakukan prediksi terhadap nilai features yang ada di dalam testing dataset\n",
    "Hasil prediksi akan ditampung ke dalma variabel y_pred\n",
    "y_test merupakan nilai target\n",
    "Proses evaluasi adalah untuk membandingkan nilai target yang terdapat dalam variabel y_test dibandingkan dengan nilai prediksi yang kita tampung ke dalam variabel y_pred\n",
    "Nilai accuracy ditampung dalam variabel acc\n",
    "Kemudian langkah selanjutnya adalh print out nilai acc nya"
   ]
  },
  {
   "cell_type": "markdown",
   "metadata": {},
   "source": [
    "Pemanfaatan Trained Model\n",
    "Model yang memiliki nilai training yang cukup baik dapat digunakan untuk melakukan prediksi terhadap data baru\n",
    "Pada data baru hanya memiliki sekumpulan nilai features tetapi tidak memiliki nilai target"
   ]
  },
  {
   "cell_type": "code",
   "execution_count": 20,
   "metadata": {},
   "outputs": [
    {
     "data": {
      "text/plain": [
       "array([1, 2])"
      ]
     },
     "execution_count": 20,
     "metadata": {},
     "output_type": "execute_result"
    }
   ],
   "source": [
    "data_baru = [[5, 5, 3, 2], #intance pertama \n",
    "             [2, 4, 3, 5]] #instace kedua\n",
    "\n",
    "preds =  model.predict(data_baru)\n",
    "preds"
   ]
  },
  {
   "cell_type": "markdown",
   "metadata": {},
   "source": [
    "data_baru terdiri dari 2 barris dataset yang setiap barisnya terdiri dari 4 features\n",
    "data_baru tersebut dilakukan prediksi dengan cara memanggil model yang sudah ditrainging sebelumnya, kemudian dengan memanggil method predict(data_baru) yang akan ditampung dalam variabel preds"
   ]
  },
  {
   "cell_type": "code",
   "execution_count": 21,
   "metadata": {},
   "outputs": [
    {
     "name": "stdout",
     "output_type": "stream",
     "text": [
      "Hasil Prediksi: ['versicolor', 'virginica']\n"
     ]
    }
   ],
   "source": [
    "pred_species = [iris.target_names[p] for p in preds] \n",
    "print(f'Hasil Prediksi: {pred_species}')"
   ]
  },
  {
   "cell_type": "markdown",
   "metadata": {},
   "source": [
    "Data yg pertama diprediksi masuk ke dalam spesies data iris versicolour, sedangkan baris ke2 diprediksi ke dalam kategori spesies iris virginica"
   ]
  },
  {
   "cell_type": "markdown",
   "metadata": {},
   "source": [
    "Dump & Load Trained Model\n",
    "Dumping Model Machine Learning menjadi file joblib"
   ]
  },
  {
   "cell_type": "code",
   "execution_count": 22,
   "metadata": {},
   "outputs": [
    {
     "data": {
      "text/plain": [
       "['iris_classifier_knn.joblib']"
      ]
     },
     "execution_count": 22,
     "metadata": {},
     "output_type": "execute_result"
    }
   ],
   "source": [
    "import joblib\n",
    "\n",
    "joblib.dump(model, 'iris_classifier_knn.joblib')"
   ]
  },
  {
   "cell_type": "markdown",
   "metadata": {},
   "source": [
    "Proses dum ini membutuhkan 2 parameter, parameter yang pertama adalah trend model apa yang ingin di dum dan parameter kedua adalah nama file joblib nya.\n",
    "Nama file joblibnya diset sebagai iris_classifier_knn.joblib\n",
    "Ketika telah dieksekusi akan membentuk satu file baru dengan nama iris_classifier_knn.joblib Proses dum joblib ini dapat dilakukan dengan mudah, yaitu dengan cara menempatkan file joblib ini ke server yang ada di production"
   ]
  },
  {
   "cell_type": "markdown",
   "metadata": {},
   "source": [
    "Loading Model Machine Learning dari file Joblib"
   ]
  },
  {
   "cell_type": "code",
   "execution_count": 23,
   "metadata": {},
   "outputs": [],
   "source": [
    "production_model = joblib.load('iris_classifier_knn.joblib')"
   ]
  },
  {
   "cell_type": "markdown",
   "metadata": {},
   "source": [
    "Pada server production ini akan dilakukan load menjadi machine learning model yang akan siap digunakan\n",
    "Prosesnya adalah dengan memanggil joblib.load(‘iris_classifier_knn.joblib’)\n",
    "Ketika diload akan menghasilkan machine learning model yang sudah ditraining sebelumnya\n",
    "Machine learning  model dalam kasus ini ditampung dalam variabel production_model\n",
    "production_model ini dapat dimanfaatkan untuk melakukan prediksi terhadap data-data baru yang ditemukan di production "
   ]
  },
  {
   "cell_type": "markdown",
   "metadata": {},
   "source": [
    "Sumber : channel youtube indonesia belajar pada link \"https://www.youtube.com/watch?v=tiREcHrtDLo\""
   ]
  }
 ],
 "metadata": {
  "kernelspec": {
   "display_name": "Python 3",
   "language": "python",
   "name": "python3"
  },
  "language_info": {
   "codemirror_mode": {
    "name": "ipython",
    "version": 3
   },
   "file_extension": ".py",
   "mimetype": "text/x-python",
   "name": "python",
   "nbconvert_exporter": "python",
   "pygments_lexer": "ipython3",
   "version": "3.7.4"
  }
 },
 "nbformat": 4,
 "nbformat_minor": 2
}
