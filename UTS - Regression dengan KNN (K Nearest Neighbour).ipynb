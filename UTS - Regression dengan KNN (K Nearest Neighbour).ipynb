{
 "cells": [
  {
   "cell_type": "code",
   "execution_count": 1,
   "metadata": {},
   "outputs": [
    {
     "data": {
      "text/plain": [
       "{'data': array([[6.3200e-03, 1.8000e+01, 2.3100e+00, ..., 1.5300e+01, 3.9690e+02,\n",
       "         4.9800e+00],\n",
       "        [2.7310e-02, 0.0000e+00, 7.0700e+00, ..., 1.7800e+01, 3.9690e+02,\n",
       "         9.1400e+00],\n",
       "        [2.7290e-02, 0.0000e+00, 7.0700e+00, ..., 1.7800e+01, 3.9283e+02,\n",
       "         4.0300e+00],\n",
       "        ...,\n",
       "        [6.0760e-02, 0.0000e+00, 1.1930e+01, ..., 2.1000e+01, 3.9690e+02,\n",
       "         5.6400e+00],\n",
       "        [1.0959e-01, 0.0000e+00, 1.1930e+01, ..., 2.1000e+01, 3.9345e+02,\n",
       "         6.4800e+00],\n",
       "        [4.7410e-02, 0.0000e+00, 1.1930e+01, ..., 2.1000e+01, 3.9690e+02,\n",
       "         7.8800e+00]]),\n",
       " 'target': array([24. , 21.6, 34.7, 33.4, 36.2, 28.7, 22.9, 27.1, 16.5, 18.9, 15. ,\n",
       "        18.9, 21.7, 20.4, 18.2, 19.9, 23.1, 17.5, 20.2, 18.2, 13.6, 19.6,\n",
       "        15.2, 14.5, 15.6, 13.9, 16.6, 14.8, 18.4, 21. , 12.7, 14.5, 13.2,\n",
       "        13.1, 13.5, 18.9, 20. , 21. , 24.7, 30.8, 34.9, 26.6, 25.3, 24.7,\n",
       "        21.2, 19.3, 20. , 16.6, 14.4, 19.4, 19.7, 20.5, 25. , 23.4, 18.9,\n",
       "        35.4, 24.7, 31.6, 23.3, 19.6, 18.7, 16. , 22.2, 25. , 33. , 23.5,\n",
       "        19.4, 22. , 17.4, 20.9, 24.2, 21.7, 22.8, 23.4, 24.1, 21.4, 20. ,\n",
       "        20.8, 21.2, 20.3, 28. , 23.9, 24.8, 22.9, 23.9, 26.6, 22.5, 22.2,\n",
       "        23.6, 28.7, 22.6, 22. , 22.9, 25. , 20.6, 28.4, 21.4, 38.7, 43.8,\n",
       "        33.2, 27.5, 26.5, 18.6, 19.3, 20.1, 19.5, 19.5, 20.4, 19.8, 19.4,\n",
       "        21.7, 22.8, 18.8, 18.7, 18.5, 18.3, 21.2, 19.2, 20.4, 19.3, 22. ,\n",
       "        20.3, 20.5, 17.3, 18.8, 21.4, 15.7, 16.2, 18. , 14.3, 19.2, 19.6,\n",
       "        23. , 18.4, 15.6, 18.1, 17.4, 17.1, 13.3, 17.8, 14. , 14.4, 13.4,\n",
       "        15.6, 11.8, 13.8, 15.6, 14.6, 17.8, 15.4, 21.5, 19.6, 15.3, 19.4,\n",
       "        17. , 15.6, 13.1, 41.3, 24.3, 23.3, 27. , 50. , 50. , 50. , 22.7,\n",
       "        25. , 50. , 23.8, 23.8, 22.3, 17.4, 19.1, 23.1, 23.6, 22.6, 29.4,\n",
       "        23.2, 24.6, 29.9, 37.2, 39.8, 36.2, 37.9, 32.5, 26.4, 29.6, 50. ,\n",
       "        32. , 29.8, 34.9, 37. , 30.5, 36.4, 31.1, 29.1, 50. , 33.3, 30.3,\n",
       "        34.6, 34.9, 32.9, 24.1, 42.3, 48.5, 50. , 22.6, 24.4, 22.5, 24.4,\n",
       "        20. , 21.7, 19.3, 22.4, 28.1, 23.7, 25. , 23.3, 28.7, 21.5, 23. ,\n",
       "        26.7, 21.7, 27.5, 30.1, 44.8, 50. , 37.6, 31.6, 46.7, 31.5, 24.3,\n",
       "        31.7, 41.7, 48.3, 29. , 24. , 25.1, 31.5, 23.7, 23.3, 22. , 20.1,\n",
       "        22.2, 23.7, 17.6, 18.5, 24.3, 20.5, 24.5, 26.2, 24.4, 24.8, 29.6,\n",
       "        42.8, 21.9, 20.9, 44. , 50. , 36. , 30.1, 33.8, 43.1, 48.8, 31. ,\n",
       "        36.5, 22.8, 30.7, 50. , 43.5, 20.7, 21.1, 25.2, 24.4, 35.2, 32.4,\n",
       "        32. , 33.2, 33.1, 29.1, 35.1, 45.4, 35.4, 46. , 50. , 32.2, 22. ,\n",
       "        20.1, 23.2, 22.3, 24.8, 28.5, 37.3, 27.9, 23.9, 21.7, 28.6, 27.1,\n",
       "        20.3, 22.5, 29. , 24.8, 22. , 26.4, 33.1, 36.1, 28.4, 33.4, 28.2,\n",
       "        22.8, 20.3, 16.1, 22.1, 19.4, 21.6, 23.8, 16.2, 17.8, 19.8, 23.1,\n",
       "        21. , 23.8, 23.1, 20.4, 18.5, 25. , 24.6, 23. , 22.2, 19.3, 22.6,\n",
       "        19.8, 17.1, 19.4, 22.2, 20.7, 21.1, 19.5, 18.5, 20.6, 19. , 18.7,\n",
       "        32.7, 16.5, 23.9, 31.2, 17.5, 17.2, 23.1, 24.5, 26.6, 22.9, 24.1,\n",
       "        18.6, 30.1, 18.2, 20.6, 17.8, 21.7, 22.7, 22.6, 25. , 19.9, 20.8,\n",
       "        16.8, 21.9, 27.5, 21.9, 23.1, 50. , 50. , 50. , 50. , 50. , 13.8,\n",
       "        13.8, 15. , 13.9, 13.3, 13.1, 10.2, 10.4, 10.9, 11.3, 12.3,  8.8,\n",
       "         7.2, 10.5,  7.4, 10.2, 11.5, 15.1, 23.2,  9.7, 13.8, 12.7, 13.1,\n",
       "        12.5,  8.5,  5. ,  6.3,  5.6,  7.2, 12.1,  8.3,  8.5,  5. , 11.9,\n",
       "        27.9, 17.2, 27.5, 15. , 17.2, 17.9, 16.3,  7. ,  7.2,  7.5, 10.4,\n",
       "         8.8,  8.4, 16.7, 14.2, 20.8, 13.4, 11.7,  8.3, 10.2, 10.9, 11. ,\n",
       "         9.5, 14.5, 14.1, 16.1, 14.3, 11.7, 13.4,  9.6,  8.7,  8.4, 12.8,\n",
       "        10.5, 17.1, 18.4, 15.4, 10.8, 11.8, 14.9, 12.6, 14.1, 13. , 13.4,\n",
       "        15.2, 16.1, 17.8, 14.9, 14.1, 12.7, 13.5, 14.9, 20. , 16.4, 17.7,\n",
       "        19.5, 20.2, 21.4, 19.9, 19. , 19.1, 19.1, 20.1, 19.9, 19.6, 23.2,\n",
       "        29.8, 13.8, 13.3, 16.7, 12. , 14.6, 21.4, 23. , 23.7, 25. , 21.8,\n",
       "        20.6, 21.2, 19.1, 20.6, 15.2,  7. ,  8.1, 13.6, 20.1, 21.8, 24.5,\n",
       "        23.1, 19.7, 18.3, 21.2, 17.5, 16.8, 22.4, 20.6, 23.9, 22. , 11.9]),\n",
       " 'feature_names': array(['CRIM', 'ZN', 'INDUS', 'CHAS', 'NOX', 'RM', 'AGE', 'DIS', 'RAD',\n",
       "        'TAX', 'PTRATIO', 'B', 'LSTAT'], dtype='<U7'),\n",
       " 'DESCR': \".. _boston_dataset:\\n\\nBoston house prices dataset\\n---------------------------\\n\\n**Data Set Characteristics:**  \\n\\n    :Number of Instances: 506 \\n\\n    :Number of Attributes: 13 numeric/categorical predictive. Median Value (attribute 14) is usually the target.\\n\\n    :Attribute Information (in order):\\n        - CRIM     per capita crime rate by town\\n        - ZN       proportion of residential land zoned for lots over 25,000 sq.ft.\\n        - INDUS    proportion of non-retail business acres per town\\n        - CHAS     Charles River dummy variable (= 1 if tract bounds river; 0 otherwise)\\n        - NOX      nitric oxides concentration (parts per 10 million)\\n        - RM       average number of rooms per dwelling\\n        - AGE      proportion of owner-occupied units built prior to 1940\\n        - DIS      weighted distances to five Boston employment centres\\n        - RAD      index of accessibility to radial highways\\n        - TAX      full-value property-tax rate per $10,000\\n        - PTRATIO  pupil-teacher ratio by town\\n        - B        1000(Bk - 0.63)^2 where Bk is the proportion of blacks by town\\n        - LSTAT    % lower status of the population\\n        - MEDV     Median value of owner-occupied homes in $1000's\\n\\n    :Missing Attribute Values: None\\n\\n    :Creator: Harrison, D. and Rubinfeld, D.L.\\n\\nThis is a copy of UCI ML housing dataset.\\nhttps://archive.ics.uci.edu/ml/machine-learning-databases/housing/\\n\\n\\nThis dataset was taken from the StatLib library which is maintained at Carnegie Mellon University.\\n\\nThe Boston house-price data of Harrison, D. and Rubinfeld, D.L. 'Hedonic\\nprices and the demand for clean air', J. Environ. Economics & Management,\\nvol.5, 81-102, 1978.   Used in Belsley, Kuh & Welsch, 'Regression diagnostics\\n...', Wiley, 1980.   N.B. Various transformations are used in the table on\\npages 244-261 of the latter.\\n\\nThe Boston house-price data has been used in many machine learning papers that address regression\\nproblems.   \\n     \\n.. topic:: References\\n\\n   - Belsley, Kuh & Welsch, 'Regression diagnostics: Identifying Influential Data and Sources of Collinearity', Wiley, 1980. 244-261.\\n   - Quinlan,R. (1993). Combining Instance-Based and Model-Based Learning. In Proceedings on the Tenth International Conference of Machine Learning, 236-243, University of Massachusetts, Amherst. Morgan Kaufmann.\\n\",\n",
       " 'filename': 'C:\\\\Users\\\\ASUS\\\\anaconda3\\\\lib\\\\site-packages\\\\sklearn\\\\datasets\\\\data\\\\boston_house_prices.csv'}"
      ]
     },
     "execution_count": 1,
     "metadata": {},
     "output_type": "execute_result"
    }
   ],
   "source": [
    "from sklearn.datasets import load_boston\n",
    "\n",
    "boston = load_boston()\n",
    "boston"
   ]
  },
  {
   "cell_type": "code",
   "execution_count": 2,
   "metadata": {},
   "outputs": [
    {
     "data": {
      "text/plain": [
       "dict_keys(['data', 'target', 'feature_names', 'DESCR', 'filename'])"
      ]
     },
     "execution_count": 2,
     "metadata": {},
     "output_type": "execute_result"
    }
   ],
   "source": [
    "boston.keys()"
   ]
  },
  {
   "cell_type": "code",
   "execution_count": 3,
   "metadata": {},
   "outputs": [
    {
     "data": {
      "text/html": [
       "<div>\n",
       "<style scoped>\n",
       "    .dataframe tbody tr th:only-of-type {\n",
       "        vertical-align: middle;\n",
       "    }\n",
       "\n",
       "    .dataframe tbody tr th {\n",
       "        vertical-align: top;\n",
       "    }\n",
       "\n",
       "    .dataframe thead th {\n",
       "        text-align: right;\n",
       "    }\n",
       "</style>\n",
       "<table border=\"1\" class=\"dataframe\">\n",
       "  <thead>\n",
       "    <tr style=\"text-align: right;\">\n",
       "      <th></th>\n",
       "      <th>CRIM</th>\n",
       "      <th>ZN</th>\n",
       "      <th>INDUS</th>\n",
       "      <th>CHAS</th>\n",
       "      <th>NOX</th>\n",
       "      <th>RM</th>\n",
       "      <th>AGE</th>\n",
       "      <th>DIS</th>\n",
       "      <th>RAD</th>\n",
       "      <th>TAX</th>\n",
       "      <th>PTRATIO</th>\n",
       "      <th>B</th>\n",
       "      <th>LSTAT</th>\n",
       "      <th>target</th>\n",
       "    </tr>\n",
       "  </thead>\n",
       "  <tbody>\n",
       "    <tr>\n",
       "      <th>0</th>\n",
       "      <td>0.00632</td>\n",
       "      <td>18.0</td>\n",
       "      <td>2.31</td>\n",
       "      <td>0.0</td>\n",
       "      <td>0.538</td>\n",
       "      <td>6.575</td>\n",
       "      <td>65.2</td>\n",
       "      <td>4.0900</td>\n",
       "      <td>1.0</td>\n",
       "      <td>296.0</td>\n",
       "      <td>15.3</td>\n",
       "      <td>396.90</td>\n",
       "      <td>4.98</td>\n",
       "      <td>24.0</td>\n",
       "    </tr>\n",
       "    <tr>\n",
       "      <th>1</th>\n",
       "      <td>0.02731</td>\n",
       "      <td>0.0</td>\n",
       "      <td>7.07</td>\n",
       "      <td>0.0</td>\n",
       "      <td>0.469</td>\n",
       "      <td>6.421</td>\n",
       "      <td>78.9</td>\n",
       "      <td>4.9671</td>\n",
       "      <td>2.0</td>\n",
       "      <td>242.0</td>\n",
       "      <td>17.8</td>\n",
       "      <td>396.90</td>\n",
       "      <td>9.14</td>\n",
       "      <td>21.6</td>\n",
       "    </tr>\n",
       "    <tr>\n",
       "      <th>2</th>\n",
       "      <td>0.02729</td>\n",
       "      <td>0.0</td>\n",
       "      <td>7.07</td>\n",
       "      <td>0.0</td>\n",
       "      <td>0.469</td>\n",
       "      <td>7.185</td>\n",
       "      <td>61.1</td>\n",
       "      <td>4.9671</td>\n",
       "      <td>2.0</td>\n",
       "      <td>242.0</td>\n",
       "      <td>17.8</td>\n",
       "      <td>392.83</td>\n",
       "      <td>4.03</td>\n",
       "      <td>34.7</td>\n",
       "    </tr>\n",
       "    <tr>\n",
       "      <th>3</th>\n",
       "      <td>0.03237</td>\n",
       "      <td>0.0</td>\n",
       "      <td>2.18</td>\n",
       "      <td>0.0</td>\n",
       "      <td>0.458</td>\n",
       "      <td>6.998</td>\n",
       "      <td>45.8</td>\n",
       "      <td>6.0622</td>\n",
       "      <td>3.0</td>\n",
       "      <td>222.0</td>\n",
       "      <td>18.7</td>\n",
       "      <td>394.63</td>\n",
       "      <td>2.94</td>\n",
       "      <td>33.4</td>\n",
       "    </tr>\n",
       "    <tr>\n",
       "      <th>4</th>\n",
       "      <td>0.06905</td>\n",
       "      <td>0.0</td>\n",
       "      <td>2.18</td>\n",
       "      <td>0.0</td>\n",
       "      <td>0.458</td>\n",
       "      <td>7.147</td>\n",
       "      <td>54.2</td>\n",
       "      <td>6.0622</td>\n",
       "      <td>3.0</td>\n",
       "      <td>222.0</td>\n",
       "      <td>18.7</td>\n",
       "      <td>396.90</td>\n",
       "      <td>5.33</td>\n",
       "      <td>36.2</td>\n",
       "    </tr>\n",
       "  </tbody>\n",
       "</table>\n",
       "</div>"
      ],
      "text/plain": [
       "      CRIM    ZN  INDUS  CHAS    NOX     RM   AGE     DIS  RAD    TAX  \\\n",
       "0  0.00632  18.0   2.31   0.0  0.538  6.575  65.2  4.0900  1.0  296.0   \n",
       "1  0.02731   0.0   7.07   0.0  0.469  6.421  78.9  4.9671  2.0  242.0   \n",
       "2  0.02729   0.0   7.07   0.0  0.469  7.185  61.1  4.9671  2.0  242.0   \n",
       "3  0.03237   0.0   2.18   0.0  0.458  6.998  45.8  6.0622  3.0  222.0   \n",
       "4  0.06905   0.0   2.18   0.0  0.458  7.147  54.2  6.0622  3.0  222.0   \n",
       "\n",
       "   PTRATIO       B  LSTAT  target  \n",
       "0     15.3  396.90   4.98    24.0  \n",
       "1     17.8  396.90   9.14    21.6  \n",
       "2     17.8  392.83   4.03    34.7  \n",
       "3     18.7  394.63   2.94    33.4  \n",
       "4     18.7  396.90   5.33    36.2  "
      ]
     },
     "execution_count": 3,
     "metadata": {},
     "output_type": "execute_result"
    }
   ],
   "source": [
    "from sklearn import datasets\n",
    "import pandas as pd\n",
    "\n",
    "boston_data = datasets.load_boston()\n",
    "df_boston = pd.DataFrame(boston_data.data,columns=boston_data.feature_names)\n",
    "df_boston['target'] = pd.Series(boston_data.target)\n",
    "df_boston.head()"
   ]
  },
  {
   "cell_type": "markdown",
   "metadata": {},
   "source": [
    "### Sample Dataset"
   ]
  },
  {
   "cell_type": "code",
   "execution_count": 4,
   "metadata": {},
   "outputs": [
    {
     "data": {
      "text/html": [
       "<div>\n",
       "<style scoped>\n",
       "    .dataframe tbody tr th:only-of-type {\n",
       "        vertical-align: middle;\n",
       "    }\n",
       "\n",
       "    .dataframe tbody tr th {\n",
       "        vertical-align: top;\n",
       "    }\n",
       "\n",
       "    .dataframe thead th {\n",
       "        text-align: right;\n",
       "    }\n",
       "</style>\n",
       "<table border=\"1\" class=\"dataframe\">\n",
       "  <thead>\n",
       "    <tr style=\"text-align: right;\">\n",
       "      <th></th>\n",
       "      <th>jarak_rumah</th>\n",
       "      <th>pajak_rumah</th>\n",
       "      <th>harga</th>\n",
       "    </tr>\n",
       "  </thead>\n",
       "  <tbody>\n",
       "    <tr>\n",
       "      <th>0</th>\n",
       "      <td>1</td>\n",
       "      <td>296</td>\n",
       "      <td>24.0</td>\n",
       "    </tr>\n",
       "    <tr>\n",
       "      <th>1</th>\n",
       "      <td>2</td>\n",
       "      <td>242</td>\n",
       "      <td>21.6</td>\n",
       "    </tr>\n",
       "    <tr>\n",
       "      <th>2</th>\n",
       "      <td>2</td>\n",
       "      <td>242</td>\n",
       "      <td>34.7</td>\n",
       "    </tr>\n",
       "    <tr>\n",
       "      <th>3</th>\n",
       "      <td>3</td>\n",
       "      <td>222</td>\n",
       "      <td>33.4</td>\n",
       "    </tr>\n",
       "    <tr>\n",
       "      <th>4</th>\n",
       "      <td>3</td>\n",
       "      <td>222</td>\n",
       "      <td>36.2</td>\n",
       "    </tr>\n",
       "  </tbody>\n",
       "</table>\n",
       "</div>"
      ],
      "text/plain": [
       "   jarak_rumah  pajak_rumah  harga\n",
       "0            1          296   24.0\n",
       "1            2          242   21.6\n",
       "2            2          242   34.7\n",
       "3            3          222   33.4\n",
       "4            3          222   36.2"
      ]
     },
     "execution_count": 4,
     "metadata": {},
     "output_type": "execute_result"
    }
   ],
   "source": [
    "import pandas as pd\n",
    "\n",
    "rumah = {'jarak_rumah': [1, 2, 2, 3, 3],\n",
    "         'pajak_rumah': [296, 242, 242, 222,222],\n",
    "        'harga' : [24, 21.6, 34.7, 33.4, 36.2]}\n",
    "\n",
    "rumah_df = pd.DataFrame(rumah)\n",
    "rumah_df"
   ]
  },
  {
   "cell_type": "markdown",
   "metadata": {},
   "source": [
    "Import module pandas dengan memanggil import pandas as pd. Kemudian dilanjutkan dengan menyiapkan dictionary yang akan terdiri dari 3 buah case yaitu jarak rumah, pajak rumah, dan harga. Dictionary tersebut ditampung dalam sebuah variabel yang bernama rumah yang akan digunakan untuk pandas dataframe. Objek yang terbentuk pada data frame akan ditampung pada variable rumah_df. jarak rumah dan pajak rumah dalam kasus ini akan berperan sebagai features dan harga sebagai target."
   ]
  },
  {
   "cell_type": "markdown",
   "metadata": {},
   "source": [
    "### Features and Target"
   ]
  },
  {
   "cell_type": "code",
   "execution_count": 5,
   "metadata": {},
   "outputs": [
    {
     "name": "stdout",
     "output_type": "stream",
     "text": [
      "X_train:\n",
      "[[  1 296]\n",
      " [  2 242]\n",
      " [  2 242]\n",
      " [  3 222]\n",
      " [  3 222]]\n",
      "\n",
      "y_train: [24.  21.6 34.7 33.4 36.2]\n"
     ]
    }
   ],
   "source": [
    "import numpy as np \n",
    "\n",
    "X_train = np.array(rumah_df[['jarak_rumah', 'pajak_rumah']])\n",
    "y_train = np.array(rumah_df['harga'])\n",
    "\n",
    "print(f'X_train:\\n{X_train}\\n')\n",
    "print(f'y_train: {y_train}')"
   ]
  },
  {
   "cell_type": "markdown",
   "metadata": {},
   "source": [
    "Dalam kasus ini jarak rumah dan pajak rumah akan menggunakan numpy array yang ditampung dalam variabel X_train sebagai sekumpulan features untuk training set. Data harga menggunakan numpy array juga dengan menggunakan variabel y_train sebagai sekumpulan nilai target untuk training set."
   ]
  },
  {
   "cell_type": "markdown",
   "metadata": {},
   "source": [
    "### Training"
   ]
  },
  {
   "cell_type": "code",
   "execution_count": 6,
   "metadata": {},
   "outputs": [
    {
     "data": {
      "text/plain": [
       "KNeighborsRegressor(n_neighbors=3)"
      ]
     },
     "execution_count": 6,
     "metadata": {},
     "output_type": "execute_result"
    }
   ],
   "source": [
    "from sklearn.neighbors import KNeighborsRegressor\n",
    "\n",
    "K = 3\n",
    "model = KNeighborsRegressor(n_neighbors=K)\n",
    "model.fit(X_train, y_train)"
   ]
  },
  {
   "cell_type": "markdown",
   "metadata": {},
   "source": [
    "Untuk melakukan training maka harus mengimport KNeighborsRegressor terlebih dahulu"
   ]
  },
  {
   "cell_type": "code",
   "execution_count": 7,
   "metadata": {},
   "outputs": [
    {
     "data": {
      "text/plain": [
       "array([[  2, 242]])"
      ]
     },
     "execution_count": 7,
     "metadata": {},
     "output_type": "execute_result"
    }
   ],
   "source": [
    "X_new = np.array([[2, 242]])\n",
    "X_new"
   ]
  },
  {
   "cell_type": "code",
   "execution_count": 8,
   "metadata": {},
   "outputs": [
    {
     "data": {
      "text/plain": [
       "array([29.9])"
      ]
     },
     "execution_count": 8,
     "metadata": {},
     "output_type": "execute_result"
    }
   ],
   "source": [
    "y_pred = model.predict(X_new)\n",
    "y_pred\n",
    "\n",
    "#Memanggil model.predict yang berasal dari data yang sudah dibuat sebelumnya."
   ]
  },
  {
   "cell_type": "markdown",
   "metadata": {},
   "source": [
    "### Evaluasi KNN Regression Model"
   ]
  },
  {
   "cell_type": "code",
   "execution_count": 17,
   "metadata": {},
   "outputs": [
    {
     "name": "stdout",
     "output_type": "stream",
     "text": [
      "X_test:\n",
      "[[  1 296]\n",
      " [  2 242]\n",
      " [  2 242]\n",
      " [  3 222]\n",
      " [  3 222]]\n",
      "\n",
      "y_test: [26.8 30.  30.  34.8 34.8]\n"
     ]
    }
   ],
   "source": [
    "X_test = np.array([[1, 296], [2, 242], [2, 242], [3, 222],[3, 222]])\n",
    "y_test = np.array([26.8, 30.0, 30.0, 34.8, 34.8])\n",
    "\n",
    "print(f'X_test:\\n{X_test}\\n')\n",
    "print(f'y_test: {y_test}')"
   ]
  },
  {
   "cell_type": "markdown",
   "metadata": {},
   "source": [
    "Pertama-tama harus menyiapkan testing set untuk nilai featuresnya untuk kemudian ditampung ke dalam variabel X_test. Kemudian sekumpulan nilai target ditampung ke dalam variabel y_test."
   ]
  },
  {
   "cell_type": "code",
   "execution_count": 18,
   "metadata": {},
   "outputs": [
    {
     "data": {
      "text/plain": [
       "array([26.76666667, 29.9       , 29.9       , 34.76666667, 34.76666667])"
      ]
     },
     "execution_count": 18,
     "metadata": {},
     "output_type": "execute_result"
    }
   ],
   "source": [
    "y_pred = model.predict(X_test)\n",
    "y_pred"
   ]
  },
  {
   "cell_type": "markdown",
   "metadata": {},
   "source": [
    "Setelah melakukan testing set, langkah selanjutnya adalah melakukan prediksi dengan memanfaatkan model KNN Regression yang sudah ditraining sebelumnya, yaitu dengan memanggil X_test yang hasilnya akan ditampung dalam variabel y_pred."
   ]
  },
  {
   "cell_type": "markdown",
   "metadata": {},
   "source": [
    "### Coefficient of Determination atau R²"
   ]
  },
  {
   "cell_type": "code",
   "execution_count": 19,
   "metadata": {},
   "outputs": [
    {
     "name": "stdout",
     "output_type": "stream",
     "text": [
      "R-squared: 0.9995151817375887\n"
     ]
    }
   ],
   "source": [
    "from sklearn.metrics import r2_score\n",
    "\n",
    "r_squared = r2_score(y_test, y_pred)\n",
    "\n",
    "print(f'R-squared: {r_squared}')"
   ]
  },
  {
   "cell_type": "markdown",
   "metadata": {},
   "source": [
    "Langkah pertama adalah dengan mengimport metrics r2_score kemudian langkah selanjutnya adalah dengan memanggil r2_score yang disertai oleh parameternya, yaitu y_test, y_pred yang ditampung dalam variabel r_squared. Nilai r2_square bila mendekati 1 dapat dinilai baik dan sebaliknya.Dalam kasus ini dinilai baik karena 0.9995151817375887 mendekati 1."
   ]
  },
  {
   "cell_type": "markdown",
   "metadata": {},
   "source": [
    "### Mean Absolute Error (MAE) atau Mean Absolute Deviation (MAD)\n",
    "\n",
    "\n",
    "Merupakan nilai absolute error dari nilai rata-rata dan prediksi."
   ]
  },
  {
   "cell_type": "code",
   "execution_count": 20,
   "metadata": {},
   "outputs": [
    {
     "name": "stdout",
     "output_type": "stream",
     "text": [
      "MAE : 0.05999999999999801\n"
     ]
    }
   ],
   "source": [
    "from sklearn.metrics import mean_absolute_error\n",
    "\n",
    "MAE = mean_absolute_error(y_test, y_pred)\n",
    "\n",
    "print(f'MAE : {MAE}')"
   ]
  },
  {
   "attachments": {
    "rumus13.svg": {
     "image/svg+xml": [
      "PHN2ZyB4bWxucz0iaHR0cDovL3d3dy53My5vcmcvMjAwMC9zdmciIHhtbG5zOnhsaW5rPSJodHRwOi8vd3d3LnczLm9yZy8xOTk5L3hsaW5rIiB3aWR0aD0iMTIyLjI5OTc3OXB0IiBoZWlnaHQ9IjE2LjQ1Njc3NHB0IiB2aWV3Qm94PSIwIDAgMTIyLjI5OTc3OSAxNi40NTY3NzQiIHZlcnNpb249IjEuMSI+CjxkZWZzPgo8Zz4KPHN5bWJvbCBvdmVyZmxvdz0idmlzaWJsZSIgaWQ9ImdseXBoMC0wIj4KPHBhdGggc3R5bGU9InN0cm9rZTpub25lOyIgZD0iTSAxMC40Njg3NSAtNy44NDM3NSBMIDguNDY4NzUgLTcuODQzNzUgTCA0LjQ1MzEyNSAtMS45Mzc1IEwgMy43ODEyNSAtNy44NDM3NSBMIDEuNjA5Mzc1IC03Ljg0Mzc1IEwgMS42MDkzNzUgLTcuNjQwNjI1IEMgMi4yMDMxMjUgLTcuNjA5Mzc1IDIuNSAtNy40Njg3NSAyLjUgLTcuMjM0Mzc1IEMgMi41IC03LjE0MDYyNSAyLjQ1MzEyNSAtNi45Mzc1IDIuMzU5Mzc1IC02LjYwOTM3NSBMIDAuOTg0Mzc1IC0xLjc5Njg3NSBDIDAuNTkzNzUgLTAuNDUzMTI1IDAuNDA2MjUgLTAuMjY1NjI1IC0wLjIxODc1IC0wLjE4NzUgTCAtMC4yMTg3NSAwIEwgMi4xNDA2MjUgMCBMIDIuMTQwNjI1IC0wLjE4NzUgQyAxLjUzMTI1IC0wLjIzNDM3NSAxLjMxMjUgLTAuNDM3NSAxLjMxMjUgLTAuNzY1NjI1IEMgMS4zMTI1IC0wLjkwNjI1IDEuMzU5Mzc1IC0xLjIwMzEyNSAxLjQyMTg3NSAtMS40MjE4NzUgTCAyLjgyODEyNSAtNi41NDY4NzUgTCAzLjU3ODEyNSAwIEwgMy43ODEyNSAwIEwgOC4yOTY4NzUgLTYuNzM0Mzc1IEwgNi43ODEyNSAtMS4yMTg3NSBDIDYuNTc4MTI1IC0wLjQ4NDM3NSA2LjM0Mzc1IC0wLjI4MTI1IDUuNTYyNSAtMC4xODc1IEwgNS41NjI1IDAgTCA4LjgxMjUgMCBMIDguODEyNSAtMC4xODc1IEMgOC4wNjI1IC0wLjIxODc1IDcuODQzNzUgLTAuMzkwNjI1IDcuODQzNzUgLTAuNzAzMTI1IEMgNy44NDM3NSAtMC44OTA2MjUgNy45Mzc1IC0xLjE0MDYyNSA4LjAxNTYyNSAtMS40Mzc1IEwgOS40ODQzNzUgLTYuNzUgQyA5LjY1NjI1IC03LjM3NSA5Ljc4MTI1IC03LjUzMTI1IDEwLjQ2ODc1IC03LjY0MDYyNSBaIE0gMTAuNDY4NzUgLTcuODQzNzUgIi8+Cjwvc3ltYm9sPgo8c3ltYm9sIG92ZXJmbG93PSJ2aXNpYmxlIiBpZD0iZ2x5cGgwLTEiPgo8cGF0aCBzdHlsZT0ic3Ryb2tlOm5vbmU7IiBkPSJNIDYuNzY1NjI1IDAgTCA2Ljc2NTYyNSAtMC4xODc1IEMgNi4xMjUgLTAuMjM0Mzc1IDYgLTAuMzc1IDUuODI4MTI1IC0xLjM3NSBMIDQuNzM0Mzc1IC04LjAxNTYyNSBMIDQuNDIxODc1IC04LjAxNTYyNSBMIDEgLTIuMDYyNSBDIDAuMDkzNzUgLTAuNSAtMC4wNjI1IC0wLjI5Njg3NSAtMC42MDkzNzUgLTAuMTg3NSBMIC0wLjYwOTM3NSAwIEwgMS42MjUgMCBMIDEuNjI1IC0wLjE4NzUgQyAxLjA2MjUgLTAuMjE4NzUgMC44NzUgLTAuMzU5Mzc1IDAuODc1IC0wLjU5Mzc1IEMgMC44NzUgLTAuNzgxMjUgMC45Njg3NSAtMS4wNjI1IDEuMTQwNjI1IC0xLjM3NSBMIDEuODQzNzUgLTIuNzE4NzUgTCA0LjQ4NDM3NSAtMi43MTg3NSBMIDQuNzM0Mzc1IC0xLjE0MDYyNSBDIDQuNzM0Mzc1IC0xLjAzMTI1IDQuNzUgLTAuOTIxODc1IDQuNzUgLTAuODI4MTI1IEMgNC43NSAtMC40MjE4NzUgNC41NzgxMjUgLTAuMjM0Mzc1IDMuODI4MTI1IC0wLjE4NzUgTCAzLjgyODEyNSAwIFogTSA0LjQyMTg3NSAtMy4xNDA2MjUgTCAyLjA5Mzc1IC0zLjE0MDYyNSBMIDMuODkwNjI1IC02LjI5Njg3NSBaIE0gNC40MjE4NzUgLTMuMTQwNjI1ICIvPgo8L3N5bWJvbD4KPHN5bWJvbCBvdmVyZmxvdz0idmlzaWJsZSIgaWQ9ImdseXBoMC0yIj4KPHBhdGggc3R5bGU9InN0cm9rZTpub25lOyIgZD0iTSA3LjYwOTM3NSAtNy44NDM3NSBMIDEuNjQwNjI1IC03Ljg0Mzc1IEwgMS42NDA2MjUgLTcuNjQwNjI1IEMgMi4zOTA2MjUgLTcuNTc4MTI1IDIuNTYyNSAtNy40Njg3NSAyLjU2MjUgLTcuMTU2MjUgQyAyLjU2MjUgLTcuMDE1NjI1IDIuNTE1NjI1IC02LjYyNSAyLjQzNzUgLTYuMzkwNjI1IEwgMC45NTMxMjUgLTEuMDc4MTI1IEMgMC43NjU2MjUgLTAuMzkwNjI1IDAuNjU2MjUgLTAuMzEyNSAtMC4wMTU2MjUgLTAuMTg3NSBMIC0wLjAxNTYyNSAwIEwgNi4wNzgxMjUgMCBMIDYuODEyNSAtMS45Mzc1IEwgNi42MjUgLTIuMDQ2ODc1IEMgNi4xNzE4NzUgLTEuNDA2MjUgNS44NzUgLTEuMDYyNSA1LjUgLTAuODU5Mzc1IEMgNC44OTA2MjUgLTAuNTQ2ODc1IDQuMjM0Mzc1IC0wLjM5MDYyNSAzLjA2MjUgLTAuMzkwNjI1IEMgMi4zOTA2MjUgLTAuMzkwNjI1IDIuMTA5Mzc1IC0wLjUxNTYyNSAyLjEwOTM3NSAtMC43OTY4NzUgQyAyLjEwOTM3NSAtMC45NTMxMjUgMi4yNSAtMS41IDIuNTQ2ODc1IC0yLjU2MjUgTCAyLjkyMTg3NSAtMy45MDYyNSBMIDMuODU5Mzc1IC0zLjkwNjI1IEMgNC4zNDM3NSAtMy45MDYyNSA0LjY3MTg3NSAtMy44NDM3NSA0Ljc5Njg3NSAtMy43MTg3NSBDIDQuODU5Mzc1IC0zLjY1NjI1IDQuODkwNjI1IC0zLjU0Njg3NSA0Ljg5MDYyNSAtMy4zNDM3NSBDIDQuODkwNjI1IC0zLjEyNSA0Ljg1OTM3NSAtMi45ODQzNzUgNC43OTY4NzUgLTIuNzE4NzUgTCA1LjA0Njg3NSAtMi42NTYyNSBMIDUuODU5Mzc1IC01LjQ1MzEyNSBMIDUuNjQwNjI1IC01LjUgQyA1LjE4NzUgLTQuNDY4NzUgNS4wNDY4NzUgLTQuMzI4MTI1IDMuOTY4NzUgLTQuMzI4MTI1IEwgMy4wMzEyNSAtNC4zMjgxMjUgTCAzLjgyODEyNSAtNy4xMjUgQyAzLjkwNjI1IC03LjM5MDYyNSA0LjAxNTYyNSAtNy40Mzc1IDQuNzAzMTI1IC03LjQzNzUgQyA2LjU5Mzc1IC03LjQzNzUgNy4wMTU2MjUgLTcuMjgxMjUgNy4wMTU2MjUgLTYuNTYyNSBDIDcuMDE1NjI1IC02LjQwNjI1IDcgLTYuMjE4NzUgNi45Njg3NSAtNi4wMTU2MjUgTCA3LjIzNDM3NSAtNS45ODQzNzUgWiBNIDcuNjA5Mzc1IC03Ljg0Mzc1ICIvPgo8L3N5bWJvbD4KPHN5bWJvbCBvdmVyZmxvdz0idmlzaWJsZSIgaWQ9ImdseXBoMC0zIj4KPHBhdGggc3R5bGU9InN0cm9rZTpub25lOyIgZD0iTSAyLjkyMTg3NSAtMi4yMzQzNzUgQyAyLjcxODc1IC0zLjI5Njg3NSAyLjA3ODEyNSAtNS4yOTY4NzUgMS44OTA2MjUgLTUuMjk2ODc1IEwgMS44NDM3NSAtNS4yOTY4NzUgQyAxLjIwMzEyNSAtNS4yMDMxMjUgMC43OTY4NzUgLTUuMTI1IDAuNTYyNSAtNS4wNzgxMjUgQyAwLjQzNzUgLTUuMDQ2ODc1IDAuMzEyNSAtNS4wMzEyNSAwLjE4NzUgLTUgTCAwLjE4NzUgLTQuNzk2ODc1IEMgMC4zMTI1IC00Ljg0Mzc1IDAuNDIxODc1IC00Ljg0Mzc1IDAuNTQ2ODc1IC00Ljg0Mzc1IEMgMS4wMzEyNSAtNC44NDM3NSAxLjI1IC00LjY3MTg3NSAxLjQ2ODc1IC00LjA3ODEyNSBDIDEuNzk2ODc1IC0zLjI2NTYyNSAyLjQ1MzEyNSAtMC41NzgxMjUgMi40NTMxMjUgLTAuMDkzNzUgQyAyLjQ1MzEyNSAwLjAzMTI1IDIuNDA2MjUgMC4xODc1IDIuMzQzNzUgMC4zMjgxMjUgQyAyLjI1IDAuNDg0Mzc1IDEuNzAzMTI1IDEuMTg3NSAxLjQ4NDM3NSAxLjQyMTg3NSBDIDEuMjE4NzUgMS43MTg3NSAxLjA2MjUgMS44MTI1IDAuOTA2MjUgMS44MTI1IEMgMC41OTM3NSAxLjgxMjUgMC41OTM3NSAxLjQ2ODc1IDAuMTg3NSAxLjQ2ODc1IEMgLTAuMDc4MTI1IDEuNDY4NzUgLTAuMjgxMjUgMS42ODc1IC0wLjI4MTI1IDEuOTUzMTI1IEMgLTAuMjgxMjUgMi4yNjU2MjUgLTAuMDMxMjUgMi40Njg3NSAwLjMyODEyNSAyLjQ2ODc1IEMgMS4wMTU2MjUgMi40Njg3NSAyLjI5Njg3NSAxLjA5Mzc1IDMuNTQ2ODc1IC0wLjk2ODc1IEMgNC41MzEyNSAtMi42MjUgNS4xMDkzNzUgLTMuOTUzMTI1IDUuMTA5Mzc1IC00LjYyNSBDIDUuMTA5Mzc1IC00Ljk4NDM3NSA0Ljg0Mzc1IC01LjI5Njg3NSA0LjQ4NDM3NSAtNS4yOTY4NzUgQyA0LjIxODc1IC01LjI5Njg3NSA0LjAxNTYyNSAtNS4xMDkzNzUgNC4wMTU2MjUgLTQuODQzNzUgQyA0LjAxNTYyNSAtNC42NTYyNSA0LjA3ODEyNSAtNC41MzEyNSA0LjMxMjUgLTQuMzc1IEMgNC41NDY4NzUgLTQuMjM0Mzc1IDQuNjI1IC00LjE1NjI1IDQuNjI1IC00IEMgNC42MjUgLTMuNDY4NzUgNC4xODc1IC0yLjYwOTM3NSAzLjE3MTg3NSAtMC45MDYyNSBaIE0gMi45MjE4NzUgLTIuMjM0Mzc1ICIvPgo8L3N5bWJvbD4KPHN5bWJvbCBvdmVyZmxvdz0idmlzaWJsZSIgaWQ9ImdseXBoMS0wIj4KPHBhdGggc3R5bGU9InN0cm9rZTpub25lOyIgZD0iTSA3LjY0MDYyNSAtMy44NDM3NSBMIDcuNjQwNjI1IC00LjYyNSBMIDAuNTc4MTI1IC00LjYyNSBMIDAuNTc4MTI1IC0zLjg0Mzc1IFogTSA3LjY0MDYyNSAtMS40Mzc1IEwgNy42NDA2MjUgLTIuMjM0Mzc1IEwgMC41NzgxMjUgLTIuMjM0Mzc1IEwgMC41NzgxMjUgLTEuNDM3NSBaIE0gNy42NDA2MjUgLTEuNDM3NSAiLz4KPC9zeW1ib2w+CjxzeW1ib2wgb3ZlcmZsb3c9InZpc2libGUiIGlkPSJnbHlwaDEtMSI+CjxwYXRoIHN0eWxlPSJzdHJva2U6bm9uZTsiIGQ9Ik0gMS41OTM3NSAwLjE3MTg3NSBMIDEuNTkzNzUgLTguMTA5Mzc1IEwgMC43OTY4NzUgLTguMTA5Mzc1IEwgMC43OTY4NzUgMC4xNzE4NzUgWiBNIDEuNTkzNzUgMC4xNzE4NzUgIi8+Cjwvc3ltYm9sPgo8c3ltYm9sIG92ZXJmbG93PSJ2aXNpYmxlIiBpZD0iZ2x5cGgxLTIiPgo8cGF0aCBzdHlsZT0ic3Ryb2tlOm5vbmU7IiBkPSJNIDcuNDUzMTI1IC0yLjY0MDYyNSBMIDcuNDUzMTI1IC0zLjQzNzUgTCAwLjc2NTYyNSAtMy40Mzc1IEwgMC43NjU2MjUgLTIuNjQwNjI1IFogTSA3LjQ1MzEyNSAtMi42NDA2MjUgIi8+Cjwvc3ltYm9sPgo8c3ltYm9sIG92ZXJmbG93PSJ2aXNpYmxlIiBpZD0iZ2x5cGgxLTMiPgo8cGF0aCBzdHlsZT0ic3Ryb2tlOm5vbmU7IiBkPSJNIDUuMzU5Mzc1IC0zLjU2MjUgTCAzLjE4NzUgLTcuOTM3NSBMIDIuNDUzMTI1IC03LjkzNzUgTCAwLjI4MTI1IC0zLjU2MjUgTCAxLjEwOTM3NSAtMy41NjI1IEwgMi44MTI1IC03LjAzMTI1IEwgNC41MzEyNSAtMy41NjI1IFogTSA1LjM1OTM3NSAtMy41NjI1ICIvPgo8L3N5bWJvbD4KPHN5bWJvbCBvdmVyZmxvdz0idmlzaWJsZSIgaWQ9ImdseXBoMi0wIj4KPHBhdGggc3R5bGU9InN0cm9rZTpub25lOyIgZD0iTSAzLjM1OTM3NSAwIEwgMy4zNTkzNzUgLTAuMTI1IEMgMi43MTg3NSAtMC4xMjUgMi41NDY4NzUgLTAuMjgxMjUgMi41NDY4NzUgLTAuNjQwNjI1IEwgMi41NDY4NzUgLTUuNzM0Mzc1IEwgMi40Njg3NSAtNS43NSBMIDAuOTM3NSAtNC45ODQzNzUgTCAwLjkzNzUgLTQuODU5Mzc1IEwgMS4xNzE4NzUgLTQuOTUzMTI1IEMgMS4zMjgxMjUgLTUgMS40Njg3NSAtNS4wNDY4NzUgMS41NjI1IC01LjA0Njg3NSBDIDEuNzM0Mzc1IC01LjA0Njg3NSAxLjgxMjUgLTQuOTIxODc1IDEuODEyNSAtNC42MjUgTCAxLjgxMjUgLTAuODEyNSBDIDEuODEyNSAtMC4zNDM3NSAxLjY0MDYyNSAtMC4xNTYyNSAxIC0wLjEyNSBMIDEgMCBaIE0gMy4zNTkzNzUgMCAiLz4KPC9zeW1ib2w+CjxzeW1ib2wgb3ZlcmZsb3c9InZpc2libGUiIGlkPSJnbHlwaDItMSI+CjxwYXRoIHN0eWxlPSJzdHJva2U6bm9uZTsiIGQ9Ik0gNS40MjE4NzUgLTIuNzE4NzUgTCA1LjQyMTg3NSAtMy4yODEyNSBMIDAuNDA2MjUgLTMuMjgxMjUgTCAwLjQwNjI1IC0yLjcxODc1IFogTSA1LjQyMTg3NSAtMS4wMTU2MjUgTCA1LjQyMTg3NSAtMS41NzgxMjUgTCAwLjQwNjI1IC0xLjU3ODEyNSBMIDAuNDA2MjUgLTEuMDE1NjI1IFogTSA1LjQyMTg3NSAtMS4wMTU2MjUgIi8+Cjwvc3ltYm9sPgo8c3ltYm9sIG92ZXJmbG93PSJ2aXNpYmxlIiBpZD0iZ2x5cGgzLTAiPgo8cGF0aCBzdHlsZT0ic3Ryb2tlOm5vbmU7IiBkPSJNIDMuOTIxODc1IC0xIEMgMy44NTkzNzUgLTAuOTIxODc1IDMuNzk2ODc1IC0wLjg0Mzc1IDMuNzM0Mzc1IC0wLjc4MTI1IEMgMy40ODQzNzUgLTAuNDUzMTI1IDMuMzQzNzUgLTAuMzI4MTI1IDMuMjE4NzUgLTAuMzI4MTI1IEMgMy4xMDkzNzUgLTAuMzI4MTI1IDMuMDc4MTI1IC0wLjQwNjI1IDMuMDc4MTI1IC0wLjQ4NDM3NSBDIDMuMDc4MTI1IC0wLjU0Njg3NSAzLjEwOTM3NSAtMC42ODc1IDMuMjAzMTI1IC0xIEwgMy42NzE4NzUgLTIuNzE4NzUgQyAzLjczNDM3NSAtMi45MDYyNSAzLjc2NTYyNSAtMy4wNzgxMjUgMy43NjU2MjUgLTMuMjM0Mzc1IEMgMy43NjU2MjUgLTMuNTQ2ODc1IDMuNTc4MTI1IC0zLjc1IDMuMjAzMTI1IC0zLjc1IEMgMi42NzE4NzUgLTMuNzUgMi4wOTM3NSAtMy4yNSAxLjI1IC0xLjg3NSBMIDEuODEyNSAtMy43MzQzNzUgTCAxLjc4MTI1IC0zLjc1IEMgMS4zMjgxMjUgLTMuNjU2MjUgMS4wOTM3NSAtMy42MjUgMC40MDYyNSAtMy40ODQzNzUgTCAwLjQwNjI1IC0zLjM1OTM3NSBDIDAuODI4MTI1IC0zLjM0Mzc1IDAuOTUzMTI1IC0zLjI5Njg3NSAwLjk1MzEyNSAtMy4xMjUgQyAwLjk1MzEyNSAtMy4wNzgxMjUgMC45Mzc1IC0zLjAxNTYyNSAwLjkzNzUgLTIuOTg0Mzc1IEwgMC4xMjUgMCBMIDAuNzY1NjI1IDAgQyAxLjE1NjI1IC0xLjM0Mzc1IDEuMjE4NzUgLTEuNTQ2ODc1IDEuNjA5Mzc1IC0yLjEwOTM3NSBDIDIuMTQwNjI1IC0yLjkwNjI1IDIuNTMxMjUgLTMuMzI4MTI1IDIuODc1IC0zLjMyODEyNSBDIDMgLTMuMzI4MTI1IDMuMDc4MTI1IC0zLjIzNDM3NSAzLjA3ODEyNSAtMy4wNzgxMjUgQyAzLjA3ODEyNSAtMi45Njg3NSAzLjAxNTYyNSAtMi42NzE4NzUgMi45NTMxMjUgLTIuNDA2MjUgTCAyLjU3ODEyNSAtMS4wMTU2MjUgQyAyLjQ2ODc1IC0wLjU3ODEyNSAyLjQzNzUgLTAuNDY4NzUgMi40Mzc1IC0wLjM5MDYyNSBDIDIuNDM3NSAtMC4wNjI1IDIuNjI1IDAuMDc4MTI1IDIuODQzNzUgMC4wNzgxMjUgQyAzLjI1IDAuMDc4MTI1IDMuNDUzMTI1IC0wLjA5Mzc1IDQuMDMxMjUgLTAuODkwNjI1IFogTSAzLjkyMTg3NSAtMSAiLz4KPC9zeW1ib2w+CjxzeW1ib2wgb3ZlcmZsb3c9InZpc2libGUiIGlkPSJnbHlwaDMtMSI+CjxwYXRoIHN0eWxlPSJzdHJva2U6bm9uZTsiIGQ9Ik0gMi4yNSAtNS4wOTM3NSBDIDIuMjUgLTUuMzQzNzUgMi4wNDY4NzUgLTUuNTYyNSAxLjgyODEyNSAtNS41NjI1IEMgMS41OTM3NSAtNS41NjI1IDEuNDIxODc1IC01LjM3NSAxLjQyMTg3NSAtNS4xMjUgQyAxLjQyMTg3NSAtNC44NDM3NSAxLjU3ODEyNSAtNC42NzE4NzUgMS44MjgxMjUgLTQuNjcxODc1IEMgMi4wNDY4NzUgLTQuNjcxODc1IDIuMjUgLTQuODU5Mzc1IDIuMjUgLTUuMDkzNzUgWiBNIDEuODkwNjI1IC0wLjk2ODc1IEMgMS41MzEyNSAtMC40ODQzNzUgMS4zMTI1IC0wLjMxMjUgMS4xNzE4NzUgLTAuMzEyNSBDIDEuMTA5Mzc1IC0wLjMxMjUgMS4wNjI1IC0wLjM0Mzc1IDEuMDYyNSAtMC40Mzc1IEMgMS4wNjI1IC0wLjU0Njg3NSAxLjA5Mzc1IC0wLjY3MTg3NSAxLjE0MDYyNSAtMC44MTI1IEwgMS45Mzc1IC0zLjczNDM3NSBMIDEuOTA2MjUgLTMuNzUgQyAxLjA0Njg3NSAtMy41OTM3NSAwLjg3NSAtMy41NjI1IDAuNTQ2ODc1IC0zLjU0Njg3NSBMIDAuNTQ2ODc1IC0zLjQwNjI1IEMgMSAtMy4zOTA2MjUgMS4wOTM3NSAtMy4zNzUgMS4wOTM3NSAtMy4yMDMxMjUgQyAxLjA5Mzc1IC0zLjE0MDYyNSAxLjA2MjUgLTIuOTg0Mzc1IDEuMDE1NjI1IC0yLjgyODEyNSBMIDAuNjA5Mzc1IC0xLjMxMjUgQyAwLjQ4NDM3NSAtMC44NDM3NSAwLjQyMTg3NSAtMC41NDY4NzUgMC40MjE4NzUgLTAuMzc1IEMgMC40MjE4NzUgLTAuMDYyNSAwLjU0Njg3NSAwLjA5Mzc1IDAuODI4MTI1IDAuMDkzNzUgQyAxLjI2NTYyNSAwLjA5Mzc1IDEuNTMxMjUgLTAuMTU2MjUgMiAtMC44NzUgWiBNIDEuODkwNjI1IC0wLjk2ODc1ICIvPgo8L3N5bWJvbD4KPHN5bWJvbCBvdmVyZmxvdz0idmlzaWJsZSIgaWQ9ImdseXBoNC0wIj4KPHBhdGggc3R5bGU9InN0cm9rZTpub25lOyIgZD0iTSAwLjU2MjUgMTIuMDE1NjI1IEMgMC41MDc4MTIgMTIuMDE1NjI1IDAuNDg0Mzc1IDExLjk4NDM3NSAwLjQ4NDM3NSAxMS45MjE4NzUgQyAwLjQ4NDM3NSAxMS44OTA2MjUgMC40ODgyODEgMTEuODY3MTg4IDAuNSAxMS44NTkzNzUgTCA0Ljk4NDM3NSA2LjU3ODEyNSBMIDAuNSAwLjM3NSBDIDAuNDg4MjgxIDAuMzYzMjgxIDAuNDg0Mzc1IDAuMzQ3NjU2IDAuNDg0Mzc1IDAuMzI4MTI1IEwgMC40ODQzNzUgMC4wNzgxMjUgQyAwLjQ4NDM3NSAwLjA1NDY4NzUgMC40ODgyODEgMC4wMzUxNTYyIDAuNSAwLjAxNTYyNSBDIDAuNTE5NTMxIDAuMDAzOTA2MjUgMC41MzkwNjIgMCAwLjU2MjUgMCBMIDEwLjc2NTYyNSAwIEwgMTEuNzk2ODc1IDIuNDA2MjUgTCAxMS41NDY4NzUgMi40MDYyNSBDIDExLjI3MzQzOCAxLjgwMDc4MSAxMC44MzIwMzEgMS4zNDc2NTYgMTAuMjE4NzUgMS4wNDY4NzUgQyA5LjYwMTU2MiAwLjc1MzkwNiA4Ljk1NzAzMSAwLjU3MDMxMiA4LjI4MTI1IDAuNSBDIDcuNjEzMjgxIDAuNDM3NSA2LjgzNTkzOCAwLjQwNjI1IDUuOTUzMTI1IDAuNDA2MjUgTCAyLjAxNTYyNSAwLjQwNjI1IEwgNi4wMzEyNSA1LjkzNzUgQyA2LjAzOTA2MiA1Ljk2ODc1IDYuMDQ2ODc1IDUuOTg4MjgxIDYuMDQ2ODc1IDYgQyA2LjA0Njg3NSA2LjAxOTUzMSA2LjAzOTA2MiA2LjAzOTA2MiA2LjAzMTI1IDYuMDYyNSBMIDEuNjI1IDExLjI1IEwgNi4wMzEyNSAxMS4yNSBDIDYuOTA2MjUgMTEuMjUgNy42NzU3ODEgMTEuMjEwOTM4IDguMzQzNzUgMTEuMTQwNjI1IEMgOS4wMTk1MzEgMTEuMDc4MTI1IDkuNjYwMTU2IDEwLjg5NDUzMSAxMC4yNjU2MjUgMTAuNTkzNzUgQyAxMC44Nzg5MDYgMTAuMzAwNzgxIDExLjMwNDY4OCA5Ljg1MTU2MiAxMS41NDY4NzUgOS4yNSBMIDExLjc5Njg3NSA5LjI1IEwgMTAuNzY1NjI1IDEyLjAxNTYyNSBaIE0gMC41NjI1IDEyLjAxNTYyNSAiLz4KPC9zeW1ib2w+CjwvZz4KPC9kZWZzPgo8ZyBpZD0ic3VyZmFjZTEiPgo8ZyBzdHlsZT0iZmlsbDpyZ2IoMCUsMCUsMCUpO2ZpbGwtb3BhY2l0eToxOyI+CiAgPHVzZSB4bGluazpocmVmPSIjZ2x5cGgwLTAiIHg9IjAuODg2NzE5IiB5PSIxMS42NzE4NzUiLz4KPC9nPgo8ZyBzdHlsZT0iZmlsbDpyZ2IoMCUsMCUsMCUpO2ZpbGwtb3BhY2l0eToxOyI+CiAgPHVzZSB4bGluazpocmVmPSIjZ2x5cGgwLTEiIHg9IjEzLjI5Njg3NSIgeT0iMTEuNjcxODc1Ii8+CjwvZz4KPGcgc3R5bGU9ImZpbGw6cmdiKDAlLDAlLDAlKTtmaWxsLW9wYWNpdHk6MTsiPgogIDx1c2UgeGxpbms6aHJlZj0iI2dseXBoMC0yIiB4PSIyMS40MTAxNTYiIHk9IjExLjY3MTg3NSIvPgo8L2c+CjxnIHN0eWxlPSJmaWxsOnJnYigwJSwwJSwwJSk7ZmlsbC1vcGFjaXR5OjE7Ij4KICA8dXNlIHhsaW5rOmhyZWY9IiNnbHlwaDEtMCIgeD0iMzMuMTA5Mzc1IiB5PSIxMS42NzE4NzUiLz4KPC9nPgo8cGF0aCBzdHlsZT0iZmlsbDpub25lO3N0cm9rZS13aWR0aDoxLjI7c3Ryb2tlLWxpbmVjYXA6YnV0dDtzdHJva2UtbGluZWpvaW46bWl0ZXI7c3Ryb2tlOnJnYigwJSwwJSwwJSk7c3Ryb2tlLW9wYWNpdHk6MTtzdHJva2UtbWl0ZXJsaW1pdDoxMDsiIGQ9Ik0gNDYuMDgyMDMxIC0zLjAzOTA2NyBMIDUwLjkzNzUgLTMuMDM5MDY3ICIgdHJhbnNmb3JtPSJtYXRyaXgoMSwwLDAsMSwwLDExLjY3MTg3OSkiLz4KPGcgc3R5bGU9ImZpbGw6cmdiKDAlLDAlLDAlKTtmaWxsLW9wYWNpdHk6MTsiPgogIDx1c2UgeGxpbms6aHJlZj0iI2dseXBoMi0wIiB4PSI0Ni4zNjMyODEiIHk9IjUuNzY5NTMxIi8+CjwvZz4KPGcgc3R5bGU9ImZpbGw6cmdiKDAlLDAlLDAlKTtmaWxsLW9wYWNpdHk6MTsiPgogIDx1c2UgeGxpbms6aHJlZj0iI2dseXBoMy0wIiB4PSI0Ni40MzM1OTQiIHk9IjE2LjM3ODkwNiIvPgo8L2c+CjxnIHN0eWxlPSJmaWxsOnJnYigwJSwwJSwwJSk7ZmlsbC1vcGFjaXR5OjE7Ij4KICA8dXNlIHhsaW5rOmhyZWY9IiNnbHlwaDQtMCIgeD0iNTIuNDYwOTM4IiB5PSIyLjYzMzc2NSIvPgo8L2c+CjxnIHN0eWxlPSJmaWxsOnJnYigwJSwwJSwwJSk7ZmlsbC1vcGFjaXR5OjE7Ij4KICA8dXNlIHhsaW5rOmhyZWY9IiNnbHlwaDMtMSIgeD0iNjQuOTY4NzUiIHk9IjE1LjcxMDkzOCIvPgo8L2c+CjxnIHN0eWxlPSJmaWxsOnJnYigwJSwwJSwwJSk7ZmlsbC1vcGFjaXR5OjE7Ij4KICA8dXNlIHhsaW5rOmhyZWY9IiNnbHlwaDItMSIgeD0iNzEuMDg5ODQ0IiB5PSIxNS43MTA5MzgiLz4KPC9nPgo8ZyBzdHlsZT0iZmlsbDpyZ2IoMCUsMCUsMCUpO2ZpbGwtb3BhY2l0eToxOyI+CiAgPHVzZSB4bGluazpocmVmPSIjZ2x5cGgyLTAiIHg9Ijc5Ljg1NTQ2OSIgeT0iMTUuNzEwOTM4Ii8+CjwvZz4KPGcgc3R5bGU9ImZpbGw6cmdiKDAlLDAlLDAlKTtmaWxsLW9wYWNpdHk6MTsiPgogIDx1c2UgeGxpbms6aHJlZj0iI2dseXBoMy0wIiB4PSI2NS4yNjU2MjUiIHk9IjUuODY3MTg4Ii8+CjwvZz4KPGcgc3R5bGU9ImZpbGw6cmdiKDAlLDAlLDAlKTtmaWxsLW9wYWNpdHk6MTsiPgogIDx1c2UgeGxpbms6aHJlZj0iI2dseXBoMS0xIiB4PSI4NS41NTg1OTQiIHk9IjExLjY3MTg3NSIvPgo8L2c+CjxnIHN0eWxlPSJmaWxsOnJnYigwJSwwJSwwJSk7ZmlsbC1vcGFjaXR5OjE7Ij4KICA8dXNlIHhsaW5rOmhyZWY9IiNnbHlwaDAtMyIgeD0iODguNzY1NjI1IiB5PSIxMS42NzE4NzUiLz4KPC9nPgo8ZyBzdHlsZT0iZmlsbDpyZ2IoMCUsMCUsMCUpO2ZpbGwtb3BhY2l0eToxOyI+CiAgPHVzZSB4bGluazpocmVmPSIjZ2x5cGgzLTEiIHg9Ijk0LjU5Mzc1IiB5PSIxNC4xOTUzMTIiLz4KPC9nPgo8ZyBzdHlsZT0iZmlsbDpyZ2IoMCUsMCUsMCUpO2ZpbGwtb3BhY2l0eToxOyI+CiAgPHVzZSB4bGluazpocmVmPSIjZ2x5cGgxLTIiIHg9Ijk5Ljg4MjgxMiIgeT0iMTEuNjcxODc1Ii8+CjwvZz4KPGcgc3R5bGU9ImZpbGw6cmdiKDAlLDAlLDAlKTtmaWxsLW9wYWNpdHk6MTsiPgogIDx1c2UgeGxpbms6aHJlZj0iI2dseXBoMC0zIiB4PSIxMTEuNjE3MTg4IiB5PSIxMS42NzE4NzUiLz4KPC9nPgo8ZyBzdHlsZT0iZmlsbDpyZ2IoMCUsMCUsMCUpO2ZpbGwtb3BhY2l0eToxOyI+CiAgPHVzZSB4bGluazpocmVmPSIjZ2x5cGgxLTMiIHg9IjExMS4yMTA5MzgiIHk9IjcuOTM3NSIvPgo8L2c+CjxnIHN0eWxlPSJmaWxsOnJnYigwJSwwJSwwJSk7ZmlsbC1vcGFjaXR5OjE7Ij4KICA8dXNlIHhsaW5rOmhyZWY9IiNnbHlwaDMtMSIgeD0iMTE3LjQ0NTMxMiIgeT0iMTQuMTk1MzEyIi8+CjwvZz4KPGcgc3R5bGU9ImZpbGw6cmdiKDAlLDAlLDAlKTtmaWxsLW9wYWNpdHk6MTsiPgogIDx1c2UgeGxpbms6aHJlZj0iI2dseXBoMS0xIiB4PSIxMjAuMDM5MDYyIiB5PSIxMS42NzE4NzUiLz4KPC9nPgo8L2c+Cjwvc3ZnPgo="
     ]
    }
   },
   "cell_type": "markdown",
   "metadata": {},
   "source": [
    "![rumus13.svg](attachment:rumus13.svg)"
   ]
  },
  {
   "cell_type": "markdown",
   "metadata": {},
   "source": [
    "\n",
    "$yi$ = merepresentasikan setiap nilai target pada testing set.\n",
    "\n",
    "$\\hat{y}_i$ = merepresentasikan nilai prediksi yang dihasilkan oleh model kita"
   ]
  },
  {
   "cell_type": "markdown",
   "metadata": {},
   "source": [
    "Disini yang dihitung adalah selisih antara $yi$ dengan $\\hat{y}_i$. Proses tersebut memungkinkan untuk menghasilkan nilai positif maupun nilai negatif. Jika hasil prediksinya ternyata lebih kecil dari nilai yang seharusnya, maka nilainya akan menjadi positif. Jika hasil prediksinya ternyata lebih besar dari nilai yang seharusnya, maka nilainya akan menjadi negatif. Untuk menghindari nilai negatif, maka kita harus menerapkan yang namanya absolute function. Absolute function ini akan menghilangkan nilai negatif artinya semua hasilnya, baik itu negatif maupun positif akan diubah menjadi nilai positif. Lalu berikutnya, selisih nilai ini akan diakumulasikan atau dijumlahkan untuk berikutnya kita akan bagi dengan 'n'. 'n' merepresentasikan jumlah data pointnya."
   ]
  },
  {
   "cell_type": "markdown",
   "metadata": {},
   "source": [
    "### Mean Squared Error (MSE) atau Mean Squared Deviation (MSD) \n",
    "\n",
    "\n",
    "MSE merupakan rata-rata dari error kuadrat untuk prediksi."
   ]
  },
  {
   "cell_type": "code",
   "execution_count": 21,
   "metadata": {},
   "outputs": [
    {
     "name": "stdout",
     "output_type": "stream",
     "text": [
      "MSE : 0.004666666666666421\n"
     ]
    }
   ],
   "source": [
    "from sklearn.metrics import mean_squared_error\n",
    "\n",
    "MSE = mean_squared_error(y_test, y_pred)\n",
    "\n",
    "print(f'MSE : {MSE}')"
   ]
  },
  {
   "cell_type": "markdown",
   "metadata": {},
   "source": [
    "$y_i$ merupakan nilai target dari testing set.\n",
    "\n",
    "$\\hat{y}_i$ merupakan nilai estimasi yang dihasilkan oleh model kita"
   ]
  },
  {
   "cell_type": "markdown",
   "metadata": {},
   "source": [
    "Kedua nilai tersebut kita selisihkan yang dimana serupa dengan kasus sebelumnya, selisih kedua nilai terebut bisa postif dan juga bisa bernilai negatif. Jika ternyata nilai prediksinya lebih besar dari nilai sebenarnya, maka akan menghasilkan nilai negatif. Sedangkan jika nilai prediksinya lebih kecil dari nilai sebenarnya atau nilai ekspetasinya, maka akan menghasilkan nilai positif. Untuk menghindari nilai negatif pada $mse$, selisih nilainya akan kita pangkatkan 2. Lalu berikutnya, hasil pemangkata ini akan kita akumulasikan untuk kemudian kita bagi dengan 'n' yang diman 'n' merupakan jumlah untuk data pointnya."
   ]
  },
  {
   "cell_type": "markdown",
   "metadata": {},
   "source": [
    "### Dataset"
   ]
  },
  {
   "cell_type": "markdown",
   "metadata": {},
   "source": [
    "#### Menerapkan Standard Scaler (Standard Score atau Z-Score)"
   ]
  },
  {
   "attachments": {
    "rumus15.svg": {
     "image/svg+xml": [
      "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"
     ]
    }
   },
   "cell_type": "markdown",
   "metadata": {},
   "source": [
    "![rumus15.svg](attachment:rumus15.svg)"
   ]
  },
  {
   "cell_type": "markdown",
   "metadata": {},
   "source": [
    "$x$ : merepresentasikan nilai features.\n",
    "\n",
    "$\\bar{x}$ : merepresentasikan rata-rata nilai features.\n",
    "\n",
    "$S$ : merepresentasikan nilai standard deviation dari sekumpulan nilai features.\n",
    "\n",
    "$z$ : merepresentasikan nilai z-score."
   ]
  },
  {
   "cell_type": "code",
   "execution_count": 23,
   "metadata": {},
   "outputs": [],
   "source": [
    "import numpy as np\n",
    "from sklearn.preprocessing import StandardScaler\n",
    "ss = StandardScaler()\n",
    "\n",
    "X_train = np.array([[1, 296], [1, 242], [2, 242], [3, 222], [3, 222]])\n",
    "y_train = np.array([24., 21.6, 34.7, 33.4, 36.2])\n",
    "\n",
    "X_test = np.array([[1, 296], [2, 242], [2, 242], [3, 222],[3, 222]])\n",
    "y_test = np.array([26.8, 30.0, 30.0, 34.8, 34.8])"
   ]
  },
  {
   "cell_type": "markdown",
   "metadata": {},
   "source": [
    "Pada training set disediakan X_train untuk menampung sekumpulan nilai features dan juga sekumpulan nilai target. Sedangkan pada Test set berisi sekumpulan nilai y_test features dan juga y_test terget."
   ]
  },
  {
   "cell_type": "markdown",
   "metadata": {},
   "source": [
    "### Features Scaling (Standaed Scaler)"
   ]
  },
  {
   "cell_type": "code",
   "execution_count": 26,
   "metadata": {},
   "outputs": [
    {
     "name": "stdout",
     "output_type": "stream",
     "text": [
      "X_train_scaled:\n",
      "[[-1.11803399  1.88807812]\n",
      " [-1.11803399 -0.10325427]\n",
      " [ 0.         -0.10325427]\n",
      " [ 1.11803399 -0.84078479]\n",
      " [ 1.11803399 -0.84078479]]\n",
      "\n",
      "X_test_scaled:\n",
      "[[-1.11803399  1.88807812]\n",
      " [ 0.         -0.10325427]\n",
      " [ 0.         -0.10325427]\n",
      " [ 1.11803399 -0.84078479]\n",
      " [ 1.11803399 -0.84078479]]\n",
      "\n"
     ]
    }
   ],
   "source": [
    "X_train_scaled = ss.fit_transform(X_train)\n",
    "X_test_scaled = ss.transform(X_test)\n",
    "\n",
    "print(f'X_train_scaled:\\n{X_train_scaled}\\n')\n",
    "print(f'X_test_scaled:\\n{X_test_scaled}\\n')"
   ]
  },
  {
   "cell_type": "markdown",
   "metadata": {},
   "source": [
    "Langkah pertama adalah memanggil ss.fit_transform(X_train) yang kemudian ditampung pada variabel X_train_scaled. Kemudian juga memanggil ss.transform(X_test) yang ditampung pada variabek X_test_scaled."
   ]
  },
  {
   "cell_type": "markdown",
   "metadata": {},
   "source": [
    "### Training dan Evaluasi Model"
   ]
  },
  {
   "cell_type": "code",
   "execution_count": 27,
   "metadata": {},
   "outputs": [
    {
     "name": "stdout",
     "output_type": "stream",
     "text": [
      "MAE: 0.05999999999999801\n",
      "MSE: 0.004666666666666421\n"
     ]
    }
   ],
   "source": [
    "model.fit(X_train_scaled, y_train)\n",
    "y_pred = model.predict(X_test_scaled)\n",
    "\n",
    "MAE = mean_absolute_error(y_test, y_pred)\n",
    "MSE = mean_squared_error(y_test, y_pred)\n",
    "\n",
    "print(f'MAE: {MAE}')\n",
    "print(f'MSE: {MSE}')"
   ]
  },
  {
   "cell_type": "markdown",
   "metadata": {},
   "source": [
    "Objek modelnhya ditraining dengan menyertakan model.fit(X_train_scaled, y_train) sebagai parameternya. Setelah dilakukan training set, kemudian akan dilakukan prediksi dengan memanggil model.predict dan menyertakan (X_test_scaled) yang akan ditampung dalam variabel y_pred. Setelah itu akan dihitung nilai errornya dengan memanggil mean_absolute_errir(y_test, y_pred) yang ditampung pada variabel MAE. Sedangkan untum menghitung MSE caranya adalah dengan memanggil mean_squared_error(y_test, y_pred) yang ditampung dalam variabel MSE. Hasil dari MAE dan MSE dengan menggunakan features scalinh lebih baik dibandingkan dengan tidak menggunakannya karena hasik MSE dan MAE jauh lebih kecil dibandingkan sebelumnya."
   ]
  }
 ],
 "metadata": {
  "kernelspec": {
   "display_name": "Python 3",
   "language": "python",
   "name": "python3"
  },
  "language_info": {
   "codemirror_mode": {
    "name": "ipython",
    "version": 3
   },
   "file_extension": ".py",
   "mimetype": "text/x-python",
   "name": "python",
   "nbconvert_exporter": "python",
   "pygments_lexer": "ipython3",
   "version": "3.8.5"
  }
 },
 "nbformat": 4,
 "nbformat_minor": 4
}
