{
 "cells": [
  {
   "cell_type": "markdown",
   "metadata": {},
   "source": [
    "08 Multiple Linear Regression & Polynomial Regression"
   ]
  },
  {
   "cell_type": "markdown",
   "metadata": {},
   "source": [
    "Sample Dataset\n",
    "\n",
    "Dataset berisi diameter, jumlah topping, dan harga sejumlah pizza yang akan ditampung dalam format pandas dataframe. "
   ]
  },
  {
   "cell_type": "code",
   "execution_count": 3,
   "metadata": {},
   "outputs": [
    {
     "data": {
      "text/html": [
       "<div>\n",
       "<style scoped>\n",
       "    .dataframe tbody tr th:only-of-type {\n",
       "        vertical-align: middle;\n",
       "    }\n",
       "\n",
       "    .dataframe tbody tr th {\n",
       "        vertical-align: top;\n",
       "    }\n",
       "\n",
       "    .dataframe thead th {\n",
       "        text-align: right;\n",
       "    }\n",
       "</style>\n",
       "<table border=\"1\" class=\"dataframe\">\n",
       "  <thead>\n",
       "    <tr style=\"text-align: right;\">\n",
       "      <th></th>\n",
       "      <th>diameter</th>\n",
       "      <th>n_topping</th>\n",
       "      <th>harga</th>\n",
       "    </tr>\n",
       "  </thead>\n",
       "  <tbody>\n",
       "    <tr>\n",
       "      <th>0</th>\n",
       "      <td>6</td>\n",
       "      <td>2</td>\n",
       "      <td>7.0</td>\n",
       "    </tr>\n",
       "    <tr>\n",
       "      <th>1</th>\n",
       "      <td>8</td>\n",
       "      <td>1</td>\n",
       "      <td>9.0</td>\n",
       "    </tr>\n",
       "    <tr>\n",
       "      <th>2</th>\n",
       "      <td>10</td>\n",
       "      <td>0</td>\n",
       "      <td>13.0</td>\n",
       "    </tr>\n",
       "    <tr>\n",
       "      <th>3</th>\n",
       "      <td>14</td>\n",
       "      <td>2</td>\n",
       "      <td>17.5</td>\n",
       "    </tr>\n",
       "    <tr>\n",
       "      <th>4</th>\n",
       "      <td>18</td>\n",
       "      <td>0</td>\n",
       "      <td>18.0</td>\n",
       "    </tr>\n",
       "  </tbody>\n",
       "</table>\n",
       "</div>"
      ],
      "text/plain": [
       "   diameter  n_topping  harga\n",
       "0         6          2    7.0\n",
       "1         8          1    9.0\n",
       "2        10          0   13.0\n",
       "3        14          2   17.5\n",
       "4        18          0   18.0"
      ]
     },
     "execution_count": 3,
     "metadata": {},
     "output_type": "execute_result"
    }
   ],
   "source": [
    "#Training Dataset\n",
    "\n",
    "import pandas as pd\n",
    "\n",
    "pizza = {'diameter': [6, 8, 10, 14, 18], \n",
    "         'n_topping': [2, 1, 0, 2, 0],\n",
    "         'harga': [7, 9, 13, 17.5, 18]}\n",
    "\n",
    "train_pizza_df = pd.DataFrame(pizza)\n",
    "train_pizza_df"
   ]
  },
  {
   "cell_type": "markdown",
   "metadata": {},
   "source": [
    "Import pandas as pd. Ada 3 dataset dictionary, yaitu diameter, jumlah topping, dan harga. Setiap dataset akan mengisi sekumpulan bilangan yang berasosiasi. Dictionary tersebut ditampung dalam variabel pizza yang kemudian dapat digunakan untuk menggunakan data framw dengan memanggil pd.DataFrame(pizza) yang ditampung dalam variabel train_pizza_df."
   ]
  },
  {
   "cell_type": "code",
   "execution_count": 4,
   "metadata": {},
   "outputs": [
    {
     "data": {
      "text/html": [
       "<div>\n",
       "<style scoped>\n",
       "    .dataframe tbody tr th:only-of-type {\n",
       "        vertical-align: middle;\n",
       "    }\n",
       "\n",
       "    .dataframe tbody tr th {\n",
       "        vertical-align: top;\n",
       "    }\n",
       "\n",
       "    .dataframe thead th {\n",
       "        text-align: right;\n",
       "    }\n",
       "</style>\n",
       "<table border=\"1\" class=\"dataframe\">\n",
       "  <thead>\n",
       "    <tr style=\"text-align: right;\">\n",
       "      <th></th>\n",
       "      <th>diameter</th>\n",
       "      <th>n_topping</th>\n",
       "      <th>harga</th>\n",
       "    </tr>\n",
       "  </thead>\n",
       "  <tbody>\n",
       "    <tr>\n",
       "      <th>0</th>\n",
       "      <td>8</td>\n",
       "      <td>2</td>\n",
       "      <td>11.0</td>\n",
       "    </tr>\n",
       "    <tr>\n",
       "      <th>1</th>\n",
       "      <td>9</td>\n",
       "      <td>0</td>\n",
       "      <td>8.5</td>\n",
       "    </tr>\n",
       "    <tr>\n",
       "      <th>2</th>\n",
       "      <td>11</td>\n",
       "      <td>2</td>\n",
       "      <td>15.0</td>\n",
       "    </tr>\n",
       "    <tr>\n",
       "      <th>3</th>\n",
       "      <td>16</td>\n",
       "      <td>2</td>\n",
       "      <td>18.0</td>\n",
       "    </tr>\n",
       "    <tr>\n",
       "      <th>4</th>\n",
       "      <td>12</td>\n",
       "      <td>0</td>\n",
       "      <td>11.0</td>\n",
       "    </tr>\n",
       "  </tbody>\n",
       "</table>\n",
       "</div>"
      ],
      "text/plain": [
       "   diameter  n_topping  harga\n",
       "0         8          2   11.0\n",
       "1         9          0    8.5\n",
       "2        11          2   15.0\n",
       "3        16          2   18.0\n",
       "4        12          0   11.0"
      ]
     },
     "execution_count": 4,
     "metadata": {},
     "output_type": "execute_result"
    }
   ],
   "source": [
    "#Testing Dataset\n",
    "pizza = {'diameter': [8, 9, 11, 16, 12], \n",
    "         'n_topping': [2, 0, 2, 2, 0],\n",
    "         'harga': [11, 8.5, 15, 18, 11]}\n",
    "\n",
    "test_pizza_df = pd.DataFrame(pizza)\n",
    "test_pizza_df"
   ]
  },
  {
   "cell_type": "markdown",
   "metadata": {},
   "source": [
    "Testing data set sama persis tahapannya dengan training dataset, hanya saja bilangan tiap datasetnya sudah berbeda. Untuk menampilkan hasilnya maka dengan memanggil variabel test_pizza_df yang memuat pandas dataframe pizza. Data diameter dan topping berperan sebagai feature dan harga sebagai target. "
   ]
  },
  {
   "cell_type": "markdown",
   "metadata": {},
   "source": [
    "Preprocessing Dataset"
   ]
  },
  {
   "cell_type": "code",
   "execution_count": 5,
   "metadata": {},
   "outputs": [
    {
     "name": "stdout",
     "output_type": "stream",
     "text": [
      "X_train:\n",
      "[[ 6  2]\n",
      " [ 8  1]\n",
      " [10  0]\n",
      " [14  2]\n",
      " [18  0]]\n",
      "\n",
      "y_train: [ 7.   9.  13.  17.5 18. ]\n"
     ]
    }
   ],
   "source": [
    "import numpy as np\n",
    "\n",
    "X_train = np.array(train_pizza_df[['diameter', 'n_topping']])\n",
    "y_train = np.array(train_pizza_df['harga'])\n",
    "\n",
    "print(f'X_train:\\n{X_train}\\n')\n",
    "print(f'y_train: {y_train}')"
   ]
  },
  {
   "cell_type": "markdown",
   "metadata": {},
   "source": [
    "Diameter dan topping akan dikonversikan ke dalam numpy array dan ditampung dalam variabel X_train sebagai sekumpulan feature training set dan y_train sebagai sekumpulan data target untuk training set."
   ]
  },
  {
   "cell_type": "code",
   "execution_count": 6,
   "metadata": {},
   "outputs": [
    {
     "name": "stdout",
     "output_type": "stream",
     "text": [
      "X_test:\n",
      "[[ 8  2]\n",
      " [ 9  0]\n",
      " [11  2]\n",
      " [16  2]\n",
      " [12  0]]\n",
      "\n",
      "y_test: [11.   8.5 15.  18.  11. ]\n"
     ]
    }
   ],
   "source": [
    "X_test = np.array(test_pizza_df[['diameter', 'n_topping']])\n",
    "y_test = np.array(test_pizza_df['harga'])\n",
    "\n",
    "print(f'X_test:\\n{X_test}\\n')\n",
    "print(f'y_test: {y_test}')"
   ]
  },
  {
   "cell_type": "markdown",
   "metadata": {},
   "source": [
    "Prosesnya sama dengan training set. Pada testing set variabel X_test berisi sekumpulan feature dalam testing set."
   ]
  },
  {
   "cell_type": "markdown",
   "metadata": {},
   "source": [
    "Dataset yang akan ditampung dalam numpy aray harus import numpy as np. Selanjutnya memisahkan featjres dan targetnya. Features dalam kasus ini adalah diameter dan jumlah topping. Nilai dari features tersebut akan diasosiasikan dengan numpy array dengan memanggil np.array(train_pizza_df[['diameter', 'n_topping']]) yang akan ditampung dalam variabel X_train. Sedangkan kolom harga termasuk ke dalam target pada numpy array dengan memanggil np.array(train_pizza_df['harga']) yang ditamlung dalam variabel y_train untuk mengetehaui target prediksinya. X_train selalu memiliki format array 2 dimensi, sedangkan y_train selalu dengan format array 1 dimensi. Hal yang sama juga dilakukan pada proses testing set dengan mengikuti langkah-langkah seperti training set, tetapi yang menjadi pembeda adalah pada saat memanggil yang awalnya X_train menjadi X_test dan y_train menjadi y_test."
   ]
  },
  {
   "cell_type": "markdown",
   "metadata": {},
   "source": [
    "*Multiple Linear Regression*\n",
    "\n",
    "\n",
    "Merupakan generalisasi dari Simple Linear Regression yang memungkinkan untuk menggunakan beberapa explantory variabel. Perbedaan dari multiple linear regression dan simple linear regression terdapat pada jumlah feature. Pada simple linear hanya menggunakan 1 feature untuk melakukan prediksi nilai, sedangkam pada multiple linear menggunakan lebih dari 1 feature.\n"
   ]
  },
  {
   "attachments": {
    "rumus16.svg": {
     "image/svg+xml": [
      "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"
     ]
    }
   },
   "cell_type": "markdown",
   "metadata": {},
   "source": [
    "![rumus16.svg](attachment:rumus16.svg)"
   ]
  },
  {
   "cell_type": "markdown",
   "metadata": {},
   "source": [
    "- Setiap nilai x akan dikalikan dengan beta"
   ]
  },
  {
   "cell_type": "code",
   "execution_count": 10,
   "metadata": {},
   "outputs": [
    {
     "name": "stdout",
     "output_type": "stream",
     "text": [
      "r_squared: 0.7701677731318468\n"
     ]
    }
   ],
   "source": [
    "from sklearn.linear_model import LinearRegression\n",
    "from sklearn.metrics import r2_score\n",
    "\n",
    "model = LinearRegression()\n",
    "model.fit(X_train, y_train)\n",
    "y_pred = model.predict(X_test)\n",
    "    \n",
    "print(f'r_squared: {r2_score(y_test, y_pred)}')"
   ]
  },
  {
   "cell_type": "markdown",
   "metadata": {},
   "source": [
    "Melakukan import model dengan memanggil from sklearn.linear_model import LinearRegression. Sedangkan, untuk memanggil metricsnya maka harus memanggil from sklearn.metrics import r2_score. Kemudian membentuk objek model dengan memanggik LinearRegression() dan ditampung dalam variabel model. Setelah itu, melakukan proses training model dengan memanggil model.fit(X_train, y_train). Selanjutnya setelah menjadi train model, maka akan dilakukan prediksi terhadap feature yang ada dalam testing set dengan memanggil model.predict(X_test) yang kemudian hasilnya akan ditampung dalam variabel y_pred. Hasil prediksi dibutuhkan untuk mengukur performa dengan menggunakan r2_score yang didalamnya terdapat y_test dan y_pred."
   ]
  },
  {
   "cell_type": "markdown",
   "metadata": {},
   "source": [
    "*Polynomial Regression*\n",
    "\n",
    "\n",
    "Memodelkan hubungan antar independent variabel x (feature) dan dependent variabel y (target) sebagai derajat polynomial dalam x. "
   ]
  },
  {
   "cell_type": "code",
   "execution_count": 11,
   "metadata": {},
   "outputs": [
    {
     "name": "stdout",
     "output_type": "stream",
     "text": [
      "X_train:\n",
      "[[ 6]\n",
      " [ 8]\n",
      " [10]\n",
      " [14]\n",
      " [18]]\n",
      "\n",
      "y_train: [ 7.   9.  13.  17.5 18. ]\n"
     ]
    }
   ],
   "source": [
    "#Preprocessing Dataset\n",
    "X_train = np.array(train_pizza_df['diameter']).reshape(-1, 1)\n",
    "y_train = np.array(train_pizza_df['harga'])\n",
    "\n",
    "print(f'X_train:\\n{X_train}\\n')\n",
    "print(f'y_train: {y_train}')"
   ]
  },
  {
   "cell_type": "markdown",
   "metadata": {},
   "source": [
    "Feature yang digunakan hanya satu, yaitu diameter pizza dan targetnya adalah harga pizza. Langkah pertama adalah dengan menggunakan numpy array, yaitu np.array(train_pizza_df['diameter\"]).reshape(-1, 1) yang ditampung pada variabel X_train. Reshape (-1, 1) dilakukan agar hasilnya akan menjadi array 2 dimensi karena feature yang dimiliki hanya 1 kolom, oleh karena itu dilakukan transform menjadi 2 dimensi dengan menggunakan methkde reshape. Pada array kedua menampung nilai target dengan memanggil np.array(train_pizza_df['harga\"]) yang akan ditampung dalam variabel y_train. \n"
   ]
  },
  {
   "cell_type": "markdown",
   "metadata": {},
   "source": [
    "*Polynomial Regression Quadratic*\n",
    "\n",
    "\n",
    "Membahas derajat polynomial 2 atau quadratic."
   ]
  },
  {
   "attachments": {
    "rumus17.svg": {
     "image/svg+xml": [
      "PHN2ZyB4bWxucz0iaHR0cDovL3d3dy53My5vcmcvMjAwMC9zdmciIHhtbG5zOnhsaW5rPSJodHRwOi8vd3d3LnczLm9yZy8xOTk5L3hsaW5rIiB3aWR0aD0iOTUuNjU3NjkycHQiIGhlaWdodD0iMTEuNXB0IiB2aWV3Qm94PSIwIDAgOTUuNjU3NjkyIDExLjUiIHZlcnNpb249IjEuMSI+CjxkZWZzPgo8Zz4KPHN5bWJvbCBvdmVyZmxvdz0idmlzaWJsZSIgaWQ9ImdseXBoMC0wIj4KPHBhdGggc3R5bGU9InN0cm9rZTpub25lOyIgZD0iTSAyLjkyMTg3NSAtMi4yMzQzNzUgQyAyLjcxODc1IC0zLjI5Njg3NSAyLjA3ODEyNSAtNS4yOTY4NzUgMS44OTA2MjUgLTUuMjk2ODc1IEwgMS44NDM3NSAtNS4yOTY4NzUgQyAxLjIwMzEyNSAtNS4yMDMxMjUgMC43OTY4NzUgLTUuMTI1IDAuNTYyNSAtNS4wNzgxMjUgQyAwLjQzNzUgLTUuMDQ2ODc1IDAuMzEyNSAtNS4wMzEyNSAwLjE4NzUgLTUgTCAwLjE4NzUgLTQuNzk2ODc1IEMgMC4zMTI1IC00Ljg0Mzc1IDAuNDIxODc1IC00Ljg0Mzc1IDAuNTQ2ODc1IC00Ljg0Mzc1IEMgMS4wMzEyNSAtNC44NDM3NSAxLjI1IC00LjY3MTg3NSAxLjQ2ODc1IC00LjA3ODEyNSBDIDEuNzk2ODc1IC0zLjI2NTYyNSAyLjQ1MzEyNSAtMC41NzgxMjUgMi40NTMxMjUgLTAuMDkzNzUgQyAyLjQ1MzEyNSAwLjAzMTI1IDIuNDA2MjUgMC4xODc1IDIuMzQzNzUgMC4zMjgxMjUgQyAyLjI1IDAuNDg0Mzc1IDEuNzAzMTI1IDEuMTg3NSAxLjQ4NDM3NSAxLjQyMTg3NSBDIDEuMjE4NzUgMS43MTg3NSAxLjA2MjUgMS44MTI1IDAuOTA2MjUgMS44MTI1IEMgMC41OTM3NSAxLjgxMjUgMC41OTM3NSAxLjQ2ODc1IDAuMTg3NSAxLjQ2ODc1IEMgLTAuMDc4MTI1IDEuNDY4NzUgLTAuMjgxMjUgMS42ODc1IC0wLjI4MTI1IDEuOTUzMTI1IEMgLTAuMjgxMjUgMi4yNjU2MjUgLTAuMDMxMjUgMi40Njg3NSAwLjMyODEyNSAyLjQ2ODc1IEMgMS4wMTU2MjUgMi40Njg3NSAyLjI5Njg3NSAxLjA5Mzc1IDMuNTQ2ODc1IC0wLjk2ODc1IEMgNC41MzEyNSAtMi42MjUgNS4xMDkzNzUgLTMuOTUzMTI1IDUuMTA5Mzc1IC00LjYyNSBDIDUuMTA5Mzc1IC00Ljk4NDM3NSA0Ljg0Mzc1IC01LjI5Njg3NSA0LjQ4NDM3NSAtNS4yOTY4NzUgQyA0LjIxODc1IC01LjI5Njg3NSA0LjAxNTYyNSAtNS4xMDkzNzUgNC4wMTU2MjUgLTQuODQzNzUgQyA0LjAxNTYyNSAtNC42NTYyNSA0LjA3ODEyNSAtNC41MzEyNSA0LjMxMjUgLTQuMzc1IEMgNC41NDY4NzUgLTQuMjM0Mzc1IDQuNjI1IC00LjE1NjI1IDQuNjI1IC00IEMgNC42MjUgLTMuNDY4NzUgNC4xODc1IC0yLjYwOTM3NSAzLjE3MTg3NSAtMC45MDYyNSBaIE0gMi45MjE4NzUgLTIuMjM0Mzc1ICIvPgo8L3N5bWJvbD4KPHN5bWJvbCBvdmVyZmxvdz0idmlzaWJsZSIgaWQ9ImdseXBoMC0xIj4KPHBhdGggc3R5bGU9InN0cm9rZTpub25lOyIgZD0iTSA2LjU5Mzc1IC01LjE0MDYyNSBMIDUuNTYyNSAtNS4xNDA2MjUgTCA1IC0zLjg1OTM3NSBDIDUgLTQuNTc4MTI1IDQuNTE1NjI1IC01LjI5Njg3NSAzLjQ4NDM3NSAtNS4yOTY4NzUgQyAyLjc1IC01LjI5Njg3NSAxLjkzNzUgLTQuOTA2MjUgMS40MjE4NzUgLTQuMzc1IEMgMC43NSAtMy42ODc1IDAuMzI4MTI1IC0yLjY1NjI1IDAuMzI4MTI1IC0xLjY4NzUgQyAwLjMyODEyNSAtMC42ODc1IDAuNzY1NjI1IDAuMTI1IDEuOTM3NSAwLjEyNSBDIDIuODI4MTI1IDAuMTI1IDMuNjU2MjUgLTAuNDIxODc1IDQuMjY1NjI1IC0xLjE1NjI1IEMgNC4yODEyNSAtMC40MjE4NzUgNC40MjE4NzUgMC4xMDkzNzUgNC44OTA2MjUgMC4xMDkzNzUgQyA1LjQ1MzEyNSAwLjEwOTM3NSA1LjgyODEyNSAtMC41MTU2MjUgNi4wOTM3NSAtMS40MDYyNSBMIDUuOTA2MjUgLTEuNDg0Mzc1IEMgNS42NTYyNSAtMC44MjgxMjUgNS40NTMxMjUgLTAuNTkzNzUgNS4yOTY4NzUgLTAuNTkzNzUgQyA1LjAzMTI1IC0wLjU5Mzc1IDQuODkwNjI1IC0xLjIxODc1IDQuODkwNjI1IC0xLjc4MTI1IEwgNC44OTA2MjUgLTIgWiBNIDQuMzEyNSAtMy4yNjU2MjUgQyA0LjMxMjUgLTIuOTM3NSA0LjE1NjI1IC0yLjY0MDYyNSA0LjEwOTM3NSAtMi40MDYyNSBDIDMuNzk2ODc1IC0xLjczNDM3NSAyLjk2ODc1IC0wLjEyNSAyLjE0MDYyNSAtMC4xMjUgQyAxLjUzMTI1IC0wLjEyNSAxLjMxMjUgLTAuODEyNSAxLjMxMjUgLTEuNSBDIDEuMzEyNSAtMy40MDYyNSAyLjYyNSAtNS4wNDY4NzUgMy4zOTA2MjUgLTUuMDQ2ODc1IEMgNC4xNTYyNSAtNS4wNDY4NzUgNC4zMTI1IC00LjA3ODEyNSA0LjMxMjUgLTMuMjY1NjI1IFogTSA0LjMxMjUgLTMuMjY1NjI1ICIvPgo8L3N5bWJvbD4KPHN5bWJvbCBvdmVyZmxvdz0idmlzaWJsZSIgaWQ9ImdseXBoMC0yIj4KPHBhdGggc3R5bGU9InN0cm9rZTpub25lOyIgZD0iTSAtMC4xMDkzNzUgMS41MzEyNSBDIC0wLjE4NzUgMS43ODEyNSAtMC4zNzUgMi4yOTY4NzUgLTAuNDg0Mzc1IDIuNDUzMTI1IEwgMC40NTMxMjUgMi40NTMxMjUgQyAwLjU2MjUgMi4yODEyNSAwLjY4NzUgMi4wNDY4NzUgMC44MjgxMjUgMS41MzEyNSBMIDEuMjgxMjUgLTAuMDc4MTI1IEMgMS41OTM3NSAwLjA3ODEyNSAxLjgyODEyNSAwLjEyNSAyLjA3ODEyNSAwLjEyNSBDIDIuNTkzNzUgMC4xMjUgMy4wOTM3NSAwLjAzMTI1IDMuNTYyNSAtMC4yMzQzNzUgQyA0LjY4NzUgLTAuODQzNzUgNS42ODc1IC0yLjI5Njg3NSA1LjY4NzUgLTMuNDA2MjUgQyA1LjY4NzUgLTQuMjY1NjI1IDUuMDkzNzUgLTQuNzAzMTI1IDQuNjI1IC00LjczNDM3NSBMIDQuNjI1IC00Ljc1IEMgNS4zNTkzNzUgLTUuMDc4MTI1IDYuMTcxODc1IC01Ljk1MzEyNSA2LjE3MTg3NSAtNi45MjE4NzUgQyA2LjE3MTg3NSAtNy44NDM3NSA1LjM1OTM3NSAtOC4xNDA2MjUgNC43MTg3NSAtOC4xNDA2MjUgQyAyLjgyODEyNSAtOC4xNDA2MjUgMiAtNi4wNzgxMjUgMS41MzEyNSAtNC40MjE4NzUgWiBNIDIuNzk2ODc1IC01LjcxODc1IEMgMy4wNjI1IC02LjczNDM3NSAzLjYyNSAtNy44OTA2MjUgNC41IC03Ljg5MDYyNSBDIDQuOTIxODc1IC03Ljg5MDYyNSA1LjI5Njg3NSAtNy43MTg3NSA1LjI5Njg3NSAtNi43OTY4NzUgQyA1LjI5Njg3NSAtNi4wOTM3NSA0LjczNDM3NSAtNC44OTA2MjUgNC4yMTg3NSAtNC44OTA2MjUgQyA0LjA2MjUgLTQuODkwNjI1IDMuNzk2ODc1IC00Ljk2ODc1IDMuNzAzMTI1IC00Ljk2ODc1IEMgMy4yODEyNSAtNC45Njg3NSAzLjE4NzUgLTQuODEyNSAzLjE4NzUgLTQuNjg3NSBDIDMuMTg3NSAtNC41MzEyNSAzLjMyODEyNSAtNC40MjE4NzUgMy41NDY4NzUgLTQuNDIxODc1IEMgMy43NSAtNC40MjE4NzUgMy45MjE4NzUgLTQuNTE1NjI1IDQuMTQwNjI1IC00LjUxNTYyNSBDIDQuNDY4NzUgLTQuNTE1NjI1IDQuNjI1IC00LjIxODc1IDQuNjI1IC0zLjc5Njg3NSBDIDQuNjI1IC0yLjIwMzEyNSAzLjM3NSAtMC4wOTM3NSAyIC0wLjA5Mzc1IEMgMS42NzE4NzUgLTAuMDkzNzUgMS40MjE4NzUgLTAuMjgxMjUgMS40MjE4NzUgLTAuNTQ2ODc1IFogTSAyLjc5Njg3NSAtNS43MTg3NSAiLz4KPC9zeW1ib2w+CjxzeW1ib2wgb3ZlcmZsb3c9InZpc2libGUiIGlkPSJnbHlwaDAtMyI+CjxwYXRoIHN0eWxlPSJzdHJva2U6bm9uZTsiIGQ9Ik0gMi45MjE4NzUgLTQuMjY1NjI1IEMgMi43NSAtNS4wNzgxMjUgMi42MDkzNzUgLTUuMjk2ODc1IDIuMjk2ODc1IC01LjI5Njg3NSBDIDIuMDMxMjUgLTUuMjk2ODc1IDEuNjI1IC01LjIwMzEyNSAwLjkwNjI1IC00LjkzNzUgTCAwLjc2NTYyNSAtNC44OTA2MjUgTCAwLjc5Njg3NSAtNC43MDMxMjUgTCAxLjAxNTYyNSAtNC43NjU2MjUgQyAxLjI1IC00LjgyODEyNSAxLjM5MDYyNSAtNC44NDM3NSAxLjQ4NDM3NSAtNC44NDM3NSBDIDEuNzgxMjUgLTQuODQzNzUgMS44NzUgLTQuNzUgMi4wNDY4NzUgLTQuMDMxMjUgTCAyLjM3NSAtMi41NDY4NzUgTCAxLjM5MDYyNSAtMS4xNTYyNSBDIDEuMTQwNjI1IC0wLjc5Njg3NSAwLjkwNjI1IC0wLjU2MjUgMC43ODEyNSAtMC41NjI1IEMgMC43MDMxMjUgLTAuNTYyNSAwLjU5Mzc1IC0wLjU5Mzc1IDAuNDY4NzUgLTAuNjcxODc1IEMgMC4zMTI1IC0wLjc1IDAuMTg3NSAtMC43OTY4NzUgMC4wNzgxMjUgLTAuNzk2ODc1IEMgLTAuMTU2MjUgLTAuNzk2ODc1IC0wLjMyODEyNSAtMC42MDkzNzUgLTAuMzI4MTI1IC0wLjM3NSBDIC0wLjMyODEyNSAtMC4wNjI1IC0wLjA5Mzc1IDAuMTI1IDAuMjgxMjUgMC4xMjUgQyAwLjY0MDYyNSAwLjEyNSAwLjg5MDYyNSAwLjAzMTI1IDEuNDIxODc1IC0wLjY4NzUgTCAyLjQ2ODc1IC0yLjEwOTM3NSBMIDIuODEyNSAtMC42ODc1IEMgMi45Njg3NSAtMC4wNzgxMjUgMy4xNDA2MjUgMC4xMjUgMy41MzEyNSAwLjEyNSBDIDMuOTg0Mzc1IDAuMTI1IDQuMjk2ODc1IC0wLjE1NjI1IDQuOTg0Mzc1IC0xLjIzNDM3NSBMIDQuODEyNSAtMS4zNDM3NSBDIDQuNzE4NzUgLTEuMjE4NzUgNC42NzE4NzUgLTEuMTU2MjUgNC41NjI1IC0xLjAxNTYyNSBDIDQuMjgxMjUgLTAuNjQwNjI1IDQuMTU2MjUgLTAuNTMxMjUgNCAtMC41MzEyNSBDIDMuODI4MTI1IC0wLjUzMTI1IDMuNzE4NzUgLTAuNjg3NSAzLjY0MDYyNSAtMS4wMTU2MjUgTCAzLjI1IC0yLjYyNSBDIDMuMTg3NSAtMi45MjE4NzUgMy4xNTYyNSAtMy4wNzgxMjUgMy4xNTYyNSAtMy4xNzE4NzUgQyAzLjY4NzUgLTQuMDkzNzUgNC4xMDkzNzUgLTQuNjI1IDQuMzI4MTI1IC00LjYyNSBDIDQuNjI1IC00LjYyNSA0LjczNDM3NSAtNC40MjE4NzUgNC45NTMxMjUgLTQuNDIxODc1IEMgNS4yMDMxMjUgLTQuNDIxODc1IDUuMzU5Mzc1IC00LjU5Mzc1IDUuMzU5Mzc1IC00Ljg0Mzc1IEMgNS4zNTkzNzUgLTUuMTA5Mzc1IDUuMTU2MjUgLTUuMjk2ODc1IDQuODc1IC01LjI5Njg3NSBDIDQuMzQzNzUgLTUuMjk2ODc1IDMuOTA2MjUgLTQuODU5Mzc1IDMuMDYyNSAtMy41NzgxMjUgWiBNIDIuOTIxODc1IC00LjI2NTYyNSAiLz4KPC9zeW1ib2w+CjxzeW1ib2wgb3ZlcmZsb3c9InZpc2libGUiIGlkPSJnbHlwaDEtMCI+CjxwYXRoIHN0eWxlPSJzdHJva2U6bm9uZTsiIGQ9Ik0gNy42NDA2MjUgLTMuODQzNzUgTCA3LjY0MDYyNSAtNC42MjUgTCAwLjU3ODEyNSAtNC42MjUgTCAwLjU3ODEyNSAtMy44NDM3NSBaIE0gNy42NDA2MjUgLTEuNDM3NSBMIDcuNjQwNjI1IC0yLjIzNDM3NSBMIDAuNTc4MTI1IC0yLjIzNDM3NSBMIDAuNTc4MTI1IC0xLjQzNzUgWiBNIDcuNjQwNjI1IC0xLjQzNzUgIi8+Cjwvc3ltYm9sPgo8c3ltYm9sIG92ZXJmbG93PSJ2aXNpYmxlIiBpZD0iZ2x5cGgxLTEiPgo8cGF0aCBzdHlsZT0ic3Ryb2tlOm5vbmU7IiBkPSJNIDcuNjI1IC0yLjY0MDYyNSBMIDcuNjI1IC0zLjQzNzUgTCA0LjUgLTMuNDM3NSBMIDQuNSAtNi41NjI1IEwgMy43MDMxMjUgLTYuNTYyNSBMIDMuNzAzMTI1IC0zLjQzNzUgTCAwLjU3ODEyNSAtMy40Mzc1IEwgMC41NzgxMjUgLTIuNjQwNjI1IEwgMy43MDMxMjUgLTIuNjQwNjI1IEwgMy43MDMxMjUgMC40ODQzNzUgTCA0LjUgMC40ODQzNzUgTCA0LjUgLTIuNjQwNjI1IFogTSA3LjYyNSAtMi42NDA2MjUgIi8+Cjwvc3ltYm9sPgo8c3ltYm9sIG92ZXJmbG93PSJ2aXNpYmxlIiBpZD0iZ2x5cGgyLTAiPgo8cGF0aCBzdHlsZT0ic3Ryb2tlOm5vbmU7IiBkPSJNIDMuMzU5Mzc1IDAgTCAzLjM1OTM3NSAtMC4xMjUgQyAyLjcxODc1IC0wLjEyNSAyLjU0Njg3NSAtMC4yODEyNSAyLjU0Njg3NSAtMC42NDA2MjUgTCAyLjU0Njg3NSAtNS43MzQzNzUgTCAyLjQ2ODc1IC01Ljc1IEwgMC45Mzc1IC00Ljk4NDM3NSBMIDAuOTM3NSAtNC44NTkzNzUgTCAxLjE3MTg3NSAtNC45NTMxMjUgQyAxLjMyODEyNSAtNSAxLjQ2ODc1IC01LjA0Njg3NSAxLjU2MjUgLTUuMDQ2ODc1IEMgMS43MzQzNzUgLTUuMDQ2ODc1IDEuODEyNSAtNC45MjE4NzUgMS44MTI1IC00LjYyNSBMIDEuODEyNSAtMC44MTI1IEMgMS44MTI1IC0wLjM0Mzc1IDEuNjQwNjI1IC0wLjE1NjI1IDEgLTAuMTI1IEwgMSAwIFogTSAzLjM1OTM3NSAwICIvPgo8L3N5bWJvbD4KPHN5bWJvbCBvdmVyZmxvdz0idmlzaWJsZSIgaWQ9ImdseXBoMi0xIj4KPHBhdGggc3R5bGU9InN0cm9rZTpub25lOyIgZD0iTSA0LjAzMTI1IC0xLjE3MTg3NSBMIDMuOTIxODc1IC0xLjIxODc1IEMgMy42NDA2MjUgLTAuNzM0Mzc1IDMuNDUzMTI1IC0wLjY0MDYyNSAzLjA5Mzc1IC0wLjY0MDYyNSBMIDEuMTA5Mzc1IC0wLjY0MDYyNSBMIDIuNTE1NjI1IC0yLjE0MDYyNSBDIDMuMjY1NjI1IC0yLjk1MzEyNSAzLjYwOTM3NSAtMy41NzgxMjUgMy42MDkzNzUgLTQuMjUgQyAzLjYwOTM3NSAtNS4wOTM3NSAyLjk4NDM3NSAtNS43NSAyLjAzMTI1IC01Ljc1IEMgMC45ODQzNzUgLTUuNzUgMC40Mzc1IC01LjA2MjUgMC4yNSAtNC4wNjI1IEwgMC40Mzc1IC00LjAxNTYyNSBDIDAuNzgxMjUgLTQuODU5Mzc1IDEuMDc4MTI1IC01LjEyNSAxLjY4NzUgLTUuMTI1IEMgMi40MDYyNSAtNS4xMjUgMi44NzUgLTQuNzAzMTI1IDIuODc1IC0zLjkyMTg3NSBDIDIuODc1IC0zLjIwMzEyNSAyLjU2MjUgLTIuNTQ2ODc1IDEuNzY1NjI1IC0xLjcxODc1IEwgMC4yNSAtMC4xMDkzNzUgTCAwLjI1IDAgTCAzLjU3ODEyNSAwIFogTSA0LjAzMTI1IC0xLjE3MTg3NSAiLz4KPC9zeW1ib2w+CjwvZz4KPC9kZWZzPgo8ZyBpZD0ic3VyZmFjZTEiPgo8ZyBzdHlsZT0iZmlsbDpyZ2IoMCUsMCUsMCUpO2ZpbGwtb3BhY2l0eToxOyI+CiAgPHVzZSB4bGluazpocmVmPSIjZ2x5cGgwLTAiIHg9IjAuOTQ5MjE5IiB5PSI4Ljc4OTA2MiIvPgo8L2c+CjxnIHN0eWxlPSJmaWxsOnJnYigwJSwwJSwwJSk7ZmlsbC1vcGFjaXR5OjE7Ij4KICA8dXNlIHhsaW5rOmhyZWY9IiNnbHlwaDEtMCIgeD0iMTAuMTQ0NTMxIiB5PSI4Ljc4OTA2MiIvPgo8L2c+CjxnIHN0eWxlPSJmaWxsOnJnYigwJSwwJSwwJSk7ZmlsbC1vcGFjaXR5OjE7Ij4KICA8dXNlIHhsaW5rOmhyZWY9IiNnbHlwaDAtMSIgeD0iMjIuMTI1IiB5PSI4Ljc4OTA2MiIvPgo8L2c+CjxnIHN0eWxlPSJmaWxsOnJnYigwJSwwJSwwJSk7ZmlsbC1vcGFjaXR5OjE7Ij4KICA8dXNlIHhsaW5rOmhyZWY9IiNnbHlwaDEtMSIgeD0iMzAuODA4NTk0IiB5PSI4Ljc4OTA2MiIvPgo8L2c+CjxnIHN0eWxlPSJmaWxsOnJnYigwJSwwJSwwJSk7ZmlsbC1vcGFjaXR5OjE7Ij4KICA8dXNlIHhsaW5rOmhyZWY9IiNnbHlwaDAtMiIgeD0iNDAuMjUiIHk9IjguNzg5MDYyIi8+CjwvZz4KPGcgc3R5bGU9ImZpbGw6cmdiKDAlLDAlLDAlKTtmaWxsLW9wYWNpdHk6MTsiPgogIDx1c2UgeGxpbms6aHJlZj0iI2dseXBoMi0wIiB4PSI0Ni42MjUiIHk9IjExLjUiLz4KPC9nPgo8ZyBzdHlsZT0iZmlsbDpyZ2IoMCUsMCUsMCUpO2ZpbGwtb3BhY2l0eToxOyI+CiAgPHVzZSB4bGluazpocmVmPSIjZ2x5cGgwLTMiIHg9IjUxLjQ1MzEyNSIgeT0iOC43ODkwNjIiLz4KPC9nPgo8ZyBzdHlsZT0iZmlsbDpyZ2IoMCUsMCUsMCUpO2ZpbGwtb3BhY2l0eToxOyI+CiAgPHVzZSB4bGluazpocmVmPSIjZ2x5cGgxLTEiIHg9IjYwLjIzNDM3NSIgeT0iOC43ODkwNjIiLz4KPC9nPgo8ZyBzdHlsZT0iZmlsbDpyZ2IoMCUsMCUsMCUpO2ZpbGwtb3BhY2l0eToxOyI+CiAgPHVzZSB4bGluazpocmVmPSIjZ2x5cGgwLTIiIHg9IjcyLjM0Mzc1IiB5PSI4Ljc4OTA2MiIvPgo8L2c+CjxnIHN0eWxlPSJmaWxsOnJnYigwJSwwJSwwJSk7ZmlsbC1vcGFjaXR5OjE7Ij4KICA8dXNlIHhsaW5rOmhyZWY9IiNnbHlwaDItMSIgeD0iNzkuNDA2MjUiIHk9IjExLjUiLz4KPC9nPgo8ZyBzdHlsZT0iZmlsbDpyZ2IoMCUsMCUsMCUpO2ZpbGwtb3BhY2l0eToxOyI+CiAgPHVzZSB4bGluazpocmVmPSIjZ2x5cGgwLTMiIHg9Ijg0LjkwMjM0NCIgeT0iOC43ODkwNjIiLz4KPC9nPgo8ZyBzdHlsZT0iZmlsbDpyZ2IoMCUsMCUsMCUpO2ZpbGwtb3BhY2l0eToxOyI+CiAgPHVzZSB4bGluazpocmVmPSIjZ2x5cGgyLTEiIHg9IjkxLjE1MjM0NCIgeT0iNS43NSIvPgo8L2c+CjwvZz4KPC9zdmc+Cg=="
     ]
    }
   },
   "cell_type": "markdown",
   "metadata": {},
   "source": [
    "![rumus17.svg](attachment:rumus17.svg)"
   ]
  },
  {
   "cell_type": "markdown",
   "metadata": {},
   "source": [
    "- nilai feature nya hanya ada satu yaitu x\n",
    "- nilai feature yang tunggal tersebut akan kita representasikan dalam format polynomial\n",
    "- contoh pada kasus ini menggunakan polynomial derajat 2 yang berarti kita akan memiliki $x^1$ dan $x^2$\n",
    "- $x^1$ akan dikalikan dengan $\\beta^1$ dan untuk $x^2$ akan kita kalikan dengan $\\beta^2$"
   ]
  },
  {
   "cell_type": "markdown",
   "metadata": {},
   "source": [
    "*Polynomial Features*\n",
    "\n"
   ]
  },
  {
   "cell_type": "code",
   "execution_count": 13,
   "metadata": {},
   "outputs": [
    {
     "name": "stdout",
     "output_type": "stream",
     "text": [
      "X_train_quadratic:\n",
      "[[  1.   6.  36.]\n",
      " [  1.   8.  64.]\n",
      " [  1.  10. 100.]\n",
      " [  1.  14. 196.]\n",
      " [  1.  18. 324.]]\n",
      "\n"
     ]
    }
   ],
   "source": [
    "from sklearn.preprocessing import PolynomialFeatures\n",
    "\n",
    "quadratic_feature = PolynomialFeatures(degree=2)\n",
    "X_train_quadratic = quadratic_feature.fit_transform(X_train)\n",
    "\n",
    "print(f'X_train_quadratic:\\n{X_train_quadratic}\\n')"
   ]
  },
  {
   "cell_type": "markdown",
   "metadata": {},
   "source": [
    "Melakukan transformasi feature dari data set yang dimiliki. Langkah pertama adalah mengimport module nya dengan memanggil from sklearn.preprocessing import PolynomialFeatures. Kemudian membentuk objek PolynomialFeatures(degree=2) yang ditampung pada variabel quadratic_feature. Objek tersebut akan digunakan untum proses transformasi unruk feature yang dimiliki dengan memanggil quadratic_feature.fit_transform(X_train) yang akan ditampunh dalam variabel X_train_quadratic. Kemudian X_train_quadratic akan berisi feature yang sudah ditransformasikan ke dalam polynomial features. Hasil quadratic adalah mengubah nilai tunggal menjadi 3 hasil, yaitu [1, 6, 36.] Nilai 1 diperoleh dari x⁰ dalam kasus ini adalah 6 yang dipangkatkan 0 adalah 1. Nilai 6 dipangkatkan 1 adalah 6. Nilai 36 adalah 6 dipangkatkan 2 adalah 36. \n"
   ]
  },
  {
   "cell_type": "code",
   "execution_count": 14,
   "metadata": {},
   "outputs": [
    {
     "data": {
      "text/plain": [
       "LinearRegression()"
      ]
     },
     "execution_count": 14,
     "metadata": {},
     "output_type": "execute_result"
    }
   ],
   "source": [
    "#Training Model\n",
    "\n",
    "model = LinearRegression()\n",
    "model.fit(X_train_quadratic, y_train)"
   ]
  },
  {
   "cell_type": "markdown",
   "metadata": {},
   "source": [
    "Langkah pertama membentuk objek model, yaitu LinearRegression() yang ditamlung dalam variabel model. Kemudian objek model akan ditraining dengan memanfaatkan nilaibfeatures yang sudaj ditransformasikan ke dalam nilai polynomial dengan memanggil model.fit(X_train, quadratic, y_train)\n"
   ]
  },
  {
   "cell_type": "code",
   "execution_count": 15,
   "metadata": {},
   "outputs": [
    {
     "data": {
      "image/png": "[encoded data removed]",
      "text/plain": [
       "<Figure size 432x288 with 1 Axes>"
      ]
     },
     "metadata": {
      "needs_background": "light"
     },
     "output_type": "display_data"
    }
   ],
   "source": [
    "# Visualisasi Model\n",
    "\n",
    "import matplotlib.pyplot as plt\n",
    "\n",
    "X_vis = np.linspace(0, 25, 100).reshape(-1, 1)\n",
    "X_vis_quadratic = quadratic_feature.transform(X_vis)\n",
    "y_vis_quadratic = model.predict(X_vis_quadratic)\n",
    "\n",
    "plt.scatter(X_train, y_train)\n",
    "plt.plot(X_vis, y_vis_quadratic, '-r')\n",
    "\n",
    "plt.title('Perbandingan Diameter dan Harga Pizza')\n",
    "plt.xlabel('Diameter (inch)')\n",
    "plt.ylabel('Harga (dollar)')\n",
    "plt.xlim(0, 25)\n",
    "plt.ylim(0, 25)\n",
    "plt.grid(True)\n",
    "plt.show()"
   ]
  },
  {
   "cell_type": "markdown",
   "metadata": {},
   "source": [
    "Import module matpolib.pyplot as plt dengan membentuk sederet bilangan dari 0-25 sebanyak 100 data point yang kemudian data point tersebut akan dimasukkan ke dalam variabel X_vis yang swlanjutnya dikenakan proses transformasi, yaitu quadratic_feature.transform(X_vis) yang akan ditampung dalam variabel X_vis_quadratic. Selanjutnya akan dilakukan prediksi terhadap nilai X_vus_quadratic, yaitu dengan memanggil model.predicr(X_vis_quadratic) yang ditampung pada variabel y_vis_quadratic. Setelah itu melakukan data training dengan visualisasi scatter plot, yaitu dengan memanggil plt.scatter(X_train, y_train) yang akan menghasilkan ke 5 data point pada training set pada kasus ini. Kemudian melakukan ploting, yaitu dengan memanggil plt.plot(X_vis, y_vis_quadratic, '-r') untuk menghasilkan ploting garis melengkung untuk polynomial berwarna merah pada kasus ini. Kemudian ada setting tambahan terkait judul, nama label (x label dan y label), batasan atau limit untum sumbu x dan y, menampilkan plt.grid yang disetting menjadi True, dan plt.show untum memunculkan visualisasinya."
   ]
  },
  {
   "cell_type": "markdown",
   "metadata": {},
   "source": [
    "*Polynomial Regression: Quadratic vs Cubic*"
   ]
  },
  {
   "cell_type": "code",
   "execution_count": 19,
   "metadata": {},
   "outputs": [
    {
     "data": {
      "image/png": "[encoded data removed]",
      "text/plain": [
       "<Figure size 432x288 with 1 Axes>"
      ]
     },
     "metadata": {
      "needs_background": "light"
     },
     "output_type": "display_data"
    }
   ],
   "source": [
    "# Training Set (melakukan plotting untuk dataset yang menghasilkan 5 data point untuj training set)\n",
    "plt.scatter(X_train, y_train)\n",
    "\n",
    "# Linear\n",
    "model = LinearRegression()\n",
    "model.fit(X_train, y_train)\n",
    "X_vis = np.linspace(0, 25, 100).reshape(-1, 1)\n",
    "y_vis = model.predict(X_vis)\n",
    "plt.plot(X_vis, y_vis, '--r', label='linear')\n",
    "\n",
    "# Cubic\n",
    "cubic_feature = PolynomialFeatures(degree=3)\n",
    "X_train_cubic = cubic_feature.fit_transform(X_train)\n",
    "model = LinearRegression()\n",
    "model.fit(X_train_cubic, y_train)\n",
    "X_vis_cubic = cubic_feature.transform(X_vis)\n",
    "y_vis = model.predict(X_vis_cubic)\n",
    "plt.plot(X_vis, y_vis, '--y', label='cubic')\n",
    "\n",
    "\n",
    "plt.title('Perbandingan Diameter dan Harga Pizza')\n",
    "plt.xlabel('Diameter (inch)')\n",
    "plt.ylabel('Harga (dollar)')\n",
    "plt.legend()\n",
    "plt.xlim(0, 25)\n",
    "plt.ylim(0, 25)\n",
    "plt.grid(True)\n",
    "plt.show()"
   ]
  },
  {
   "cell_type": "markdown",
   "metadata": {},
   "source": [
    "- Training Set (melakukan plotting untuk dataset yang menghasilkan 5 data point untuj training set)\n",
    "\n",
    "- Linear membentuk objek model dengan memanggil LinearRegression() yang ditampung dalam variabel model, kemudian ditraining dengan menggunakan model.fit(X_train, y_train). Selanjutnya menyediakan 100 data point dengan jangkauan yang dimulai dari 0-25 yang menggunakan methode reshape(-1, 1) untuk menghasilkan numpy array 2 dimensi yang akan ditampung pada variabel X_vis. Nilai X_vis akan digunakan sebagai feature untuk melakukan prediksi dengan memanggil model.predict(X_vis) yang ditampung lada variabel y_vis. Setelah itu, hasil prediksinya akan ditabelkan secara visual dengan memanggil plt.plot(X_vis, y_vis, '--r', label='linear') #--r adalah untuk plotting garis putus-putus berwarna merah yang merepresentasikan simple linear regression tertentu\n",
    "\n",
    "- Quadratic, perbedaannya terdapat hanya pada penerapan PolynomialFeatures(degree=2) yang ditampung pada variabel quadratic_feature yang akan dilakukan transform dengan menggunakan methode fit yang nantinya akan ditampung lada varianel X_train_quadratic. Tahapan selanjutnya adalah memanggil LinearRegression yang ditampung lada objek model yang kemudian akan dilakukan proses training dengan menggunakan feature yang sudah ditransformasikan ke quadratic polynomial dengan menggunakan model.fit(X_train, y_train). Untuk nilai prediksi juga sama akan ditransformasikan menjadi quadratic polynomial yang ditampung pada variabel X_vis_quadratic. Nilai dari X_vis_quadratic akan digunakan untuk melakukan prediksi yang akan diploting dengan garis putus-putus berwarna hijau (--g). G di sini merupakan warna hijau, green. Garis putus-putus berwarna hijau merupakan hasil polynomial quadratic. \n",
    "\n",
    "- Cubic, perbedaan pada Cubic terdapat di cubic_feature = PolynomialFeatures(degree=3) sedangjan kangkah selanjutnya akan sama persis seperti pada proses quadratic. Cuby polynomial regression akan diploting sebagai --y yang berarti akan menghasilkan garis putus-putus berwarna kuning (yellow) dengan menyertakan label cubic."
   ]
  },
  {
   "cell_type": "markdown",
   "metadata": {},
   "source": [
    "*SUMBER :  https://www.youtube.com/watch?v=nWJUJenAyB8*"
   ]
  }
 ],
 "metadata": {
  "kernelspec": {
   "display_name": "Python 3",
   "language": "python",
   "name": "python3"
  },
  "language_info": {
   "codemirror_mode": {
    "name": "ipython",
    "version": 3
   },
   "file_extension": ".py",
   "mimetype": "text/x-python",
   "name": "python",
   "nbconvert_exporter": "python",
   "pygments_lexer": "ipython3",
   "version": "3.8.5"
  }
 },
 "nbformat": 4,
 "nbformat_minor": 4
}
