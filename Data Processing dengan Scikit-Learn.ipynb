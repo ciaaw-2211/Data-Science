{
 "cells": [
  {
   "cell_type": "markdown",
   "metadata": {},
   "source": [
    "Sample Data"
   ]
  },
  {
   "cell_type": "code",
   "execution_count": 19,
   "metadata": {},
   "outputs": [
    {
     "data": {
      "text/plain": [
       "array([[ 2.1, -1.9,  5.5],\n",
       "       [-1.5,  2.4,  3.5],\n",
       "       [ 0.5, -7.9,  5.6],\n",
       "       [ 5.9,  2.3, -5.8]])"
      ]
     },
     "execution_count": 19,
     "metadata": {},
     "output_type": "execute_result"
    }
   ],
   "source": [
    "import numpy as np\n",
    "from sklearn import preprocessing\n",
    "\n",
    "sample_data = np.array([[2.1, -1.9, 5.5], \n",
    "                        [-1.5, 2.4, 3.5], \n",
    "                        [0.5, -7.9, 5.6],\n",
    "                        [5.9, 2.3, -5.8]])\n",
    "\n",
    "sample_data"
   ]
  },
  {
   "cell_type": "markdown",
   "metadata": {},
   "source": [
    "Import dataset numpy sebagai np karena datasetnya akan diset menjadi array\n",
    "Module processing diimport dengan menggunakan sklearn \n",
    "Dataset dibentuk sebagai numpy array, dataset ini dipandang sebagai dataset feature yang dapat dilihat umlah barisnya ada 4.\n",
    "Dataset ini terbagi kedalam 3 feature\n",
    "Dataset yang terbentuk ini ditampung ke dalam variabel sample_data\n"
   ]
  },
  {
   "cell_type": "code",
   "execution_count": 17,
   "metadata": {},
   "outputs": [
    {
     "data": {
      "text/plain": [
       "(4, 3)"
      ]
     },
     "execution_count": 17,
     "metadata": {},
     "output_type": "execute_result"
    }
   ],
   "source": [
    "sample_data.shape"
   ]
  },
  {
   "cell_type": "markdown",
   "metadata": {},
   "source": [
    "Untuk menampilkan dimensi dari datsaset dapat dilakukan dengan memanggil sample_data.shape"
   ]
  },
  {
   "cell_type": "markdown",
   "metadata": {},
   "source": [
    "Binarisation\n",
    "\n",
    "Untuk meghasilkan suatu data yang menghasilkan 2 nilai numerik, yaitu 0 dan 1. "
   ]
  },
  {
   "cell_type": "markdown",
   "metadata": {},
   "source": [
    "sample_data \n",
    "\n",
    "(untuk memanggil dataset yang sebelumnya)"
   ]
  },
  {
   "cell_type": "code",
   "execution_count": 20,
   "metadata": {},
   "outputs": [
    {
     "data": {
      "text/plain": [
       "array([[1., 0., 1.],\n",
       "       [0., 1., 1.],\n",
       "       [0., 0., 1.],\n",
       "       [1., 1., 0.]])"
      ]
     },
     "execution_count": 20,
     "metadata": {},
     "output_type": "execute_result"
    }
   ],
   "source": [
    "preprocessor = preprocessing.Binarizer(threshold=0.5)\n",
    "binarised_data = preprocessor.transform(sample_data)\n",
    "binarised_data"
   ]
  },
  {
   "cell_type": "markdown",
   "metadata": {},
   "source": [
    "Membentuk objek binarizer dengan memanggil preprpcessing.Binarizer dengan menyertakan 1 buah parameter, yaitu threshold yang diset dengan nilai 0.5\n",
    "Pemanggilan itu akan menghasilkan objek binarizer yang ditampung ke dalam variabel preprocessor\n",
    "Tahapan selanjutnya adalah menggunakan transformasi terhadap sample data yang dimiliki dengan cara preprocessor.transform(sample_data)\n",
    "Hasil transformasi ditampung ke dalam variabel binarised_data untuk menampilkan isinya\n",
    "Hasil dari transformasi tersebut adalah mengkonfersikan nilai yang kurang dari 0.5 menjadi 0 dan nilai yang lebih besar dari 0.5 akan dikonfersikan menjadi nilai 1\n",
    "Untuk nilai sebelumnya yang sama persis dengan nilai thresholdnya akan menjadi 0"
   ]
  },
  {
   "cell_type": "markdown",
   "metadata": {},
   "source": [
    "Scaling\n",
    "Untuk menghasilkan data numerik yang berada dalam rentang skala tertentu. "
   ]
  },
  {
   "cell_type": "markdown",
   "metadata": {},
   "source": [
    "sample_data\n",
    "Untuk memanggil sample data sebelumnya yang terdiri dari nilai plotting point dari rentang -7.9 sebagai nilai terkecil samapi dengan nilai 5.9 sebagai nilai terbesarnya."
   ]
  },
  {
   "cell_type": "code",
   "execution_count": 21,
   "metadata": {},
   "outputs": [
    {
     "data": {
      "text/plain": [
       "array([[0.48648649, 0.58252427, 0.99122807],\n",
       "       [0.        , 1.        , 0.81578947],\n",
       "       [0.27027027, 0.        , 1.        ],\n",
       "       [1.        , 0.99029126, 0.        ]])"
      ]
     },
     "execution_count": 21,
     "metadata": {},
     "output_type": "execute_result"
    }
   ],
   "source": [
    "preprocessor = preprocessing.MinMaxScaler(feature_range=(0, 1))\n",
    "preprocessor.fit(sample_data)\n",
    "scaled_data = preprocessor.transform(sample_data)\n",
    "scaled_data"
   ]
  },
  {
   "cell_type": "markdown",
   "metadata": {},
   "source": [
    "Feature_range merupakan parameter yang memerlukan data yang akan memuat 2 nilai, yaitu 0 dan 1.\n",
    "Nilai 0 akan mengidentifikasikan nilai terkecil dari skala terbaru dan nilai 1 mengidentifikasikan nilai terbesar dari skala terbaru.\n",
    "Pemanggilan preprocessing.MinMaxScalerdengan nilai feature_range = 0,1 akan membentuk objek scaler yang akan ditampung dalam variabel processor\n",
    "Objek scaler akan menggunakan method fit terhadap sample data yang kita miliki dengan cara \n",
    "preprocessor.fit_transform(sample_data). Setelah scaler di fit pada sample data, maka dapat digunakan untuk transformasi data\n",
    "Hasil dari transformasi ditampung dalam variabel scaled_data yang kemudian akan menampilkan hasil dari scaled datanya"
   ]
  },
  {
   "cell_type": "code",
   "execution_count": 22,
   "metadata": {},
   "outputs": [
    {
     "data": {
      "text/plain": [
       "array([[0.48648649, 0.58252427, 0.99122807],\n",
       "       [0.        , 1.        , 0.81578947],\n",
       "       [0.27027027, 0.        , 1.        ],\n",
       "       [1.        , 0.99029126, 0.        ]])"
      ]
     },
     "execution_count": 22,
     "metadata": {},
     "output_type": "execute_result"
    }
   ],
   "source": [
    "scaled_data = preprocessor.fit_transform(sample_data)\n",
    "scaled_data"
   ]
  },
  {
   "cell_type": "markdown",
   "metadata": {},
   "source": [
    "fit_transform adalah method penyatuan 2 proses, yaitu  fiting dan transormasi. Penggunaan method ini berarti proses fit dan transformasi dikenakan oleh data yang sama. Hasilnya akan ditampung oleh variabel scaled_data."
   ]
  },
  {
   "cell_type": "markdown",
   "metadata": {},
   "source": [
    "L1 Normalisation: Least Absolute Deviations\n",
    "\n",
    "Untuk melakukan normalisasi terhadap data numerik yang dimiliki."
   ]
  },
  {
   "cell_type": "markdown",
   "metadata": {},
   "source": [
    "sample_data\n",
    "Pemanggilan data set yang dimiliki."
   ]
  },
  {
   "cell_type": "code",
   "execution_count": 23,
   "metadata": {},
   "outputs": [
    {
     "data": {
      "text/plain": [
       "array([[ 0.22105263, -0.2       ,  0.57894737],\n",
       "       [-0.2027027 ,  0.32432432,  0.47297297],\n",
       "       [ 0.03571429, -0.56428571,  0.4       ],\n",
       "       [ 0.42142857,  0.16428571, -0.41428571]])"
      ]
     },
     "execution_count": 23,
     "metadata": {},
     "output_type": "execute_result"
    }
   ],
   "source": [
    "l1_normalised_data = preprocessing.normalize(sample_data, norm='l1')\n",
    "l1_normalised_data"
   ]
  },
  {
   "cell_type": "markdown",
   "metadata": {},
   "source": [
    "preprocessing.normalize akan membutuhkan 2 parameter, yaitu sample_data dan parameter norm =’l1’ yang akan berasosiasi dengan nilai absolute deviations yang akan menghasilkan data yang ternormalisasi. \n",
    "Data yang sudah ternormalisasi ditampung ke dalam variabel l1_normalisased_data yang akan menampilkan datanya."
   ]
  },
  {
   "cell_type": "markdown",
   "metadata": {},
   "source": [
    "L2 Normalisastion: Least Squares"
   ]
  },
  {
   "cell_type": "code",
   "execution_count": 24,
   "metadata": {},
   "outputs": [
    {
     "data": {
      "text/plain": [
       "array([[ 2.1, -1.9,  5.5],\n",
       "       [-1.5,  2.4,  3.5],\n",
       "       [ 0.5, -7.9,  5.6],\n",
       "       [ 5.9,  2.3, -5.8]])"
      ]
     },
     "execution_count": 24,
     "metadata": {},
     "output_type": "execute_result"
    }
   ],
   "source": [
    "sample_data "
   ]
  },
  {
   "cell_type": "code",
   "execution_count": 26,
   "metadata": {},
   "outputs": [
    {
     "data": {
      "text/plain": [
       "array([[ 0.33946114, -0.30713151,  0.88906489],\n",
       "       [-0.33325106,  0.53320169,  0.7775858 ],\n",
       "       [ 0.05156558, -0.81473612,  0.57753446],\n",
       "       [ 0.68706914,  0.26784051, -0.6754239 ]])"
      ]
     },
     "execution_count": 26,
     "metadata": {},
     "output_type": "execute_result"
    }
   ],
   "source": [
    "l2_normalised_data = preprocessing.normalize(sample_data, norm='l2')\n",
    "l2_normalised_data"
   ]
  },
  {
   "cell_type": "markdown",
   "metadata": {},
   "source": [
    "Menyertakan 2 parameter, yaitu sample_data dan parameter norm =’l2’ akan berasosiasi dengan Least Squares. Pemanggilan fungsi akan menghasilkan data yang sudah ternormalisasi yang akan ditampung ke dalam variabel L2_normalised_data yang untuk selanjunya akan ditampilkan hasilnya."
   ]
  },
  {
   "cell_type": "code",
   "execution_count": null,
   "metadata": {},
   "outputs": [],
   "source": []
  }
 ],
 "metadata": {
  "kernelspec": {
   "display_name": "Python 3",
   "language": "python",
   "name": "python3"
  },
  "language_info": {
   "codemirror_mode": {
    "name": "ipython",
    "version": 3
   },
   "file_extension": ".py",
   "mimetype": "text/x-python",
   "name": "python",
   "nbconvert_exporter": "python",
   "pygments_lexer": "ipython3",
   "version": "3.7.4"
  }
 },
 "nbformat": 4,
 "nbformat_minor": 2
}
