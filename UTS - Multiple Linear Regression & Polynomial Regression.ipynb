{
 "cells": [
  {
   "cell_type": "code",
   "execution_count": 1,
   "metadata": {},
   "outputs": [
    {
     "data": {
      "text/plain": [
       "{'data': array([[6.3200e-03, 1.8000e+01, 2.3100e+00, ..., 1.5300e+01, 3.9690e+02,\n",
       "         4.9800e+00],\n",
       "        [2.7310e-02, 0.0000e+00, 7.0700e+00, ..., 1.7800e+01, 3.9690e+02,\n",
       "         9.1400e+00],\n",
       "        [2.7290e-02, 0.0000e+00, 7.0700e+00, ..., 1.7800e+01, 3.9283e+02,\n",
       "         4.0300e+00],\n",
       "        ...,\n",
       "        [6.0760e-02, 0.0000e+00, 1.1930e+01, ..., 2.1000e+01, 3.9690e+02,\n",
       "         5.6400e+00],\n",
       "        [1.0959e-01, 0.0000e+00, 1.1930e+01, ..., 2.1000e+01, 3.9345e+02,\n",
       "         6.4800e+00],\n",
       "        [4.7410e-02, 0.0000e+00, 1.1930e+01, ..., 2.1000e+01, 3.9690e+02,\n",
       "         7.8800e+00]]),\n",
       " 'target': array([24. , 21.6, 34.7, 33.4, 36.2, 28.7, 22.9, 27.1, 16.5, 18.9, 15. ,\n",
       "        18.9, 21.7, 20.4, 18.2, 19.9, 23.1, 17.5, 20.2, 18.2, 13.6, 19.6,\n",
       "        15.2, 14.5, 15.6, 13.9, 16.6, 14.8, 18.4, 21. , 12.7, 14.5, 13.2,\n",
       "        13.1, 13.5, 18.9, 20. , 21. , 24.7, 30.8, 34.9, 26.6, 25.3, 24.7,\n",
       "        21.2, 19.3, 20. , 16.6, 14.4, 19.4, 19.7, 20.5, 25. , 23.4, 18.9,\n",
       "        35.4, 24.7, 31.6, 23.3, 19.6, 18.7, 16. , 22.2, 25. , 33. , 23.5,\n",
       "        19.4, 22. , 17.4, 20.9, 24.2, 21.7, 22.8, 23.4, 24.1, 21.4, 20. ,\n",
       "        20.8, 21.2, 20.3, 28. , 23.9, 24.8, 22.9, 23.9, 26.6, 22.5, 22.2,\n",
       "        23.6, 28.7, 22.6, 22. , 22.9, 25. , 20.6, 28.4, 21.4, 38.7, 43.8,\n",
       "        33.2, 27.5, 26.5, 18.6, 19.3, 20.1, 19.5, 19.5, 20.4, 19.8, 19.4,\n",
       "        21.7, 22.8, 18.8, 18.7, 18.5, 18.3, 21.2, 19.2, 20.4, 19.3, 22. ,\n",
       "        20.3, 20.5, 17.3, 18.8, 21.4, 15.7, 16.2, 18. , 14.3, 19.2, 19.6,\n",
       "        23. , 18.4, 15.6, 18.1, 17.4, 17.1, 13.3, 17.8, 14. , 14.4, 13.4,\n",
       "        15.6, 11.8, 13.8, 15.6, 14.6, 17.8, 15.4, 21.5, 19.6, 15.3, 19.4,\n",
       "        17. , 15.6, 13.1, 41.3, 24.3, 23.3, 27. , 50. , 50. , 50. , 22.7,\n",
       "        25. , 50. , 23.8, 23.8, 22.3, 17.4, 19.1, 23.1, 23.6, 22.6, 29.4,\n",
       "        23.2, 24.6, 29.9, 37.2, 39.8, 36.2, 37.9, 32.5, 26.4, 29.6, 50. ,\n",
       "        32. , 29.8, 34.9, 37. , 30.5, 36.4, 31.1, 29.1, 50. , 33.3, 30.3,\n",
       "        34.6, 34.9, 32.9, 24.1, 42.3, 48.5, 50. , 22.6, 24.4, 22.5, 24.4,\n",
       "        20. , 21.7, 19.3, 22.4, 28.1, 23.7, 25. , 23.3, 28.7, 21.5, 23. ,\n",
       "        26.7, 21.7, 27.5, 30.1, 44.8, 50. , 37.6, 31.6, 46.7, 31.5, 24.3,\n",
       "        31.7, 41.7, 48.3, 29. , 24. , 25.1, 31.5, 23.7, 23.3, 22. , 20.1,\n",
       "        22.2, 23.7, 17.6, 18.5, 24.3, 20.5, 24.5, 26.2, 24.4, 24.8, 29.6,\n",
       "        42.8, 21.9, 20.9, 44. , 50. , 36. , 30.1, 33.8, 43.1, 48.8, 31. ,\n",
       "        36.5, 22.8, 30.7, 50. , 43.5, 20.7, 21.1, 25.2, 24.4, 35.2, 32.4,\n",
       "        32. , 33.2, 33.1, 29.1, 35.1, 45.4, 35.4, 46. , 50. , 32.2, 22. ,\n",
       "        20.1, 23.2, 22.3, 24.8, 28.5, 37.3, 27.9, 23.9, 21.7, 28.6, 27.1,\n",
       "        20.3, 22.5, 29. , 24.8, 22. , 26.4, 33.1, 36.1, 28.4, 33.4, 28.2,\n",
       "        22.8, 20.3, 16.1, 22.1, 19.4, 21.6, 23.8, 16.2, 17.8, 19.8, 23.1,\n",
       "        21. , 23.8, 23.1, 20.4, 18.5, 25. , 24.6, 23. , 22.2, 19.3, 22.6,\n",
       "        19.8, 17.1, 19.4, 22.2, 20.7, 21.1, 19.5, 18.5, 20.6, 19. , 18.7,\n",
       "        32.7, 16.5, 23.9, 31.2, 17.5, 17.2, 23.1, 24.5, 26.6, 22.9, 24.1,\n",
       "        18.6, 30.1, 18.2, 20.6, 17.8, 21.7, 22.7, 22.6, 25. , 19.9, 20.8,\n",
       "        16.8, 21.9, 27.5, 21.9, 23.1, 50. , 50. , 50. , 50. , 50. , 13.8,\n",
       "        13.8, 15. , 13.9, 13.3, 13.1, 10.2, 10.4, 10.9, 11.3, 12.3,  8.8,\n",
       "         7.2, 10.5,  7.4, 10.2, 11.5, 15.1, 23.2,  9.7, 13.8, 12.7, 13.1,\n",
       "        12.5,  8.5,  5. ,  6.3,  5.6,  7.2, 12.1,  8.3,  8.5,  5. , 11.9,\n",
       "        27.9, 17.2, 27.5, 15. , 17.2, 17.9, 16.3,  7. ,  7.2,  7.5, 10.4,\n",
       "         8.8,  8.4, 16.7, 14.2, 20.8, 13.4, 11.7,  8.3, 10.2, 10.9, 11. ,\n",
       "         9.5, 14.5, 14.1, 16.1, 14.3, 11.7, 13.4,  9.6,  8.7,  8.4, 12.8,\n",
       "        10.5, 17.1, 18.4, 15.4, 10.8, 11.8, 14.9, 12.6, 14.1, 13. , 13.4,\n",
       "        15.2, 16.1, 17.8, 14.9, 14.1, 12.7, 13.5, 14.9, 20. , 16.4, 17.7,\n",
       "        19.5, 20.2, 21.4, 19.9, 19. , 19.1, 19.1, 20.1, 19.9, 19.6, 23.2,\n",
       "        29.8, 13.8, 13.3, 16.7, 12. , 14.6, 21.4, 23. , 23.7, 25. , 21.8,\n",
       "        20.6, 21.2, 19.1, 20.6, 15.2,  7. ,  8.1, 13.6, 20.1, 21.8, 24.5,\n",
       "        23.1, 19.7, 18.3, 21.2, 17.5, 16.8, 22.4, 20.6, 23.9, 22. , 11.9]),\n",
       " 'feature_names': array(['CRIM', 'ZN', 'INDUS', 'CHAS', 'NOX', 'RM', 'AGE', 'DIS', 'RAD',\n",
       "        'TAX', 'PTRATIO', 'B', 'LSTAT'], dtype='<U7'),\n",
       " 'DESCR': \".. _boston_dataset:\\n\\nBoston house prices dataset\\n---------------------------\\n\\n**Data Set Characteristics:**  \\n\\n    :Number of Instances: 506 \\n\\n    :Number of Attributes: 13 numeric/categorical predictive. Median Value (attribute 14) is usually the target.\\n\\n    :Attribute Information (in order):\\n        - CRIM     per capita crime rate by town\\n        - ZN       proportion of residential land zoned for lots over 25,000 sq.ft.\\n        - INDUS    proportion of non-retail business acres per town\\n        - CHAS     Charles River dummy variable (= 1 if tract bounds river; 0 otherwise)\\n        - NOX      nitric oxides concentration (parts per 10 million)\\n        - RM       average number of rooms per dwelling\\n        - AGE      proportion of owner-occupied units built prior to 1940\\n        - DIS      weighted distances to five Boston employment centres\\n        - RAD      index of accessibility to radial highways\\n        - TAX      full-value property-tax rate per $10,000\\n        - PTRATIO  pupil-teacher ratio by town\\n        - B        1000(Bk - 0.63)^2 where Bk is the proportion of blacks by town\\n        - LSTAT    % lower status of the population\\n        - MEDV     Median value of owner-occupied homes in $1000's\\n\\n    :Missing Attribute Values: None\\n\\n    :Creator: Harrison, D. and Rubinfeld, D.L.\\n\\nThis is a copy of UCI ML housing dataset.\\nhttps://archive.ics.uci.edu/ml/machine-learning-databases/housing/\\n\\n\\nThis dataset was taken from the StatLib library which is maintained at Carnegie Mellon University.\\n\\nThe Boston house-price data of Harrison, D. and Rubinfeld, D.L. 'Hedonic\\nprices and the demand for clean air', J. Environ. Economics & Management,\\nvol.5, 81-102, 1978.   Used in Belsley, Kuh & Welsch, 'Regression diagnostics\\n...', Wiley, 1980.   N.B. Various transformations are used in the table on\\npages 244-261 of the latter.\\n\\nThe Boston house-price data has been used in many machine learning papers that address regression\\nproblems.   \\n     \\n.. topic:: References\\n\\n   - Belsley, Kuh & Welsch, 'Regression diagnostics: Identifying Influential Data and Sources of Collinearity', Wiley, 1980. 244-261.\\n   - Quinlan,R. (1993). Combining Instance-Based and Model-Based Learning. In Proceedings on the Tenth International Conference of Machine Learning, 236-243, University of Massachusetts, Amherst. Morgan Kaufmann.\\n\",\n",
       " 'filename': 'C:\\\\Users\\\\ASUS\\\\anaconda3\\\\lib\\\\site-packages\\\\sklearn\\\\datasets\\\\data\\\\boston_house_prices.csv'}"
      ]
     },
     "execution_count": 1,
     "metadata": {},
     "output_type": "execute_result"
    }
   ],
   "source": [
    "from sklearn.datasets import load_boston\n",
    "\n",
    "boston = load_boston()\n",
    "boston"
   ]
  },
  {
   "cell_type": "code",
   "execution_count": 2,
   "metadata": {},
   "outputs": [
    {
     "data": {
      "text/plain": [
       "dict_keys(['data', 'target', 'feature_names', 'DESCR', 'filename'])"
      ]
     },
     "execution_count": 2,
     "metadata": {},
     "output_type": "execute_result"
    }
   ],
   "source": [
    "boston.keys()"
   ]
  },
  {
   "cell_type": "code",
   "execution_count": 3,
   "metadata": {},
   "outputs": [
    {
     "data": {
      "text/html": [
       "<div>\n",
       "<style scoped>\n",
       "    .dataframe tbody tr th:only-of-type {\n",
       "        vertical-align: middle;\n",
       "    }\n",
       "\n",
       "    .dataframe tbody tr th {\n",
       "        vertical-align: top;\n",
       "    }\n",
       "\n",
       "    .dataframe thead th {\n",
       "        text-align: right;\n",
       "    }\n",
       "</style>\n",
       "<table border=\"1\" class=\"dataframe\">\n",
       "  <thead>\n",
       "    <tr style=\"text-align: right;\">\n",
       "      <th></th>\n",
       "      <th>CRIM</th>\n",
       "      <th>ZN</th>\n",
       "      <th>INDUS</th>\n",
       "      <th>CHAS</th>\n",
       "      <th>NOX</th>\n",
       "      <th>RM</th>\n",
       "      <th>AGE</th>\n",
       "      <th>DIS</th>\n",
       "      <th>RAD</th>\n",
       "      <th>TAX</th>\n",
       "      <th>PTRATIO</th>\n",
       "      <th>B</th>\n",
       "      <th>LSTAT</th>\n",
       "      <th>target</th>\n",
       "    </tr>\n",
       "  </thead>\n",
       "  <tbody>\n",
       "    <tr>\n",
       "      <th>0</th>\n",
       "      <td>0.00632</td>\n",
       "      <td>18.0</td>\n",
       "      <td>2.31</td>\n",
       "      <td>0.0</td>\n",
       "      <td>0.538</td>\n",
       "      <td>6.575</td>\n",
       "      <td>65.2</td>\n",
       "      <td>4.0900</td>\n",
       "      <td>1.0</td>\n",
       "      <td>296.0</td>\n",
       "      <td>15.3</td>\n",
       "      <td>396.90</td>\n",
       "      <td>4.98</td>\n",
       "      <td>24.0</td>\n",
       "    </tr>\n",
       "    <tr>\n",
       "      <th>1</th>\n",
       "      <td>0.02731</td>\n",
       "      <td>0.0</td>\n",
       "      <td>7.07</td>\n",
       "      <td>0.0</td>\n",
       "      <td>0.469</td>\n",
       "      <td>6.421</td>\n",
       "      <td>78.9</td>\n",
       "      <td>4.9671</td>\n",
       "      <td>2.0</td>\n",
       "      <td>242.0</td>\n",
       "      <td>17.8</td>\n",
       "      <td>396.90</td>\n",
       "      <td>9.14</td>\n",
       "      <td>21.6</td>\n",
       "    </tr>\n",
       "    <tr>\n",
       "      <th>2</th>\n",
       "      <td>0.02729</td>\n",
       "      <td>0.0</td>\n",
       "      <td>7.07</td>\n",
       "      <td>0.0</td>\n",
       "      <td>0.469</td>\n",
       "      <td>7.185</td>\n",
       "      <td>61.1</td>\n",
       "      <td>4.9671</td>\n",
       "      <td>2.0</td>\n",
       "      <td>242.0</td>\n",
       "      <td>17.8</td>\n",
       "      <td>392.83</td>\n",
       "      <td>4.03</td>\n",
       "      <td>34.7</td>\n",
       "    </tr>\n",
       "    <tr>\n",
       "      <th>3</th>\n",
       "      <td>0.03237</td>\n",
       "      <td>0.0</td>\n",
       "      <td>2.18</td>\n",
       "      <td>0.0</td>\n",
       "      <td>0.458</td>\n",
       "      <td>6.998</td>\n",
       "      <td>45.8</td>\n",
       "      <td>6.0622</td>\n",
       "      <td>3.0</td>\n",
       "      <td>222.0</td>\n",
       "      <td>18.7</td>\n",
       "      <td>394.63</td>\n",
       "      <td>2.94</td>\n",
       "      <td>33.4</td>\n",
       "    </tr>\n",
       "    <tr>\n",
       "      <th>4</th>\n",
       "      <td>0.06905</td>\n",
       "      <td>0.0</td>\n",
       "      <td>2.18</td>\n",
       "      <td>0.0</td>\n",
       "      <td>0.458</td>\n",
       "      <td>7.147</td>\n",
       "      <td>54.2</td>\n",
       "      <td>6.0622</td>\n",
       "      <td>3.0</td>\n",
       "      <td>222.0</td>\n",
       "      <td>18.7</td>\n",
       "      <td>396.90</td>\n",
       "      <td>5.33</td>\n",
       "      <td>36.2</td>\n",
       "    </tr>\n",
       "  </tbody>\n",
       "</table>\n",
       "</div>"
      ],
      "text/plain": [
       "      CRIM    ZN  INDUS  CHAS    NOX     RM   AGE     DIS  RAD    TAX  \\\n",
       "0  0.00632  18.0   2.31   0.0  0.538  6.575  65.2  4.0900  1.0  296.0   \n",
       "1  0.02731   0.0   7.07   0.0  0.469  6.421  78.9  4.9671  2.0  242.0   \n",
       "2  0.02729   0.0   7.07   0.0  0.469  7.185  61.1  4.9671  2.0  242.0   \n",
       "3  0.03237   0.0   2.18   0.0  0.458  6.998  45.8  6.0622  3.0  222.0   \n",
       "4  0.06905   0.0   2.18   0.0  0.458  7.147  54.2  6.0622  3.0  222.0   \n",
       "\n",
       "   PTRATIO       B  LSTAT  target  \n",
       "0     15.3  396.90   4.98    24.0  \n",
       "1     17.8  396.90   9.14    21.6  \n",
       "2     17.8  392.83   4.03    34.7  \n",
       "3     18.7  394.63   2.94    33.4  \n",
       "4     18.7  396.90   5.33    36.2  "
      ]
     },
     "execution_count": 3,
     "metadata": {},
     "output_type": "execute_result"
    }
   ],
   "source": [
    "from sklearn import datasets\n",
    "import pandas as pd\n",
    "\n",
    "boston_data = datasets.load_boston()\n",
    "df_boston = pd.DataFrame(boston_data.data,columns=boston_data.feature_names)\n",
    "df_boston['target'] = pd.Series(boston_data.target)\n",
    "df_boston.head()"
   ]
  },
  {
   "cell_type": "markdown",
   "metadata": {},
   "source": [
    "## Sample Dataset\n",
    "\n",
    "Dataset berisi diameter, jumlah topping, dan harga sejumlah pizza yang akan ditampung dalam format pandas dataframe."
   ]
  },
  {
   "cell_type": "markdown",
   "metadata": {},
   "source": [
    "### Training"
   ]
  },
  {
   "cell_type": "code",
   "execution_count": 4,
   "metadata": {},
   "outputs": [
    {
     "data": {
      "text/html": [
       "<div>\n",
       "<style scoped>\n",
       "    .dataframe tbody tr th:only-of-type {\n",
       "        vertical-align: middle;\n",
       "    }\n",
       "\n",
       "    .dataframe tbody tr th {\n",
       "        vertical-align: top;\n",
       "    }\n",
       "\n",
       "    .dataframe thead th {\n",
       "        text-align: right;\n",
       "    }\n",
       "</style>\n",
       "<table border=\"1\" class=\"dataframe\">\n",
       "  <thead>\n",
       "    <tr style=\"text-align: right;\">\n",
       "      <th></th>\n",
       "      <th>jarak_rumah</th>\n",
       "      <th>pajak_rumah</th>\n",
       "      <th>harga</th>\n",
       "    </tr>\n",
       "  </thead>\n",
       "  <tbody>\n",
       "    <tr>\n",
       "      <th>0</th>\n",
       "      <td>1</td>\n",
       "      <td>296</td>\n",
       "      <td>24.0</td>\n",
       "    </tr>\n",
       "    <tr>\n",
       "      <th>1</th>\n",
       "      <td>2</td>\n",
       "      <td>242</td>\n",
       "      <td>21.6</td>\n",
       "    </tr>\n",
       "    <tr>\n",
       "      <th>2</th>\n",
       "      <td>2</td>\n",
       "      <td>242</td>\n",
       "      <td>34.7</td>\n",
       "    </tr>\n",
       "    <tr>\n",
       "      <th>3</th>\n",
       "      <td>3</td>\n",
       "      <td>222</td>\n",
       "      <td>33.4</td>\n",
       "    </tr>\n",
       "    <tr>\n",
       "      <th>4</th>\n",
       "      <td>3</td>\n",
       "      <td>222</td>\n",
       "      <td>36.2</td>\n",
       "    </tr>\n",
       "  </tbody>\n",
       "</table>\n",
       "</div>"
      ],
      "text/plain": [
       "   jarak_rumah  pajak_rumah  harga\n",
       "0            1          296   24.0\n",
       "1            2          242   21.6\n",
       "2            2          242   34.7\n",
       "3            3          222   33.4\n",
       "4            3          222   36.2"
      ]
     },
     "execution_count": 4,
     "metadata": {},
     "output_type": "execute_result"
    }
   ],
   "source": [
    "import pandas as pd\n",
    "\n",
    "rumah = {'jarak_rumah': [1, 2, 2, 3, 3],\n",
    "         'pajak_rumah': [296, 242, 242, 222,222],\n",
    "        'harga' : [24, 21.6, 34.7, 33.4, 36.2]}\n",
    "\n",
    "train_rumah_df = pd.DataFrame(rumah)\n",
    "train_rumah_df"
   ]
  },
  {
   "cell_type": "markdown",
   "metadata": {},
   "source": [
    "Import pandas as pd. Ada 3 dataset dictionary, yaitu jarak rumah, pajak rumah, dan harga. Setiap dataset akan mengisi sekumpulan bilangan yang berasosiasi. Dictionary tersebut ditampung dalam variabel rumah yang kemudian dapat digunakan untuk menggunakan data frame dengan memanggil pd.DataFrame(rumah) yang ditampung dalam variabel train_rumah_df."
   ]
  },
  {
   "cell_type": "markdown",
   "metadata": {},
   "source": [
    "### Testing"
   ]
  },
  {
   "cell_type": "code",
   "execution_count": 11,
   "metadata": {},
   "outputs": [
    {
     "data": {
      "text/html": [
       "<div>\n",
       "<style scoped>\n",
       "    .dataframe tbody tr th:only-of-type {\n",
       "        vertical-align: middle;\n",
       "    }\n",
       "\n",
       "    .dataframe tbody tr th {\n",
       "        vertical-align: top;\n",
       "    }\n",
       "\n",
       "    .dataframe thead th {\n",
       "        text-align: right;\n",
       "    }\n",
       "</style>\n",
       "<table border=\"1\" class=\"dataframe\">\n",
       "  <thead>\n",
       "    <tr style=\"text-align: right;\">\n",
       "      <th></th>\n",
       "      <th>jarak_rumah</th>\n",
       "      <th>pajak_rumah</th>\n",
       "      <th>harga</th>\n",
       "    </tr>\n",
       "  </thead>\n",
       "  <tbody>\n",
       "    <tr>\n",
       "      <th>0</th>\n",
       "      <td>5</td>\n",
       "      <td>230</td>\n",
       "      <td>51.7</td>\n",
       "    </tr>\n",
       "    <tr>\n",
       "      <th>1</th>\n",
       "      <td>10</td>\n",
       "      <td>282</td>\n",
       "      <td>96.0</td>\n",
       "    </tr>\n",
       "    <tr>\n",
       "      <th>2</th>\n",
       "      <td>2</td>\n",
       "      <td>252</td>\n",
       "      <td>29.0</td>\n",
       "    </tr>\n",
       "    <tr>\n",
       "      <th>3</th>\n",
       "      <td>7</td>\n",
       "      <td>290</td>\n",
       "      <td>72.3</td>\n",
       "    </tr>\n",
       "    <tr>\n",
       "      <th>4</th>\n",
       "      <td>8</td>\n",
       "      <td>222</td>\n",
       "      <td>75.0</td>\n",
       "    </tr>\n",
       "  </tbody>\n",
       "</table>\n",
       "</div>"
      ],
      "text/plain": [
       "   jarak_rumah  pajak_rumah  harga\n",
       "0            5          230   51.7\n",
       "1           10          282   96.0\n",
       "2            2          252   29.0\n",
       "3            7          290   72.3\n",
       "4            8          222   75.0"
      ]
     },
     "execution_count": 11,
     "metadata": {},
     "output_type": "execute_result"
    }
   ],
   "source": [
    "import pandas as pd\n",
    "\n",
    "rumah = {'jarak_rumah': [5, 10, 2, 7, 8],\n",
    "         'pajak_rumah': [230, 282, 252, 290,222],\n",
    "        'harga' : [51.7, 96.0, 29.0, 72.3, 75.0]}\n",
    "\n",
    "test_rumah_df = pd.DataFrame(rumah)\n",
    "test_rumah_df"
   ]
  },
  {
   "cell_type": "markdown",
   "metadata": {},
   "source": [
    "Testing data set sama persis tahapannya dengan training dataset, hanya saja bilangan tiap datasetnya sudah berbeda. Untuk menampilkan hasilnya maka dengan memanggil variabel test_rumah_df yang memuat pandas dataframe rumah. Data jarak rumah dan pajak rumah berperan sebagai feature dan harga sebagai target."
   ]
  },
  {
   "cell_type": "markdown",
   "metadata": {},
   "source": [
    "### Preprocessing"
   ]
  },
  {
   "cell_type": "code",
   "execution_count": 12,
   "metadata": {},
   "outputs": [
    {
     "name": "stdout",
     "output_type": "stream",
     "text": [
      "X_train:\n",
      "[[  1 296]\n",
      " [  2 242]\n",
      " [  2 242]\n",
      " [  3 222]\n",
      " [  3 222]]\n",
      "\n",
      "y_train: [24.  21.6 34.7 33.4 36.2]\n"
     ]
    }
   ],
   "source": [
    "import numpy as np\n",
    "\n",
    "X_train = np.array(train_rumah_df[['jarak_rumah', 'pajak_rumah']])\n",
    "y_train = np.array(train_rumah_df['harga'])\n",
    "\n",
    "print(f'X_train:\\n{X_train}\\n')\n",
    "print(f'y_train: {y_train}')"
   ]
  },
  {
   "cell_type": "markdown",
   "metadata": {},
   "source": [
    "Jarak rumah dan pajak rumah akan dikonversikan ke dalam numpy array dan ditampung dalam variabel X_train sebagai sekumpulan feature training set dan y_train sebagai sekumpulan data target untuk training set."
   ]
  },
  {
   "cell_type": "code",
   "execution_count": 13,
   "metadata": {},
   "outputs": [
    {
     "name": "stdout",
     "output_type": "stream",
     "text": [
      "X_test:\n",
      "[[  5 230]\n",
      " [ 10 282]\n",
      " [  2 252]\n",
      " [  7 290]\n",
      " [  8 222]]\n",
      "\n",
      "y_test: [51.7 96.  29.  72.3 75. ]\n"
     ]
    }
   ],
   "source": [
    "import numpy as np\n",
    "\n",
    "X_test = np.array(test_rumah_df[['jarak_rumah', 'pajak_rumah']])\n",
    "y_test= np.array(test_rumah_df['harga'])\n",
    "\n",
    "print(f'X_test:\\n{X_test}\\n')\n",
    "print(f'y_test: {y_test}')"
   ]
  },
  {
   "cell_type": "markdown",
   "metadata": {},
   "source": [
    "Prosesnya sama dengan training set. Pada testing set variabel X_test berisi sekumpulan feature dalam testing set.\n",
    "\n",
    "Dataset yang akan ditampung dalam numpy aray harus import numpy as np. Selanjutnya memisahkan features dan targetnya. Features dalam kasus ini adalah jarak rumah dan pajak rumah. Nilai dari features tersebut akan diasosiasikan dengan numpy array dengan memanggil np.array(train_rumah_df[['jarak_rumah', 'pajak_rumah']]) yang akan ditampung dalam variabel X_train. Sedangkan kolom harga termasuk ke dalam target pada numpy array dengan memanggil np.array(train_rumah_df['harga']) yang ditampung dalam variabel y_train untuk mengetehaui target prediksinya. X_train selalu memiliki format array 2 dimensi, sedangkan y_train selalu dengan format array 1 dimensi. Hal yang sama juga dilakukan pada proses testing set dengan mengikuti langkah-langkah seperti training set, tetapi yang menjadi pembeda adalah pada saat memanggil yang awalnya X_train menjadi X_test dan y_train menjadi y_test."
   ]
  },
  {
   "cell_type": "code",
   "execution_count": 14,
   "metadata": {},
   "outputs": [
    {
     "data": {
      "text/plain": [
       "array([51.62941176, 96.05588235, 28.88529412, 72.28235294, 75.40294118])"
      ]
     },
     "execution_count": 14,
     "metadata": {},
     "output_type": "execute_result"
    }
   ],
   "source": [
    "y_pred = model.predict(X_test)\n",
    "y_pred"
   ]
  },
  {
   "cell_type": "markdown",
   "metadata": {},
   "source": [
    "###  Multiple Linear Regression\n",
    "\n",
    "\n",
    "Merupakan generalisasi dari Simple Linear Regression yang memungkinkan untuk menggunakan beberapa explantory variabel. Perbedaan dari multiple linear regression dan simple linear regression terdapat pada jumlah feature. Pada simple linear hanya menggunakan 1 feature untuk melakukan prediksi nilai, sedangkam pada multiple linear menggunakan lebih dari 1 feature."
   ]
  },
  {
   "attachments": {
    "rumus16.svg": {
     "image/svg+xml": [
      "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"
     ]
    }
   },
   "cell_type": "markdown",
   "metadata": {},
   "source": [
    "![rumus16.svg](attachment:rumus16.svg)"
   ]
  },
  {
   "cell_type": "markdown",
   "metadata": {},
   "source": [
    "- Setiap nilai x akan dikalikan dengan beta"
   ]
  },
  {
   "cell_type": "code",
   "execution_count": 15,
   "metadata": {},
   "outputs": [
    {
     "name": "stdout",
     "output_type": "stream",
     "text": [
      "r_squared: 0.9999288993397092\n"
     ]
    }
   ],
   "source": [
    "from sklearn.linear_model import LinearRegression\n",
    "from sklearn.metrics import r2_score\n",
    "\n",
    "model = LinearRegression()\n",
    "model.fit(X_train, y_train)\n",
    "y_pred = model.predict(X_test)\n",
    "    \n",
    "print(f'r_squared: {r2_score(y_test, y_pred)}')\n"
   ]
  },
  {
   "cell_type": "markdown",
   "metadata": {},
   "source": [
    "Melakukan import model dengan memanggil from sklearn.linear_model import LinearRegression. Sedangkan, untuk memanggil metricsnya maka harus memanggil from sklearn.metrics import r2_score. Kemudian membentuk objek model dengan memanggik LinearRegression() dan ditampung dalam variabel model. Setelah itu, melakukan proses training model dengan memanggil model.fit(X_train, y_train). Selanjutnya setelah menjadi train model, maka akan dilakukan prediksi terhadap feature yang ada dalam testing set dengan memanggil model.predict(X_test) yang kemudian hasilnya akan ditampung dalam variabel y_pred. Hasil prediksi dibutuhkan untuk mengukur performa dengan menggunakan r2_score yang didalamnya terdapat y_test dan y_pred."
   ]
  },
  {
   "cell_type": "markdown",
   "metadata": {},
   "source": [
    "# Polynomial Regression\n",
    "\n",
    "\n",
    "\n",
    "Memodelkan hubungan antar independent variabel x (feature) dan dependent variabel y (target) sebagai derajat polynomial dalam x."
   ]
  },
  {
   "cell_type": "code",
   "execution_count": 16,
   "metadata": {},
   "outputs": [
    {
     "name": "stdout",
     "output_type": "stream",
     "text": [
      "X_train:\n",
      "[[1]\n",
      " [2]\n",
      " [2]\n",
      " [3]\n",
      " [3]]\n",
      "\n",
      "y_train: [24.  21.6 34.7 33.4 36.2]\n"
     ]
    }
   ],
   "source": [
    "#Preprocessing Dataset\n",
    "X_train = np.array(train_rumah_df['jarak_rumah']).reshape(-1, 1)\n",
    "y_train = np.array(train_rumah_df['harga'])\n",
    "\n",
    "print(f'X_train:\\n{X_train}\\n')\n",
    "print(f'y_train: {y_train}')"
   ]
  },
  {
   "cell_type": "markdown",
   "metadata": {},
   "source": [
    "Feature yang digunakan hanya satu, yaitu diameter jarak rumah dan targetnya adalah harga. Langkah pertama adalah dengan menggunakan numpy array, yaitu np.array(train_rumah_df['jarak_rumah\"]).reshape(-1, 1) yang ditampung pada variabel X_train. Reshape (-1, 1) dilakukan agar hasilnya akan menjadi array 2 dimensi karena feature yang dimiliki hanya 1 kolom, oleh karena itu dilakukan transform menjadi 2 dimensi dengan menggunakan methode reshape. Pada array kedua menampung nilai target dengan memanggil np.array(train_rumah_df['harga\"]) yang akan ditampung dalam variabel y_train."
   ]
  },
  {
   "cell_type": "markdown",
   "metadata": {},
   "source": [
    "### Polynomial Features"
   ]
  },
  {
   "cell_type": "code",
   "execution_count": 17,
   "metadata": {},
   "outputs": [
    {
     "name": "stdout",
     "output_type": "stream",
     "text": [
      "X_train_quadratic:\n",
      "[[1. 1. 1.]\n",
      " [1. 2. 4.]\n",
      " [1. 2. 4.]\n",
      " [1. 3. 9.]\n",
      " [1. 3. 9.]]\n",
      "\n"
     ]
    }
   ],
   "source": [
    "from sklearn.preprocessing import PolynomialFeatures\n",
    "\n",
    "quadratic_feature = PolynomialFeatures(degree=2)\n",
    "X_train_quadratic = quadratic_feature.fit_transform(X_train)\n",
    "\n",
    "print(f'X_train_quadratic:\\n{X_train_quadratic}\\n')"
   ]
  },
  {
   "cell_type": "markdown",
   "metadata": {},
   "source": [
    "Melakukan transformasi feature dari data set yang dimiliki. Langkah pertama adalah mengimport module nya dengan memanggil from sklearn.preprocessing import PolynomialFeatures. Kemudian membentuk objek PolynomialFeatures(degree=2) yang ditampung pada variabel quadratic_feature. Objek tersebut akan digunakan untum proses transformasi unruk feature yang dimiliki dengan memanggil quadratic_feature.fit_transform(X_train) yang akan ditampunh dalam variabel X_train_quadratic. Kemudian X_train_quadratic akan berisi feature yang sudah ditransformasikan ke dalam polynomial features. Hasil quadratic adalah mengubah nilai tunggal menjadi 3 hasil."
   ]
  },
  {
   "cell_type": "code",
   "execution_count": 18,
   "metadata": {},
   "outputs": [
    {
     "data": {
      "text/plain": [
       "LinearRegression()"
      ]
     },
     "execution_count": 18,
     "metadata": {},
     "output_type": "execute_result"
    }
   ],
   "source": [
    "#Training Model\n",
    "\n",
    "model = LinearRegression()\n",
    "model.fit(X_train_quadratic, y_train)"
   ]
  },
  {
   "cell_type": "markdown",
   "metadata": {},
   "source": [
    "Langkah pertama membentuk objek model, yaitu LinearRegression() yang ditamlung dalam variabel model. Kemudian objek model akan ditraining dengan memanfaatkan nilaibfeatures yang sudaj ditransformasikan ke dalam nilai polynomial dengan memanggil model.fit(X_train, quadratic, y_train)"
   ]
  },
  {
   "cell_type": "code",
   "execution_count": 19,
   "metadata": {},
   "outputs": [
    {
     "data": {
      "image/png": "[encoded data removed]",
      "text/plain": [
       "<Figure size 432x288 with 1 Axes>"
      ]
     },
     "metadata": {
      "needs_background": "light"
     },
     "output_type": "display_data"
    }
   ],
   "source": [
    "# Visualisasi Model\n",
    "\n",
    "import matplotlib.pyplot as plt\n",
    "\n",
    "X_vis = np.linspace(0, 10, 100).reshape(-1, 1)\n",
    "X_vis_quadratic = quadratic_feature.transform(X_vis)\n",
    "y_vis_quadratic = model.predict(X_vis_quadratic)\n",
    "\n",
    "plt.scatter(X_train, y_train)\n",
    "plt.plot(X_vis, y_vis_quadratic, '-r')\n",
    "\n",
    "plt.title('Perbandingan Jarak_Rumah dan Harga Rumah')\n",
    "plt.xlabel('Jarak_Rumah(km)')\n",
    "plt.ylabel('Harga (dollar)')\n",
    "plt.xlim(0, 10)\n",
    "plt.ylim(0, 40)\n",
    "plt.grid(True)\n",
    "plt.show()"
   ]
  },
  {
   "cell_type": "markdown",
   "metadata": {},
   "source": [
    "Import module matpolib.pyplot as plt dengan membentuk sederet bilangan dari data point yang kemudian data point tersebut akan dimasukkan ke dalam variabel X_vis yang selanjutnya dikenakan proses transformasi, yaitu quadratic_feature.transform(X_vis) yang akan ditampung dalam variabel X_vis_quadratic. Selanjutnya akan dilakukan prediksi terhadap nilai X_vus_quadratic, yaitu dengan memanggil model.predict(X_vis_quadratic) yang ditampung pada variabel y_vis_quadratic. Setelah itu melakukan data training dengan visualisasi scatter plot, yaitu dengan memanggil plt.scatter(X_train, y_train) yang akan menghasilkan ke 5 data point pada training set pada kasus ini. Kemudian melakukan ploting, yaitu dengan memanggil plt.plot(X_vis, y_vis_quadratic, '-r') untuk menghasilkan ploting garis melengkung untuk polynomial berwarna merah pada kasus ini. Kemudian ada setting tambahan terkait judul, nama label (x label dan y label), batasan atau limit untum sumbu x dan y, menampilkan plt.grid yang disetting menjadi True, dan plt.show untum memunculkan visualisasinya."
   ]
  },
  {
   "cell_type": "code",
   "execution_count": 20,
   "metadata": {},
   "outputs": [
    {
     "data": {
      "image/png": "[encoded data removed]",
      "text/plain": [
       "<Figure size 432x288 with 1 Axes>"
      ]
     },
     "metadata": {
      "needs_background": "light"
     },
     "output_type": "display_data"
    }
   ],
   "source": [
    "# Training Set (melakukan plotting untuk dataset yang menghasilkan 5 data point untuj training set)\n",
    "plt.scatter(X_train, y_train)\n",
    "\n",
    "# Linear\n",
    "model = LinearRegression()\n",
    "model.fit(X_train, y_train)\n",
    "X_vis = np.linspace(0, 10, 100).reshape(-1, 1)\n",
    "y_vis = model.predict(X_vis)\n",
    "plt.plot(X_vis, y_vis, '--r', label='linear')\n",
    "\n",
    "# Cubic\n",
    "cubic_feature = PolynomialFeatures(degree=3)\n",
    "X_train_cubic = cubic_feature.fit_transform(X_train)\n",
    "model = LinearRegression()\n",
    "model.fit(X_train_cubic, y_train)\n",
    "X_vis_cubic = cubic_feature.transform(X_vis)\n",
    "y_vis = model.predict(X_vis_cubic)\n",
    "plt.plot(X_vis, y_vis, '--y', label='cubic')\n",
    "\n",
    "\n",
    "plt.title('Perbandingan Jarak_Rumah dan Harga Rumah')\n",
    "plt.xlabel('Jarak_Rumah (km)')\n",
    "plt.ylabel('Harga (dollar)')\n",
    "plt.legend()\n",
    "plt.xlim(0, 10)\n",
    "plt.ylim(0, 40)\n",
    "plt.grid(True)\n",
    "plt.show()"
   ]
  },
  {
   "cell_type": "markdown",
   "metadata": {},
   "source": [
    "Training Set (melakukan plotting untuk dataset yang menghasilkan 5 data point untuj training set)\n",
    "\n",
    "- Linear membentuk objek model dengan memanggil LinearRegression() yang ditampung dalam variabel model, kemudian ditraining dengan menggunakan model.fit(X_train, y_train). Selanjutnya menyediakan data point yang menggunakan methode reshape(-1, 1) untuk menghasilkan numpy array 2 dimensi yang akan ditampung pada variabel X_vis. Nilai X_vis akan digunakan sebagai feature untuk melakukan prediksi dengan memanggil model.predict(X_vis) yang ditampung lada variabel y_vis. Setelah itu, hasil prediksinya akan ditabelkan secara visual dengan memanggil plt.plot(X_vis, y_vis, '--r', label='linear') #--r adalah untuk plotting garis putus-putus berwarna merah yang merepresentasikan simple linear regression tertentu\n",
    "\n",
    "- Quadratic, perbedaannya terdapat hanya pada penerapan PolynomialFeatures(degree=2) yang ditampung pada variabel quadratic_feature yang akan dilakukan transform dengan menggunakan methode fit yang nantinya akan ditampung lada varianel X_train_quadratic. Tahapan selanjutnya adalah memanggil LinearRegression yang ditampung lada objek model yang kemudian akan dilakukan proses training dengan menggunakan feature yang sudah ditransformasikan ke quadratic polynomial dengan menggunakan model.fit(X_train, y_train). Untuk nilai prediksi juga sama akan ditransformasikan menjadi quadratic polynomial yang ditampung pada variabel X_vis_quadratic. Nilai dari X_vis_quadratic akan digunakan untuk melakukan prediksi yang akan diploting dengan garis putus-putus berwarna hijau (--g). G di sini merupakan warna hijau, green. Garis putus-putus berwarna hijau merupakan hasil polynomial quadratic.\n",
    "\n",
    "- Cubic, perbedaan pada Cubic terdapat di cubic_feature = PolynomialFeatures(degree=3) sedangjan kangkah selanjutnya akan sama persis seperti pada proses quadratic. Cuby polynomial regression akan diploting sebagai --y yang berarti akan menghasilkan garis putus-putus berwarna kuning (yellow) dengan menyertakan label cubic."
   ]
  }
 ],
 "metadata": {
  "kernelspec": {
   "display_name": "Python 3",
   "language": "python",
   "name": "python3"
  },
  "language_info": {
   "codemirror_mode": {
    "name": "ipython",
    "version": 3
   },
   "file_extension": ".py",
   "mimetype": "text/x-python",
   "name": "python",
   "nbconvert_exporter": "python",
   "pygments_lexer": "ipython3",
   "version": "3.8.5"
  }
 },
 "nbformat": 4,
 "nbformat_minor": 4
}
