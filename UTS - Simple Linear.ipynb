{
 "cells": [
  {
   "cell_type": "code",
   "execution_count": 1,
   "metadata": {},
   "outputs": [
    {
     "data": {
      "text/plain": [
       "{'data': array([[6.3200e-03, 1.8000e+01, 2.3100e+00, ..., 1.5300e+01, 3.9690e+02,\n",
       "         4.9800e+00],\n",
       "        [2.7310e-02, 0.0000e+00, 7.0700e+00, ..., 1.7800e+01, 3.9690e+02,\n",
       "         9.1400e+00],\n",
       "        [2.7290e-02, 0.0000e+00, 7.0700e+00, ..., 1.7800e+01, 3.9283e+02,\n",
       "         4.0300e+00],\n",
       "        ...,\n",
       "        [6.0760e-02, 0.0000e+00, 1.1930e+01, ..., 2.1000e+01, 3.9690e+02,\n",
       "         5.6400e+00],\n",
       "        [1.0959e-01, 0.0000e+00, 1.1930e+01, ..., 2.1000e+01, 3.9345e+02,\n",
       "         6.4800e+00],\n",
       "        [4.7410e-02, 0.0000e+00, 1.1930e+01, ..., 2.1000e+01, 3.9690e+02,\n",
       "         7.8800e+00]]),\n",
       " 'target': array([24. , 21.6, 34.7, 33.4, 36.2, 28.7, 22.9, 27.1, 16.5, 18.9, 15. ,\n",
       "        18.9, 21.7, 20.4, 18.2, 19.9, 23.1, 17.5, 20.2, 18.2, 13.6, 19.6,\n",
       "        15.2, 14.5, 15.6, 13.9, 16.6, 14.8, 18.4, 21. , 12.7, 14.5, 13.2,\n",
       "        13.1, 13.5, 18.9, 20. , 21. , 24.7, 30.8, 34.9, 26.6, 25.3, 24.7,\n",
       "        21.2, 19.3, 20. , 16.6, 14.4, 19.4, 19.7, 20.5, 25. , 23.4, 18.9,\n",
       "        35.4, 24.7, 31.6, 23.3, 19.6, 18.7, 16. , 22.2, 25. , 33. , 23.5,\n",
       "        19.4, 22. , 17.4, 20.9, 24.2, 21.7, 22.8, 23.4, 24.1, 21.4, 20. ,\n",
       "        20.8, 21.2, 20.3, 28. , 23.9, 24.8, 22.9, 23.9, 26.6, 22.5, 22.2,\n",
       "        23.6, 28.7, 22.6, 22. , 22.9, 25. , 20.6, 28.4, 21.4, 38.7, 43.8,\n",
       "        33.2, 27.5, 26.5, 18.6, 19.3, 20.1, 19.5, 19.5, 20.4, 19.8, 19.4,\n",
       "        21.7, 22.8, 18.8, 18.7, 18.5, 18.3, 21.2, 19.2, 20.4, 19.3, 22. ,\n",
       "        20.3, 20.5, 17.3, 18.8, 21.4, 15.7, 16.2, 18. , 14.3, 19.2, 19.6,\n",
       "        23. , 18.4, 15.6, 18.1, 17.4, 17.1, 13.3, 17.8, 14. , 14.4, 13.4,\n",
       "        15.6, 11.8, 13.8, 15.6, 14.6, 17.8, 15.4, 21.5, 19.6, 15.3, 19.4,\n",
       "        17. , 15.6, 13.1, 41.3, 24.3, 23.3, 27. , 50. , 50. , 50. , 22.7,\n",
       "        25. , 50. , 23.8, 23.8, 22.3, 17.4, 19.1, 23.1, 23.6, 22.6, 29.4,\n",
       "        23.2, 24.6, 29.9, 37.2, 39.8, 36.2, 37.9, 32.5, 26.4, 29.6, 50. ,\n",
       "        32. , 29.8, 34.9, 37. , 30.5, 36.4, 31.1, 29.1, 50. , 33.3, 30.3,\n",
       "        34.6, 34.9, 32.9, 24.1, 42.3, 48.5, 50. , 22.6, 24.4, 22.5, 24.4,\n",
       "        20. , 21.7, 19.3, 22.4, 28.1, 23.7, 25. , 23.3, 28.7, 21.5, 23. ,\n",
       "        26.7, 21.7, 27.5, 30.1, 44.8, 50. , 37.6, 31.6, 46.7, 31.5, 24.3,\n",
       "        31.7, 41.7, 48.3, 29. , 24. , 25.1, 31.5, 23.7, 23.3, 22. , 20.1,\n",
       "        22.2, 23.7, 17.6, 18.5, 24.3, 20.5, 24.5, 26.2, 24.4, 24.8, 29.6,\n",
       "        42.8, 21.9, 20.9, 44. , 50. , 36. , 30.1, 33.8, 43.1, 48.8, 31. ,\n",
       "        36.5, 22.8, 30.7, 50. , 43.5, 20.7, 21.1, 25.2, 24.4, 35.2, 32.4,\n",
       "        32. , 33.2, 33.1, 29.1, 35.1, 45.4, 35.4, 46. , 50. , 32.2, 22. ,\n",
       "        20.1, 23.2, 22.3, 24.8, 28.5, 37.3, 27.9, 23.9, 21.7, 28.6, 27.1,\n",
       "        20.3, 22.5, 29. , 24.8, 22. , 26.4, 33.1, 36.1, 28.4, 33.4, 28.2,\n",
       "        22.8, 20.3, 16.1, 22.1, 19.4, 21.6, 23.8, 16.2, 17.8, 19.8, 23.1,\n",
       "        21. , 23.8, 23.1, 20.4, 18.5, 25. , 24.6, 23. , 22.2, 19.3, 22.6,\n",
       "        19.8, 17.1, 19.4, 22.2, 20.7, 21.1, 19.5, 18.5, 20.6, 19. , 18.7,\n",
       "        32.7, 16.5, 23.9, 31.2, 17.5, 17.2, 23.1, 24.5, 26.6, 22.9, 24.1,\n",
       "        18.6, 30.1, 18.2, 20.6, 17.8, 21.7, 22.7, 22.6, 25. , 19.9, 20.8,\n",
       "        16.8, 21.9, 27.5, 21.9, 23.1, 50. , 50. , 50. , 50. , 50. , 13.8,\n",
       "        13.8, 15. , 13.9, 13.3, 13.1, 10.2, 10.4, 10.9, 11.3, 12.3,  8.8,\n",
       "         7.2, 10.5,  7.4, 10.2, 11.5, 15.1, 23.2,  9.7, 13.8, 12.7, 13.1,\n",
       "        12.5,  8.5,  5. ,  6.3,  5.6,  7.2, 12.1,  8.3,  8.5,  5. , 11.9,\n",
       "        27.9, 17.2, 27.5, 15. , 17.2, 17.9, 16.3,  7. ,  7.2,  7.5, 10.4,\n",
       "         8.8,  8.4, 16.7, 14.2, 20.8, 13.4, 11.7,  8.3, 10.2, 10.9, 11. ,\n",
       "         9.5, 14.5, 14.1, 16.1, 14.3, 11.7, 13.4,  9.6,  8.7,  8.4, 12.8,\n",
       "        10.5, 17.1, 18.4, 15.4, 10.8, 11.8, 14.9, 12.6, 14.1, 13. , 13.4,\n",
       "        15.2, 16.1, 17.8, 14.9, 14.1, 12.7, 13.5, 14.9, 20. , 16.4, 17.7,\n",
       "        19.5, 20.2, 21.4, 19.9, 19. , 19.1, 19.1, 20.1, 19.9, 19.6, 23.2,\n",
       "        29.8, 13.8, 13.3, 16.7, 12. , 14.6, 21.4, 23. , 23.7, 25. , 21.8,\n",
       "        20.6, 21.2, 19.1, 20.6, 15.2,  7. ,  8.1, 13.6, 20.1, 21.8, 24.5,\n",
       "        23.1, 19.7, 18.3, 21.2, 17.5, 16.8, 22.4, 20.6, 23.9, 22. , 11.9]),\n",
       " 'feature_names': array(['CRIM', 'ZN', 'INDUS', 'CHAS', 'NOX', 'RM', 'AGE', 'DIS', 'RAD',\n",
       "        'TAX', 'PTRATIO', 'B', 'LSTAT'], dtype='<U7'),\n",
       " 'DESCR': \".. _boston_dataset:\\n\\nBoston house prices dataset\\n---------------------------\\n\\n**Data Set Characteristics:**  \\n\\n    :Number of Instances: 506 \\n\\n    :Number of Attributes: 13 numeric/categorical predictive. Median Value (attribute 14) is usually the target.\\n\\n    :Attribute Information (in order):\\n        - CRIM     per capita crime rate by town\\n        - ZN       proportion of residential land zoned for lots over 25,000 sq.ft.\\n        - INDUS    proportion of non-retail business acres per town\\n        - CHAS     Charles River dummy variable (= 1 if tract bounds river; 0 otherwise)\\n        - NOX      nitric oxides concentration (parts per 10 million)\\n        - RM       average number of rooms per dwelling\\n        - AGE      proportion of owner-occupied units built prior to 1940\\n        - DIS      weighted distances to five Boston employment centres\\n        - RAD      index of accessibility to radial highways\\n        - TAX      full-value property-tax rate per $10,000\\n        - PTRATIO  pupil-teacher ratio by town\\n        - B        1000(Bk - 0.63)^2 where Bk is the proportion of blacks by town\\n        - LSTAT    % lower status of the population\\n        - MEDV     Median value of owner-occupied homes in $1000's\\n\\n    :Missing Attribute Values: None\\n\\n    :Creator: Harrison, D. and Rubinfeld, D.L.\\n\\nThis is a copy of UCI ML housing dataset.\\nhttps://archive.ics.uci.edu/ml/machine-learning-databases/housing/\\n\\n\\nThis dataset was taken from the StatLib library which is maintained at Carnegie Mellon University.\\n\\nThe Boston house-price data of Harrison, D. and Rubinfeld, D.L. 'Hedonic\\nprices and the demand for clean air', J. Environ. Economics & Management,\\nvol.5, 81-102, 1978.   Used in Belsley, Kuh & Welsch, 'Regression diagnostics\\n...', Wiley, 1980.   N.B. Various transformations are used in the table on\\npages 244-261 of the latter.\\n\\nThe Boston house-price data has been used in many machine learning papers that address regression\\nproblems.   \\n     \\n.. topic:: References\\n\\n   - Belsley, Kuh & Welsch, 'Regression diagnostics: Identifying Influential Data and Sources of Collinearity', Wiley, 1980. 244-261.\\n   - Quinlan,R. (1993). Combining Instance-Based and Model-Based Learning. In Proceedings on the Tenth International Conference of Machine Learning, 236-243, University of Massachusetts, Amherst. Morgan Kaufmann.\\n\",\n",
       " 'filename': 'C:\\\\Users\\\\ASUS\\\\anaconda3\\\\lib\\\\site-packages\\\\sklearn\\\\datasets\\\\data\\\\boston_house_prices.csv'}"
      ]
     },
     "execution_count": 1,
     "metadata": {},
     "output_type": "execute_result"
    }
   ],
   "source": [
    "from sklearn.datasets import load_boston\n",
    "\n",
    "boston = load_boston()\n",
    "boston"
   ]
  },
  {
   "cell_type": "markdown",
   "metadata": {},
   "source": [
    "Data Boston merupakan salah satu sample dataset pada Scikit Learn. Pada kasus kali ini menggunakan boston housing yang terdiri dari featuresnya adalah CRIM, ZN, INDUS, CHAS, NOX, RM, AGE, DIS, RAD, TAX, PTRATIO, B, LSTAT. Sedangkan untuk targetnya adalah harga. Untuk menggunakan data boston, maka harus mengimport load_boston kemudian membuat objek load_boston() yang akan ditampung pada variabel bosten."
   ]
  },
  {
   "cell_type": "code",
   "execution_count": 2,
   "metadata": {},
   "outputs": [
    {
     "data": {
      "text/plain": [
       "dict_keys(['data', 'target', 'feature_names', 'DESCR', 'filename'])"
      ]
     },
     "execution_count": 2,
     "metadata": {},
     "output_type": "execute_result"
    }
   ],
   "source": [
    "boston.keys()"
   ]
  },
  {
   "cell_type": "markdown",
   "metadata": {},
   "source": [
    "Setelah mengimport, langkah selanjutnya adalah dengan menentukan kunci dari data boston tersebut."
   ]
  },
  {
   "cell_type": "code",
   "execution_count": 3,
   "metadata": {},
   "outputs": [
    {
     "data": {
      "text/html": [
       "<div>\n",
       "<style scoped>\n",
       "    .dataframe tbody tr th:only-of-type {\n",
       "        vertical-align: middle;\n",
       "    }\n",
       "\n",
       "    .dataframe tbody tr th {\n",
       "        vertical-align: top;\n",
       "    }\n",
       "\n",
       "    .dataframe thead th {\n",
       "        text-align: right;\n",
       "    }\n",
       "</style>\n",
       "<table border=\"1\" class=\"dataframe\">\n",
       "  <thead>\n",
       "    <tr style=\"text-align: right;\">\n",
       "      <th></th>\n",
       "      <th>CRIM</th>\n",
       "      <th>ZN</th>\n",
       "      <th>INDUS</th>\n",
       "      <th>CHAS</th>\n",
       "      <th>NOX</th>\n",
       "      <th>RM</th>\n",
       "      <th>AGE</th>\n",
       "      <th>DIS</th>\n",
       "      <th>RAD</th>\n",
       "      <th>TAX</th>\n",
       "      <th>PTRATIO</th>\n",
       "      <th>B</th>\n",
       "      <th>LSTAT</th>\n",
       "      <th>target</th>\n",
       "    </tr>\n",
       "  </thead>\n",
       "  <tbody>\n",
       "    <tr>\n",
       "      <th>0</th>\n",
       "      <td>0.00632</td>\n",
       "      <td>18.0</td>\n",
       "      <td>2.31</td>\n",
       "      <td>0.0</td>\n",
       "      <td>0.538</td>\n",
       "      <td>6.575</td>\n",
       "      <td>65.2</td>\n",
       "      <td>4.0900</td>\n",
       "      <td>1.0</td>\n",
       "      <td>296.0</td>\n",
       "      <td>15.3</td>\n",
       "      <td>396.90</td>\n",
       "      <td>4.98</td>\n",
       "      <td>24.0</td>\n",
       "    </tr>\n",
       "    <tr>\n",
       "      <th>1</th>\n",
       "      <td>0.02731</td>\n",
       "      <td>0.0</td>\n",
       "      <td>7.07</td>\n",
       "      <td>0.0</td>\n",
       "      <td>0.469</td>\n",
       "      <td>6.421</td>\n",
       "      <td>78.9</td>\n",
       "      <td>4.9671</td>\n",
       "      <td>2.0</td>\n",
       "      <td>242.0</td>\n",
       "      <td>17.8</td>\n",
       "      <td>396.90</td>\n",
       "      <td>9.14</td>\n",
       "      <td>21.6</td>\n",
       "    </tr>\n",
       "    <tr>\n",
       "      <th>2</th>\n",
       "      <td>0.02729</td>\n",
       "      <td>0.0</td>\n",
       "      <td>7.07</td>\n",
       "      <td>0.0</td>\n",
       "      <td>0.469</td>\n",
       "      <td>7.185</td>\n",
       "      <td>61.1</td>\n",
       "      <td>4.9671</td>\n",
       "      <td>2.0</td>\n",
       "      <td>242.0</td>\n",
       "      <td>17.8</td>\n",
       "      <td>392.83</td>\n",
       "      <td>4.03</td>\n",
       "      <td>34.7</td>\n",
       "    </tr>\n",
       "    <tr>\n",
       "      <th>3</th>\n",
       "      <td>0.03237</td>\n",
       "      <td>0.0</td>\n",
       "      <td>2.18</td>\n",
       "      <td>0.0</td>\n",
       "      <td>0.458</td>\n",
       "      <td>6.998</td>\n",
       "      <td>45.8</td>\n",
       "      <td>6.0622</td>\n",
       "      <td>3.0</td>\n",
       "      <td>222.0</td>\n",
       "      <td>18.7</td>\n",
       "      <td>394.63</td>\n",
       "      <td>2.94</td>\n",
       "      <td>33.4</td>\n",
       "    </tr>\n",
       "    <tr>\n",
       "      <th>4</th>\n",
       "      <td>0.06905</td>\n",
       "      <td>0.0</td>\n",
       "      <td>2.18</td>\n",
       "      <td>0.0</td>\n",
       "      <td>0.458</td>\n",
       "      <td>7.147</td>\n",
       "      <td>54.2</td>\n",
       "      <td>6.0622</td>\n",
       "      <td>3.0</td>\n",
       "      <td>222.0</td>\n",
       "      <td>18.7</td>\n",
       "      <td>396.90</td>\n",
       "      <td>5.33</td>\n",
       "      <td>36.2</td>\n",
       "    </tr>\n",
       "  </tbody>\n",
       "</table>\n",
       "</div>"
      ],
      "text/plain": [
       "      CRIM    ZN  INDUS  CHAS    NOX     RM   AGE     DIS  RAD    TAX  \\\n",
       "0  0.00632  18.0   2.31   0.0  0.538  6.575  65.2  4.0900  1.0  296.0   \n",
       "1  0.02731   0.0   7.07   0.0  0.469  6.421  78.9  4.9671  2.0  242.0   \n",
       "2  0.02729   0.0   7.07   0.0  0.469  7.185  61.1  4.9671  2.0  242.0   \n",
       "3  0.03237   0.0   2.18   0.0  0.458  6.998  45.8  6.0622  3.0  222.0   \n",
       "4  0.06905   0.0   2.18   0.0  0.458  7.147  54.2  6.0622  3.0  222.0   \n",
       "\n",
       "   PTRATIO       B  LSTAT  target  \n",
       "0     15.3  396.90   4.98    24.0  \n",
       "1     17.8  396.90   9.14    21.6  \n",
       "2     17.8  392.83   4.03    34.7  \n",
       "3     18.7  394.63   2.94    33.4  \n",
       "4     18.7  396.90   5.33    36.2  "
      ]
     },
     "execution_count": 3,
     "metadata": {},
     "output_type": "execute_result"
    }
   ],
   "source": [
    "from sklearn import datasets\n",
    "import pandas as pd\n",
    "\n",
    "boston_data = datasets.load_boston()\n",
    "df_boston = pd.DataFrame(boston_data.data,columns=boston_data.feature_names)\n",
    "df_boston['target'] = pd.Series(boston_data.target)\n",
    "df_boston.head()"
   ]
  },
  {
   "cell_type": "markdown",
   "metadata": {},
   "source": [
    "Tahap sealnjutnya adalah dengan mengimport dataset sebagai pandas. Pertama dimulai dengan membuat variabel yang menampung datasets.load_boston() kemudian memanggil pd.DataFrame(boston_data.data,columns=boston_data.feature_names)yang ditampung pada variabel df_boston. Selajutnya adalah dengan menggunakan variabel df_boston['target']ntuk memanggil targetnya."
   ]
  },
  {
   "cell_type": "code",
   "execution_count": 4,
   "metadata": {},
   "outputs": [
    {
     "data": {
      "text/html": [
       "<div>\n",
       "<style scoped>\n",
       "    .dataframe tbody tr th:only-of-type {\n",
       "        vertical-align: middle;\n",
       "    }\n",
       "\n",
       "    .dataframe tbody tr th {\n",
       "        vertical-align: top;\n",
       "    }\n",
       "\n",
       "    .dataframe thead th {\n",
       "        text-align: right;\n",
       "    }\n",
       "</style>\n",
       "<table border=\"1\" class=\"dataframe\">\n",
       "  <thead>\n",
       "    <tr style=\"text-align: right;\">\n",
       "      <th></th>\n",
       "      <th>jarak_rumah</th>\n",
       "      <th>harga</th>\n",
       "    </tr>\n",
       "  </thead>\n",
       "  <tbody>\n",
       "    <tr>\n",
       "      <th>0</th>\n",
       "      <td>1</td>\n",
       "      <td>24.0</td>\n",
       "    </tr>\n",
       "    <tr>\n",
       "      <th>1</th>\n",
       "      <td>2</td>\n",
       "      <td>21.6</td>\n",
       "    </tr>\n",
       "    <tr>\n",
       "      <th>2</th>\n",
       "      <td>2</td>\n",
       "      <td>34.7</td>\n",
       "    </tr>\n",
       "    <tr>\n",
       "      <th>3</th>\n",
       "      <td>3</td>\n",
       "      <td>33.4</td>\n",
       "    </tr>\n",
       "    <tr>\n",
       "      <th>4</th>\n",
       "      <td>3</td>\n",
       "      <td>36.2</td>\n",
       "    </tr>\n",
       "  </tbody>\n",
       "</table>\n",
       "</div>"
      ],
      "text/plain": [
       "   jarak_rumah  harga\n",
       "0            1   24.0\n",
       "1            2   21.6\n",
       "2            2   34.7\n",
       "3            3   33.4\n",
       "4            3   36.2"
      ]
     },
     "execution_count": 4,
     "metadata": {},
     "output_type": "execute_result"
    }
   ],
   "source": [
    "import pandas as pd\n",
    "\n",
    "rumah = {'jarak_rumah': [1, 2, 2, 3, 3],\n",
    "        'harga' : [24, 21.6, 34.7, 33.4, 36.2]}\n",
    "\n",
    "rumah_df = pd.DataFrame(rumah)\n",
    "rumah_df"
   ]
  },
  {
   "cell_type": "markdown",
   "metadata": {},
   "source": [
    "Pada kasus kali ini, kita akan menggunakan data jarak_rumah sebagai feaures dan harga sebagai target. Langkah yang harus dilakukan adalah dengan melakukan import pasndas, kemudian membuat variabel rumah yang di dalamnya berisi nilai features dan target. Setelah itu, dapat memanggil pd.DataFrame(rumah)yang ditampung pada variabel rumah_df."
   ]
  },
  {
   "cell_type": "code",
   "execution_count": 5,
   "metadata": {},
   "outputs": [
    {
     "data": {
      "image/png": "[encoded data removed]",
      "text/plain": [
       "<Figure size 432x288 with 1 Axes>"
      ]
     },
     "metadata": {
      "needs_background": "light"
     },
     "output_type": "display_data"
    }
   ],
   "source": [
    "import matplotlib.pyplot as plt\n",
    "\n",
    "rumah_df.plot(kind='scatter', x='jarak_rumah', y='harga')\n",
    "\n",
    "plt.title('Perbandingan Jarak Rumah dan Harga Rumah')\n",
    "plt.xlabel('Jarak Rumah')\n",
    "plt.ylabel('Harga')\n",
    "plt.xlim(0, 5)\n",
    "plt.ylim(0, 40)\n",
    "plt.grid(True)\n",
    "plt.show()"
   ]
  },
  {
   "cell_type": "markdown",
   "metadata": {},
   "source": [
    "Pada pembahasan kali ini dapat dilihat bahwa data di atas merupakan data yang telah diimport ke matplotlib dengan menyertakan scatter, jarak_rumah, dan harga. Pada kasus ini juga dilengkapi dengan keterangan tambahan lainnya, seperti judul, nama label dari xlabel dan ylabel, serta disertakan grid untuk menciptakan garis pada contoh di atas. "
   ]
  },
  {
   "cell_type": "code",
   "execution_count": 6,
   "metadata": {},
   "outputs": [
    {
     "name": "stdout",
     "output_type": "stream",
     "text": [
      "X: [1 2 2 3 3]\n",
      "y: [24.  21.6 34.7 33.4 36.2]\n"
     ]
    }
   ],
   "source": [
    "import numpy as np\n",
    "\n",
    "X = np.array(rumah_df['jarak_rumah'])\n",
    "y = np.array(rumah_df['harga'])\n",
    "\n",
    "print(f'X: {X}')\n",
    "print(f'y: {y}')"
   ]
  },
  {
   "cell_type": "markdown",
   "metadata": {},
   "source": [
    "Langkah pertama yang dapat dilakukan adalah memidahkan feature dan target. Selanjutnya akan menggunakan konstruktur data dari yang menggunakan pandas dataframe menjadi numpy array drngan mengimport numpy terlebih dahulu dengan selanjutnya membuat variabel X untuk menampung feature dan y untuk menampung target."
   ]
  },
  {
   "cell_type": "code",
   "execution_count": 8,
   "metadata": {},
   "outputs": [
    {
     "data": {
      "text/plain": [
       "(5, 1)"
      ]
     },
     "execution_count": 8,
     "metadata": {},
     "output_type": "execute_result"
    }
   ],
   "source": [
    "X = X.reshape(-1, 1)\n",
    "X.shape"
   ]
  },
  {
   "cell_type": "markdown",
   "metadata": {},
   "source": [
    "Methode X.reshape itu adalah untuk menambahkan bayangan atau dimensi."
   ]
  },
  {
   "cell_type": "code",
   "execution_count": 9,
   "metadata": {},
   "outputs": [
    {
     "data": {
      "text/plain": [
       "array([[1],\n",
       "       [2],\n",
       "       [2],\n",
       "       [3],\n",
       "       [3]], dtype=int64)"
      ]
     },
     "execution_count": 9,
     "metadata": {},
     "output_type": "execute_result"
    }
   ],
   "source": [
    "X"
   ]
  },
  {
   "cell_type": "markdown",
   "metadata": {},
   "source": [
    "Method X adalah untuk mengubah hasil array 2 dimensi menjadi hanya 1 saja"
   ]
  },
  {
   "cell_type": "code",
   "execution_count": 10,
   "metadata": {},
   "outputs": [
    {
     "data": {
      "text/plain": [
       "LinearRegression()"
      ]
     },
     "execution_count": 10,
     "metadata": {},
     "output_type": "execute_result"
    }
   ],
   "source": [
    "from sklearn.linear_model import LinearRegression\n",
    "\n",
    "model = LinearRegression()\n",
    "model.fit(X, y)"
   ]
  },
  {
   "cell_type": "markdown",
   "metadata": {},
   "source": [
    "Import sklean.linear_model. Dalam variabel model berisi LinearRegession() yang akan ditraining drngan method fit. Method fit membutuhkan 2 parameter, yaitu sekumpulan nilai X(feature) dan sekumpulan nilai y(target)."
   ]
  },
  {
   "cell_type": "markdown",
   "metadata": {},
   "source": [
    "*Visualisasi Simple Linear Regression Model*"
   ]
  },
  {
   "cell_type": "code",
   "execution_count": 11,
   "metadata": {},
   "outputs": [],
   "source": [
    "X_vis = np.array([0, 10]).reshape(-1, 1)\n",
    "y_vis = model.predict(X_vis)"
   ]
  },
  {
   "cell_type": "code",
   "execution_count": 12,
   "metadata": {},
   "outputs": [
    {
     "data": {
      "image/png": "[encoded data removed]",
      "text/plain": [
       "<Figure size 432x288 with 1 Axes>"
      ]
     },
     "metadata": {
      "needs_background": "light"
     },
     "output_type": "display_data"
    }
   ],
   "source": [
    "plt.scatter(X, y)\n",
    "plt.plot(X_vis, y_vis, '-r')\n",
    "\n",
    "plt.title('Perbandingan Jarak_Rumah dan Harga Rumah')\n",
    "plt.xlabel('Jarak_Rumah')\n",
    "plt.ylabel('Harga Rumah')\n",
    "plt.xlim(0, 10)\n",
    "plt.ylim(0, 40)\n",
    "plt.grid(True)\n",
    "plt.show()"
   ]
  },
  {
   "cell_type": "markdown",
   "metadata": {},
   "source": [
    "Formula Linear Regression: y=α+βx"
   ]
  },
  {
   "cell_type": "markdown",
   "metadata": {},
   "source": [
    "y : response variabel (target)\n",
    "\n",
    "x : explanatory variabel (features)\n",
    "\n",
    "α : intercept #garis linesr yang menabrak suatu titik di sumbu y (nilai pada sumbu y ketika sumbu x bernilai 0)\n",
    "\n",
    "β : slope #berpengaruh pada tingkat kemiringan garis linear yang terbentuk, nilao slope 0 akan menghasilkan nilai horizontal"
   ]
  },
  {
   "cell_type": "code",
   "execution_count": 13,
   "metadata": {},
   "outputs": [
    {
     "name": "stdout",
     "output_type": "stream",
     "text": [
      "intercept: 17.707142857142863\n",
      "slope: [5.57857143]\n"
     ]
    }
   ],
   "source": [
    "print(f'intercept: {model.intercept_}')\n",
    "print(f'slope: {model.coef_}')"
   ]
  },
  {
   "cell_type": "markdown",
   "metadata": {},
   "source": [
    "Mencari nilai slope"
   ]
  },
  {
   "cell_type": "code",
   "execution_count": 14,
   "metadata": {},
   "outputs": [
    {
     "name": "stdout",
     "output_type": "stream",
     "text": [
      "X:\n",
      "[[1]\n",
      " [2]\n",
      " [2]\n",
      " [3]\n",
      " [3]]\n",
      "\n",
      "X flatten: [1 2 2 3 3]\n",
      "\n",
      "y: [24.  21.6 34.7 33.4 36.2]\n"
     ]
    }
   ],
   "source": [
    "print(f'X:\\n{X}\\n')\n",
    "print(f'X flatten: {X.flatten()}\\n')\n",
    "print(f'y: {y}')"
   ]
  },
  {
   "cell_type": "markdown",
   "metadata": {},
   "source": [
    "Methode flatten adalah methode untuk mengrmbalikan hasil ke asal yang bukan dua dimensi / diratakan kembali."
   ]
  },
  {
   "cell_type": "markdown",
   "metadata": {},
   "source": [
    "*Variance*"
   ]
  },
  {
   "cell_type": "code",
   "execution_count": 15,
   "metadata": {},
   "outputs": [
    {
     "name": "stdout",
     "output_type": "stream",
     "text": [
      "variance: 0.7\n"
     ]
    }
   ],
   "source": [
    "variance_x = np.var(X.flatten(), ddof=1)\n",
    "print(f'variance: {variance_x}')"
   ]
  },
  {
   "cell_type": "markdown",
   "metadata": {},
   "source": [
    "Nilai variance dapat dihitung dengan memanggil np.var lalu sertakan 2 parameter yang berisi nilai variabel x yang sudah diflatten dan parameter kedua yaitu ddof (dd of freedom) yang di set sebagai 1."
   ]
  },
  {
   "cell_type": "markdown",
   "metadata": {},
   "source": [
    "*Covariance*"
   ]
  },
  {
   "cell_type": "markdown",
   "metadata": {},
   "source": [
    "Nilai covarieance dapat dihitung dengan memanggil np.cov lalu sertakan 2 parameter. Parameter pertama berisi nilai x yang sudah diflatten dan parameter ke 2 adalan nilai dari variabel y, sehingga akan menghasilkan covariance matrix yang terdiri dari 2 kolom dan 2 baris."
   ]
  },
  {
   "cell_type": "code",
   "execution_count": 16,
   "metadata": {},
   "outputs": [
    {
     "data": {
      "text/plain": [
       "array([[ 0.7  ,  3.905],\n",
       "       [ 3.905, 44.662]])"
      ]
     },
     "execution_count": 16,
     "metadata": {},
     "output_type": "execute_result"
    }
   ],
   "source": [
    "np.cov(X.flatten(), y)"
   ]
  },
  {
   "cell_type": "code",
   "execution_count": 17,
   "metadata": {},
   "outputs": [
    {
     "name": "stdout",
     "output_type": "stream",
     "text": [
      "covariance: 3.9050000000000002\n"
     ]
    }
   ],
   "source": [
    "covariance_xy = np.cov(X.flatten(), y)[0][1]\n",
    "print(f'covariance: {covariance_xy}')"
   ]
  },
  {
   "cell_type": "markdown",
   "metadata": {},
   "source": [
    "*Slope*"
   ]
  },
  {
   "cell_type": "markdown",
   "metadata": {},
   "source": [
    "Nilai slope dapat dilakukan dengan menggunakan langkah seperti di bawah ini, setelah melakukan variance dan covariance "
   ]
  },
  {
   "cell_type": "code",
   "execution_count": 18,
   "metadata": {},
   "outputs": [
    {
     "name": "stdout",
     "output_type": "stream",
     "text": [
      "slope: 5.578571428571429\n"
     ]
    }
   ],
   "source": [
    "slope = covariance_xy / variance_x\n",
    "print(f'slope: {slope}')"
   ]
  },
  {
   "cell_type": "markdown",
   "metadata": {},
   "source": [
    "*Intercept*\n",
    "\n",
    "Nilai intercept dapat dilakukan dengan formula:"
   ]
  },
  {
   "attachments": {
    "Rumus.svg": {
     "image/svg+xml": [
      "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"
     ]
    }
   },
   "cell_type": "markdown",
   "metadata": {},
   "source": [
    "![Rumus.svg](attachment:Rumus.svg)"
   ]
  },
  {
   "cell_type": "code",
   "execution_count": 19,
   "metadata": {},
   "outputs": [
    {
     "name": "stdout",
     "output_type": "stream",
     "text": [
      "intercept: 17.707142857142863\n"
     ]
    }
   ],
   "source": [
    "intercept = np.mean(y) - slope * np.mean(X)\n",
    "print(f'intercept: {intercept}')"
   ]
  },
  {
   "cell_type": "code",
   "execution_count": 21,
   "metadata": {},
   "outputs": [
    {
     "name": "stdout",
     "output_type": "stream",
     "text": [
      "intercept: 17.707142857142863\n",
      "slope: [5.57857143]\n"
     ]
    }
   ],
   "source": [
    "print(f'intercept: {model.intercept_}')\n",
    "print(f'slope: {model.coef_}')"
   ]
  },
  {
   "cell_type": "markdown",
   "metadata": {},
   "source": [
    "Prediksi"
   ]
  },
  {
   "cell_type": "code",
   "execution_count": 29,
   "metadata": {},
   "outputs": [
    {
     "data": {
      "text/plain": [
       "array([[100],\n",
       "       [150],\n",
       "       [300]])"
      ]
     },
     "execution_count": 29,
     "metadata": {},
     "output_type": "execute_result"
    }
   ],
   "source": [
    "jarak_rumah = np.array([100, 150, 300]).reshape(-1, 1)\n",
    "jarak_rumah"
   ]
  },
  {
   "cell_type": "markdown",
   "metadata": {},
   "source": [
    "Nilai 100, 150, dan 300 merupakan nilai feature yang akan digunakan pada kasus ini yang akan diprediksi dan dijadikan sebagai np.array"
   ]
  },
  {
   "cell_type": "code",
   "execution_count": 30,
   "metadata": {},
   "outputs": [
    {
     "data": {
      "text/plain": [
       "array([ 575.56428571,  854.49285714, 1691.27857143])"
      ]
     },
     "execution_count": 30,
     "metadata": {},
     "output_type": "execute_result"
    }
   ],
   "source": [
    "prediksi_harga = model.predict(jarak_rumah)\n",
    "prediksi_harga"
   ]
  },
  {
   "cell_type": "code",
   "execution_count": 32,
   "metadata": {},
   "outputs": [
    {
     "name": "stdout",
     "output_type": "stream",
     "text": [
      "jarak_rumah: [100] prediksi harga: 575.5642857142857\n",
      "jarak_rumah: [150] prediksi harga: 854.4928571428571\n",
      "jarak_rumah: [300] prediksi harga: 1691.2785714285712\n"
     ]
    }
   ],
   "source": [
    "for prm, hrg in zip(jarak_rumah, prediksi_harga):\n",
    "    print(f'jarak_rumah: {prm} prediksi harga: {hrg}')"
   ]
  },
  {
   "cell_type": "markdown",
   "metadata": {},
   "source": [
    "*Evaluasi Simple Linear Regression Model*"
   ]
  },
  {
   "cell_type": "markdown",
   "metadata": {},
   "source": [
    "Training & Testing Dataset"
   ]
  },
  {
   "cell_type": "code",
   "execution_count": 49,
   "metadata": {},
   "outputs": [],
   "source": [
    "X_train = np.array([1, 2, 2, 3, 3]).reshape(-1, 1)\n",
    "y_train = np.array([24, 21.6, 34.7, 33.4, 36.2])\n",
    "\n",
    "X_test = np.array([1, 2, 2, 3, 3]).reshape(-1, 1)\n",
    "y_test = np.array([23.28571429, 28.86428571, 28.86428571, 34.44285714, 34.44285714])\n",
    "\n",
    "# X merepresentasikan data features.\n",
    "# y merepresentasikan data target."
   ]
  },
  {
   "cell_type": "markdown",
   "metadata": {},
   "source": [
    "Training Simple Linear Regression Model"
   ]
  },
  {
   "cell_type": "code",
   "execution_count": 43,
   "metadata": {},
   "outputs": [
    {
     "data": {
      "text/plain": [
       "LinearRegression()"
      ]
     },
     "execution_count": 43,
     "metadata": {},
     "output_type": "execute_result"
    }
   ],
   "source": [
    "model = LinearRegression()\n",
    "model.fit(X_train, y_train)"
   ]
  },
  {
   "cell_type": "markdown",
   "metadata": {},
   "source": [
    "Objek model ditraining dengan memanggil methode fit dengan menyertakan (X_train, y_train) sebagai parameternya."
   ]
  },
  {
   "cell_type": "markdown",
   "metadata": {},
   "source": [
    "*Evaluasi Linear Regression Model dengan Coefficient of Determination atau R-squared (R²)*\n"
   ]
  },
  {
   "cell_type": "code",
   "execution_count": 45,
   "metadata": {},
   "outputs": [
    {
     "name": "stdout",
     "output_type": "stream",
     "text": [
      "R squared: 1.0\n"
     ]
    }
   ],
   "source": [
    "from sklearn.metrics import r2_score\n",
    "\n",
    "y_pred = model.predict(X_test)\n",
    "\n",
    "r_squared = r2_score(y_test, y_pred)\n",
    "\n",
    "print(f'R squared: {r_squared}')"
   ]
  },
  {
   "cell_type": "markdown",
   "metadata": {},
   "source": [
    "- Mengimport matriks evaluasi yang diimport adalah r2_score. Kemudian melakukan proses prediksi nilai target dengan memanfaatkan nilai features pada testing set yang nilai prediksinya ditampung kedalam variabel y_pred.\n",
    "\n",
    "- Mengukur nilai \"y\" hasil prediksi dan nilai \"y\" real dengan memanggil fungsi \"r2_score(y_test, y_pred)\" yang ditampung ke dalam variable \"r_squared\". Selanjutnya dapat ditampilkan dengan print.\n",
    "\n",
    "- Nilai r squared semakin dia mendekati 1 (satu) akan semakin baik, tetapi jika semakin menjauhi 1 atau semakin mendekati nilai 0 akan semakin buruk."
   ]
  },
  {
   "cell_type": "markdown",
   "metadata": {},
   "source": [
    "Mencari Nilai R-squared (R²)"
   ]
  },
  {
   "attachments": {
    "rumus2.svg": {
     "image/svg+xml": [
      "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"
     ]
    }
   },
   "cell_type": "markdown",
   "metadata": {},
   "source": [
    "![rumus2.svg](attachment:rumus2.svg)"
   ]
  },
  {
   "attachments": {
    "rumus3.svg": {
     "image/svg+xml": [
      "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"
     ]
    }
   },
   "cell_type": "markdown",
   "metadata": {},
   "source": [
    "![rumus3.svg](attachment:rumus3.svg)"
   ]
  },
  {
   "attachments": {
    "rumus4.svg": {
     "image/svg+xml": [
      "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"
     ]
    }
   },
   "cell_type": "markdown",
   "metadata": {},
   "source": [
    "![rumus4.svg](attachment:rumus4.svg)"
   ]
  },
  {
   "attachments": {
    "rumus5.svg": {
     "image/svg+xml": [
      "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"
     ]
    }
   },
   "cell_type": "markdown",
   "metadata": {},
   "source": [
    "![rumus5.svg](attachment:rumus5.svg)"
   ]
  },
  {
   "cell_type": "code",
   "execution_count": 46,
   "metadata": {},
   "outputs": [
    {
     "name": "stdout",
     "output_type": "stream",
     "text": [
      "ss_res: 7.14287050561234e-17\n"
     ]
    }
   ],
   "source": [
    "ss_res = sum([(y_i - model.predict(x_i.reshape(-1, 1))[0])**2\n",
    "               for x_i, y_i in zip(X_test, y_test)])\n",
    "\n",
    "print(f'ss_res: {ss_res}')"
   ]
  },
  {
   "attachments": {
    "rumus6.svg": {
     "image/svg+xml": [
      "PHN2ZyB4bWxucz0iaHR0cDovL3d3dy53My5vcmcvMjAwMC9zdmciIHhtbG5zOnhsaW5rPSJodHRwOi8vd3d3LnczLm9yZy8xOTk5L3hsaW5rIiB3aWR0aD0iMjkuOTE2NjZwdCIgaGVpZ2h0PSI4LjIxODc1cHQiIHZpZXdCb3g9IjAgMCAyOS45MTY2NiA4LjIxODc1IiB2ZXJzaW9uPSIxLjEiPgo8ZGVmcz4KPGc+CjxzeW1ib2wgb3ZlcmZsb3c9InZpc2libGUiIGlkPSJnbHlwaDAtMCI+CjxwYXRoIHN0eWxlPSJzdHJva2U6bm9uZTsiIGQ9Ik0gNi4wOTM3NSAtOCBMIDUuODEyNSAtOCBDIDUuNjU2MjUgLTcuNzUgNS41NDY4NzUgLTcuNjg3NSA1LjI4MTI1IC03LjY4NzUgQyA1LjEyNSAtNy42ODc1IDQuOTg0Mzc1IC03LjczNDM3NSA0LjczNDM3NSAtNy44MjgxMjUgQyA0LjQ2ODc1IC03LjkzNzUgNC4wNzgxMjUgLTcuOTg0Mzc1IDMuNzAzMTI1IC03Ljk4NDM3NSBDIDIuNTYyNSAtNy45ODQzNzUgMS41NzgxMjUgLTcuMjgxMjUgMS41NzgxMjUgLTYuMDMxMjUgQyAxLjU3ODEyNSAtNS4zNzUgMS43NSAtNC45ODQzNzUgMi40Njg3NSAtNC4yMTg3NSBDIDIuNjI1IC00LjA2MjUgMi43NjU2MjUgLTMuOTA2MjUgMi45Mzc1IC0zLjcxODc1IEwgMy40MDYyNSAtMy4yMTg3NSBDIDMuOTUzMTI1IC0yLjYwOTM3NSA0LjEyNSAtMi4yNSA0LjEyNSAtMS43MzQzNzUgQyA0LjEyNSAtMC44MjgxMjUgMy40ODQzNzUgLTAuMjAzMTI1IDIuNTYyNSAtMC4yMDMxMjUgQyAxLjU0Njg3NSAtMC4yMDMxMjUgMC44MjgxMjUgLTEuMDMxMjUgMC44MjgxMjUgLTIuMjAzMTI1IEMgMC44MjgxMjUgLTIuMjk2ODc1IDAuODI4MTI1IC0yLjM3NSAwLjg1OTM3NSAtMi40ODQzNzUgTCAwLjYwOTM3NSAtMi41MTU2MjUgTCAwLjIwMzEyNSAwLjE4NzUgTCAwLjQyMTg3NSAwLjE4NzUgQyAwLjUgLTAuMDkzNzUgMC43MDMxMjUgLTAuMjAzMTI1IDAuOTM3NSAtMC4yMDMxMjUgQyAxLjA2MjUgLTAuMjAzMTI1IDEuMTcxODc1IC0wLjE4NzUgMS41IC0wLjA2MjUgQyAyLjA0Njg3NSAwLjEyNSAyLjM3NSAwLjIxODc1IDIuNzUgMC4yMTg3NSBDIDQuMTI1IDAuMjE4NzUgNS4xNzE4NzUgLTAuNzUgNS4xNzE4NzUgLTIuMTI1IEMgNS4xNzE4NzUgLTIuOTA2MjUgNC45MDYyNSAtMy40MjE4NzUgMy44MTI1IC00LjUzMTI1IEMgMi43MTg3NSAtNS42MDkzNzUgMi42MjUgLTUuODEyNSAyLjYyNSAtNi4zOTA2MjUgQyAyLjYyNSAtNy4xNTYyNSAzLjE0MDYyNSAtNy41OTM3NSAzLjk2ODc1IC03LjU5Mzc1IEMgNS4xNDA2MjUgLTcuNTkzNzUgNS40MDYyNSAtNi44NTkzNzUgNS40MDYyNSAtNS42NDA2MjUgTCA1LjYwOTM3NSAtNS42MDkzNzUgWiBNIDYuMDkzNzUgLTggIi8+Cjwvc3ltYm9sPgo8c3ltYm9sIG92ZXJmbG93PSJ2aXNpYmxlIiBpZD0iZ2x5cGgwLTEiPgo8cGF0aCBzdHlsZT0ic3Ryb2tlOm5vbmU7IiBkPSJNIDMuNTQ2ODc1IC01LjE0MDYyNSBMIDIuNTkzNzUgLTUuMTQwNjI1IEwgMi45MjE4NzUgLTYuMzc1IEMgMi45Mzc1IC02LjM5MDYyNSAyLjkzNzUgLTYuNDUzMTI1IDIuOTM3NSAtNi40NTMxMjUgQyAyLjkzNzUgLTYuNTE1NjI1IDIuOTA2MjUgLTYuNTQ2ODc1IDIuODI4MTI1IC02LjU0Njg3NSBDIDIuNzgxMjUgLTYuNTQ2ODc1IDIuNzE4NzUgLTYuNTE1NjI1IDIuNjU2MjUgLTYuNDM3NSBDIDIuMjM0Mzc1IC01Ljc5Njg3NSAxLjQ1MzEyNSAtNS4yMDMxMjUgMS4wNjI1IC01LjEyNSBDIDAuNzgxMjUgLTUuMDYyNSAwLjY3MTg3NSAtNC45NTMxMjUgMC42NzE4NzUgLTQuODI4MTI1IEMgMC42NzE4NzUgLTQuODI4MTI1IDAuNjcxODc1IC00Ljc4MTI1IDAuNjg3NSAtNC43NSBMIDEuNTc4MTI1IC00Ljc1IEwgMC42NDA2MjUgLTEuMjAzMTI1IEMgMC41NDY4NzUgLTAuODEyNSAwLjQ1MzEyNSAtMC40Mzc1IDAuNDUzMTI1IC0wLjMxMjUgQyAwLjQ1MzEyNSAtMC4wMTU2MjUgMC42ODc1IDAuMTI1IDEuMDE1NjI1IDAuMTI1IEMgMS42MjUgMC4xMjUgMiAtMC4yMTg3NSAyLjcxODc1IC0xLjMxMjUgTCAyLjU2MjUgLTEuNDA2MjUgQyAxLjk4NDM3NSAtMC42NDA2MjUgMS43ODEyNSAtMC40NTMxMjUgMS41OTM3NSAtMC40NTMxMjUgQyAxLjQ4NDM3NSAtMC40NTMxMjUgMS40MjE4NzUgLTAuNDg0Mzc1IDEuNDIxODc1IC0wLjY0MDYyNSBDIDEuNDIxODc1IC0wLjY4NzUgMS40MjE4NzUgLTAuNzY1NjI1IDEuNDM3NSAtMC44MTI1IEwgMi40ODQzNzUgLTQuNzUgTCAzLjQ4NDM3NSAtNC43NSBaIE0gMy41NDY4NzUgLTUuMTQwNjI1ICIvPgo8L3N5bWJvbD4KPHN5bWJvbCBvdmVyZmxvdz0idmlzaWJsZSIgaWQ9ImdseXBoMC0yIj4KPHBhdGggc3R5bGU9InN0cm9rZTpub25lOyIgZD0iTSA1LjYwOTM3NSAtMy42MDkzNzUgQyA1LjYwOTM3NSAtNC42NzE4NzUgNC44OTA2MjUgLTUuMjk2ODc1IDMuOTIxODc1IC01LjI5Njg3NSBDIDMuNDM3NSAtNS4yOTY4NzUgMi45NTMxMjUgLTUuMTg3NSAyLjQ4NDM3NSAtNC45Mzc1IEMgMS4yMTg3NSAtNC4yNjU2MjUgMC4zMjgxMjUgLTIuODc1IDAuMzI4MTI1IC0xLjUzMTI1IEMgMC4zMjgxMjUgLTAuNDg0Mzc1IDAuOTUzMTI1IDAuMTI1IDIuMDkzNzUgMC4xMjUgQyAyLjg3NSAwLjEyNSAzLjY0MDYyNSAtMC4xNzE4NzUgNC4zNDM3NSAtMC44NTkzNzUgQyA1LjE0MDYyNSAtMS42NDA2MjUgNS42MDkzNzUgLTIuNzAzMTI1IDUuNjA5Mzc1IC0zLjYwOTM3NSBaIE0gNC42MDkzNzUgLTMuOTA2MjUgQyA0LjYwOTM3NSAtMyA0LjI2NTYyNSAtMS44NzUgMy43MTg3NSAtMS4xMDkzNzUgQyAzLjI1IC0wLjQ2ODc1IDIuNzk2ODc1IC0wLjEyNSAyLjI2NTYyNSAtMC4xMjUgQyAxLjcwMzEyNSAtMC4xMjUgMS4zMjgxMjUgLTAuNDg0Mzc1IDEuMzI4MTI1IC0xLjIxODc1IEMgMS4zMjgxMjUgLTIuMTU2MjUgMS42NzE4NzUgLTMuMTA5Mzc1IDIuMjE4NzUgLTMuOTUzMTI1IEMgMi43MDMxMjUgLTQuNjcxODc1IDMuMjM0Mzc1IC01LjA0Njg3NSAzLjc1IC01LjA0Njg3NSBDIDQuMjY1NjI1IC01LjA0Njg3NSA0LjYwOTM3NSAtNC42NDA2MjUgNC42MDkzNzUgLTMuOTA2MjUgWiBNIDQuNjA5Mzc1IC0zLjkwNjI1ICIvPgo8L3N5bWJvbD4KPC9nPgo8L2RlZnM+CjxnIGlkPSJzdXJmYWNlMSI+CjxnIHN0eWxlPSJmaWxsOnJnYigwJSwwJSwwJSk7ZmlsbC1vcGFjaXR5OjE7Ij4KICA8dXNlIHhsaW5rOmhyZWY9IiNnbHlwaDAtMCIgeD0iMC40NjQ4NDQiIHk9IjgiLz4KPC9nPgo8ZyBzdHlsZT0iZmlsbDpyZ2IoMCUsMCUsMCUpO2ZpbGwtb3BhY2l0eToxOyI+CiAgPHVzZSB4bGluazpocmVmPSIjZ2x5cGgwLTAiIHg9IjcuNjg3NSIgeT0iOCIvPgo8L2c+CjxnIHN0eWxlPSJmaWxsOnJnYigwJSwwJSwwJSk7ZmlsbC1vcGFjaXR5OjE7Ij4KICA8dXNlIHhsaW5rOmhyZWY9IiNnbHlwaDAtMSIgeD0iMTQuNjYwMTU2IiB5PSI4Ii8+CjwvZz4KPGcgc3R5bGU9ImZpbGw6cmdiKDAlLDAlLDAlKTtmaWxsLW9wYWNpdHk6MTsiPgogIDx1c2UgeGxpbms6aHJlZj0iI2dseXBoMC0yIiB4PSIxOS4yMTQ4NDQiIHk9IjgiLz4KPC9nPgo8ZyBzdHlsZT0iZmlsbDpyZ2IoMCUsMCUsMCUpO2ZpbGwtb3BhY2l0eToxOyI+CiAgPHVzZSB4bGluazpocmVmPSIjZ2x5cGgwLTEiIHg9IjI1LjcwMzEyNSIgeT0iOCIvPgo8L2c+CjwvZz4KPC9zdmc+Cg=="
     ]
    }
   },
   "cell_type": "markdown",
   "metadata": {},
   "source": [
    "![rumus6.svg](attachment:rumus6.svg)"
   ]
  },
  {
   "cell_type": "markdown",
   "metadata": {},
   "source": [
    "Merupakan proses perhitungan selisih nilai untuk setiap nilai y pada testing set dengan nilai rata-ratanya yang kemudian dipangkatkan 2 dan akan akumulasikan dengan keseluruhan nilai y yang ada."
   ]
  },
  {
   "cell_type": "code",
   "execution_count": 47,
   "metadata": {},
   "outputs": [
    {
     "name": "stdout",
     "output_type": "stream",
     "text": [
      "ss_tot: 87.13728562502857\n"
     ]
    }
   ],
   "source": [
    "mean_y = np.mean(y_test)\n",
    "ss_tot = sum([(y_i - mean_y)**2 for y_i in y_test])\n",
    "\n",
    "print(f'ss_tot: {ss_tot}')"
   ]
  },
  {
   "cell_type": "markdown",
   "metadata": {},
   "source": [
    "R$^2$"
   ]
  },
  {
   "cell_type": "code",
   "execution_count": 48,
   "metadata": {},
   "outputs": [
    {
     "name": "stdout",
     "output_type": "stream",
     "text": [
      "R squared: 1.0\n"
     ]
    }
   ],
   "source": [
    "r_squared = 1 - (ss_res / ss_tot)\n",
    "\n",
    "print(f'R squared: {r_squared}')"
   ]
  },
  {
   "cell_type": "markdown",
   "metadata": {},
   "source": [
    "Nilai R$^2$ didapat setelah menghitung ss res dan ss tot"
   ]
  }
 ],
 "metadata": {
  "kernelspec": {
   "display_name": "Python 3",
   "language": "python",
   "name": "python3"
  },
  "language_info": {
   "codemirror_mode": {
    "name": "ipython",
    "version": 3
   },
   "file_extension": ".py",
   "mimetype": "text/x-python",
   "name": "python",
   "nbconvert_exporter": "python",
   "pygments_lexer": "ipython3",
   "version": "3.8.5"
  }
 },
 "nbformat": 4,
 "nbformat_minor": 4
}
