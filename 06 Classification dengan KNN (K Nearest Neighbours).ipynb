{
 "cells": [
  {
   "cell_type": "markdown",
   "metadata": {},
   "source": [
    "Sample Dataset"
   ]
  },
  {
   "cell_type": "code",
   "execution_count": 1,
   "metadata": {},
   "outputs": [
    {
     "data": {
      "text/html": [
       "<div>\n",
       "<style scoped>\n",
       "    .dataframe tbody tr th:only-of-type {\n",
       "        vertical-align: middle;\n",
       "    }\n",
       "\n",
       "    .dataframe tbody tr th {\n",
       "        vertical-align: top;\n",
       "    }\n",
       "\n",
       "    .dataframe thead th {\n",
       "        text-align: right;\n",
       "    }\n",
       "</style>\n",
       "<table border=\"1\" class=\"dataframe\">\n",
       "  <thead>\n",
       "    <tr style=\"text-align: right;\">\n",
       "      <th></th>\n",
       "      <th>tinggi</th>\n",
       "      <th>berat</th>\n",
       "      <th>jk</th>\n",
       "    </tr>\n",
       "  </thead>\n",
       "  <tbody>\n",
       "    <tr>\n",
       "      <th>0</th>\n",
       "      <td>158</td>\n",
       "      <td>64</td>\n",
       "      <td>pria</td>\n",
       "    </tr>\n",
       "    <tr>\n",
       "      <th>1</th>\n",
       "      <td>170</td>\n",
       "      <td>86</td>\n",
       "      <td>pria</td>\n",
       "    </tr>\n",
       "    <tr>\n",
       "      <th>2</th>\n",
       "      <td>183</td>\n",
       "      <td>84</td>\n",
       "      <td>pria</td>\n",
       "    </tr>\n",
       "    <tr>\n",
       "      <th>3</th>\n",
       "      <td>191</td>\n",
       "      <td>80</td>\n",
       "      <td>pria</td>\n",
       "    </tr>\n",
       "    <tr>\n",
       "      <th>4</th>\n",
       "      <td>155</td>\n",
       "      <td>49</td>\n",
       "      <td>wanita</td>\n",
       "    </tr>\n",
       "    <tr>\n",
       "      <th>5</th>\n",
       "      <td>163</td>\n",
       "      <td>59</td>\n",
       "      <td>wanita</td>\n",
       "    </tr>\n",
       "    <tr>\n",
       "      <th>6</th>\n",
       "      <td>180</td>\n",
       "      <td>67</td>\n",
       "      <td>wanita</td>\n",
       "    </tr>\n",
       "    <tr>\n",
       "      <th>7</th>\n",
       "      <td>158</td>\n",
       "      <td>54</td>\n",
       "      <td>wanita</td>\n",
       "    </tr>\n",
       "    <tr>\n",
       "      <th>8</th>\n",
       "      <td>178</td>\n",
       "      <td>67</td>\n",
       "      <td>wanita</td>\n",
       "    </tr>\n",
       "  </tbody>\n",
       "</table>\n",
       "</div>"
      ],
      "text/plain": [
       "   tinggi  berat      jk\n",
       "0     158     64    pria\n",
       "1     170     86    pria\n",
       "2     183     84    pria\n",
       "3     191     80    pria\n",
       "4     155     49  wanita\n",
       "5     163     59  wanita\n",
       "6     180     67  wanita\n",
       "7     158     54  wanita\n",
       "8     178     67  wanita"
      ]
     },
     "execution_count": 1,
     "metadata": {},
     "output_type": "execute_result"
    }
   ],
   "source": [
    "import pandas as pd\n",
    "\n",
    "sensus = {\n",
    "    'tinggi': [158, 170, 183, 191, 155, 163, 180, 158, 178],\n",
    "    'berat' : [64, 86, 84, 80, 49, 59, 67, 54, 67],\n",
    "    'jk': [\n",
    "        'pria', 'pria', 'pria', 'pria', 'wanita', 'wanita', 'wanita', 'wanita', \n",
    "        'wanita'\n",
    "    ]\n",
    "}\n",
    "\n",
    "sensus_df = pd.DataFrame(sensus)\n",
    "sensus_df"
   ]
  },
  {
   "cell_type": "markdown",
   "metadata": {},
   "source": [
    "Import modul pandas yang kemudian data dictionary ditampung ke sebuah variabel sensus.  Data dictionary berisi tinggi yang akan berasosiasi dengan tinggi badan, berat berasosiasi dengan berat badan, dan jk (jenis kelamin). Variabel data sensus tersebut diubah menjadi pandas dengan menggunakan pandas data frame, seperti : \n",
    "sensus_df = pd.DataFrame(sensus)\n",
    "Hasil dari data frame menghasilkan 3 buah kolom yang berisi tinggi, berat,  dan jk.  Data tinggi dan berat akan berperan sebagai feature sedangkan jk berperan sebagai target. "
   ]
  },
  {
   "cell_type": "markdown",
   "metadata": {},
   "source": [
    "Visualisasi Data"
   ]
  },
  {
   "cell_type": "code",
   "execution_count": 2,
   "metadata": {},
   "outputs": [
    {
     "data": {
      "image/png": "[encoded data removed]",
      "text/plain": [
       "<Figure size 432x288 with 1 Axes>"
      ]
     },
     "metadata": {
      "needs_background": "light"
     },
     "output_type": "display_data"
    }
   ],
   "source": [
    "import matplotlib.pyplot as plt\n",
    "\n",
    "fig, ax = plt.subplots()\n",
    "for jk, d in sensus_df.groupby('jk'):\n",
    "    ax.scatter(d['tinggi'], d['berat'], label=jk)\n",
    "    \n",
    "plt.legend(loc='upper left')\n",
    "plt.title('Sebaran Data Tinggi Badan, Berat Badan, dan Jenis Kelamin')\n",
    "plt.xlabel('Tinggi Badan (cm)')\n",
    "plt.ylabel('Berat Badan (kg)')\n",
    "plt.grid(True)\n",
    "plt.show()"
   ]
  },
  {
   "cell_type": "markdown",
   "metadata": {},
   "source": [
    "Sumbu x akan berasosiasi dengan tinggi badan sedangkan sumbu y akan berasosiasi  dengan berat badan.  Untuk membedakan jenis kelamin pria dan wanita menggunakan jenis warna marker yang berbeda. \n",
    "\n",
    "Langkah yang dapat dilakukan pertama kali adalah dengan mengimport matpolib.pyplot as plt.  Kemudian membentuk subplots dengan menangkap objek figure dan axesnya. Selanjutnya akan dilakukan looping terhadap data sensus_df ini di mana sensus_df nya di buat group terlebih dahulu berdasarkan jk atau jenis kelamin. Selain data jk, ada juga d yang adalah sekumpulan baris data dari kelompok jenis kelamin tertentu. Selanjutnya pada saat pembentukan scatter plot maka perlu memanggil ax.scatter yang akan berisi sumbu x yang berasosiasi dengan data baris drngan kolom tinggi sedangkan sumbu y nya berisi data baris dengan kolom berat dan menyertakan label yang berasosiasi dengan jenis kelamin. "
   ]
  },
  {
   "cell_type": "markdown",
   "metadata": {},
   "source": [
    "Keterangan tambahan:\n",
    "\n",
    "plt.legend(loc='upper left') #berasosiasi dengan label jk,  yaitu pria dan wanita #loc berfungsi untuk menentukan lokasi, dalam kasus ini kiri atas\n",
    "\n",
    "plt.title('Sebaran Data Tinggi Badan, Berat Badan, dan Jenis Kelamin') #judul\n",
    "\n",
    "plt.xlabel('Tinggi Badan (cm) ') #label sumbu x\n",
    "\n",
    "plt.ylabel('Berat Badan (kg) ') #label sumbu y\n",
    "\n",
    "plt.grid(True) #untuk memunculkan grid\n",
    "\n",
    "plt.show() #untuk memunculkan hasil plotting"
   ]
  },
  {
   "cell_type": "markdown",
   "metadata": {},
   "source": [
    "_Classification dengan KNN_"
   ]
  },
  {
   "cell_type": "markdown",
   "metadata": {},
   "source": [
    "Preprocessing Dataset"
   ]
  },
  {
   "cell_type": "code",
   "execution_count": 3,
   "metadata": {},
   "outputs": [
    {
     "name": "stdout",
     "output_type": "stream",
     "text": [
      "X_train:\n",
      "[[158  64]\n",
      " [170  86]\n",
      " [183  84]\n",
      " [191  80]\n",
      " [155  49]\n",
      " [163  59]\n",
      " [180  67]\n",
      " [158  54]\n",
      " [178  67]]\n",
      "\n",
      "y_train: ['pria' 'pria' 'pria' 'pria' 'wanita' 'wanita' 'wanita' 'wanita' 'wanita']\n"
     ]
    }
   ],
   "source": [
    "import numpy as np\n",
    "\n",
    "X_train = np.array(sensus_df[['tinggi', 'berat']])\n",
    "y_train = np.array(sensus_df['jk'])\n",
    "\n",
    "print(f'X_train:\\n{X_train}\\n')\n",
    "print(f'y_train: {y_train}')"
   ]
  },
  {
   "cell_type": "markdown",
   "metadata": {},
   "source": [
    "Mengimport numpy, kemudian membuat 2 buah numpy array.  Numpy array yang pertama berdasarkan kolom tinggi dan kolom berat dari sensus df. Numpy array krdua akan berdasarkan jenis kelamin dari sensus df. Numpy array pertana ditampung pada variabel X_train, numpy array kedua ditampung dalam variabel y_train. X_train berisi nilai feature,  sedangkan y_train berisi kumpulan target. "
   ]
  },
  {
   "cell_type": "code",
   "execution_count": 4,
   "metadata": {},
   "outputs": [
    {
     "name": "stdout",
     "output_type": "stream",
     "text": [
      "y_train:\n",
      "[[0]\n",
      " [0]\n",
      " [0]\n",
      " [0]\n",
      " [1]\n",
      " [1]\n",
      " [1]\n",
      " [1]\n",
      " [1]]\n"
     ]
    }
   ],
   "source": [
    "from sklearn.preprocessing import LabelBinarizer\n",
    "\n",
    "lb = LabelBinarizer()\n",
    "y_train = lb.fit_transform(y_train)\n",
    "print(f'y_train:\\n{y_train}')"
   ]
  },
  {
   "cell_type": "markdown",
   "metadata": {},
   "source": [
    "Label binarizer digunakan untuk melakukan konfersi nilai string menjadi numerik.  Pada kasus kali ini adalah y_train. \n",
    "\n",
    "Import label binarizer, kemudian membentuk objek label binarizer yang ditampung dalam variabel lb.  Objek label binarizer ini digunakan untuk transfer data y_train yang ditampung pada variabel y_train. Kemudian lakukan print untuk mendapatkan hasilnya. \n",
    "\n",
    "Nilai 0 akan merepresentasikan data pria dan nilai 1 merepresentasikan wanita."
   ]
  },
  {
   "cell_type": "code",
   "execution_count": 5,
   "metadata": {},
   "outputs": [
    {
     "name": "stdout",
     "output_type": "stream",
     "text": [
      "y_train: [0 0 0 0 1 1 1 1 1]\n"
     ]
    }
   ],
   "source": [
    "y_train = y_train.flatten()\n",
    "print(f'y_train: {y_train}')"
   ]
  },
  {
   "cell_type": "markdown",
   "metadata": {},
   "source": [
    "Methode flatten digunakan untuk transformasi data dua dimensi tadi menjadi satu dimensi dengan menggunakan variabel y_train"
   ]
  },
  {
   "cell_type": "markdown",
   "metadata": {},
   "source": [
    "Training KNN Classification Model"
   ]
  },
  {
   "cell_type": "code",
   "execution_count": 6,
   "metadata": {},
   "outputs": [
    {
     "data": {
      "text/plain": [
       "KNeighborsClassifier(n_neighbors=3)"
      ]
     },
     "execution_count": 6,
     "metadata": {},
     "output_type": "execute_result"
    }
   ],
   "source": [
    "from sklearn.neighbors import KNeighborsClassifier\n",
    "\n",
    "K = 3\n",
    "model = KNeighborsClassifier(n_neighbors=K)\n",
    "model.fit(X_train, y_train)"
   ]
  },
  {
   "cell_type": "markdown",
   "metadata": {},
   "source": [
    "Import sklearn terlebih dahulu. Terdspst 1 parameter K yang harus diklasifikasikan nilainya. Nilai paramter K diset menjadi 3 yang mana nilai ini akan dilakukan untuk mrnrntukan jumlah tetangga terdekat yangbakan dilibatkan. Setelah itu membentuk objek dari KNeighborsClassifier yang membutuhkan 1 parameter yang diberi nilai n_neighbors=K yang ditampung dalam variabel model. Setelah itu melakukan proses training dengan memanggil model"
   ]
  },
  {
   "cell_type": "markdown",
   "metadata": {},
   "source": [
    "Prediksi Jenis Kelamin"
   ]
  },
  {
   "cell_type": "code",
   "execution_count": 7,
   "metadata": {},
   "outputs": [
    {
     "data": {
      "text/plain": [
       "array([[155,  70]])"
      ]
     },
     "execution_count": 7,
     "metadata": {},
     "output_type": "execute_result"
    }
   ],
   "source": [
    "tinggi_badan = 155\n",
    "berat_badan = 70\n",
    "X_new = np.array([tinggi_badan, berat_badan]).reshape(1, -1)\n",
    "X_new\n",
    "\n",
    "#Reshape digunakan untuk membuat 2 dimensi. Array numpy tersebut ditampung pada variabel X_new."
   ]
  },
  {
   "cell_type": "code",
   "execution_count": 8,
   "metadata": {},
   "outputs": [
    {
     "data": {
      "text/plain": [
       "array([1])"
      ]
     },
     "execution_count": 8,
     "metadata": {},
     "output_type": "execute_result"
    }
   ],
   "source": [
    "y_new = model.predict(X_new)\n",
    "y_new\n",
    "\n",
    "#Variabel y_new adalah untuk memprediksi gender atau jenis kelamin"
   ]
  },
  {
   "cell_type": "code",
   "execution_count": 9,
   "metadata": {},
   "outputs": [
    {
     "data": {
      "text/plain": [
       "array(['wanita'], dtype='<U6')"
      ]
     },
     "execution_count": 9,
     "metadata": {},
     "output_type": "execute_result"
    }
   ],
   "source": [
    "lb.inverse_transform(y_new)\n",
    "\n",
    "#Untuk memanggil nilai label binarizer untuk mengetahui nilai 0 atau 1."
   ]
  },
  {
   "cell_type": "markdown",
   "metadata": {},
   "source": [
    "Visualisasi Nearest Neighbours"
   ]
  },
  {
   "cell_type": "code",
   "execution_count": 10,
   "metadata": {},
   "outputs": [
    {
     "data": {
      "image/png": "[encoded data removed]",
      "text/plain": [
       "<Figure size 432x288 with 1 Axes>"
      ]
     },
     "metadata": {
      "needs_background": "light"
     },
     "output_type": "display_data"
    }
   ],
   "source": [
    "fig, ax = plt.subplots()\n",
    "for jk, d in sensus_df.groupby('jk'):\n",
    "    ax.scatter(d['tinggi'], d['berat'], label=jk)\n",
    "\n",
    "plt.scatter(tinggi_badan,\n",
    "           berat_badan,\n",
    "           marker='s',\n",
    "           color='red',\n",
    "           label='misterius')\n",
    "\n",
    "plt.legend(loc='upper left')\n",
    "plt.title('Sebaran Data Tinggi Badan, Berat Badan, dan Jenis Kelamin')\n",
    "plt.xlabel('Tinggi Badan (cm)')\n",
    "plt.ylabel('Berat Badan (kg)')\n",
    "plt.grid(True)\n",
    "plt.show()"
   ]
  },
  {
   "cell_type": "markdown",
   "metadata": {},
   "source": [
    "Kalkulasi Distance (Euclidean Distance)\n",
    "\n",
    "Mengukur jarak atau kedekatan antara 1 data poin dengan data poin lainnya pada dataset. "
   ]
  },
  {
   "attachments": {
    "rumus7.svg": {
     "image/svg+xml": [
      "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"
     ]
    }
   },
   "cell_type": "markdown",
   "metadata": {},
   "source": [
    "![rumus7.svg](attachment:rumus7.svg)"
   ]
  },
  {
   "cell_type": "markdown",
   "metadata": {},
   "source": [
    "t : merepresentasikan tinggi badan.\n",
    "\n",
    "b : merepresentasikan berat badan.\n",
    "\n",
    "t1 : merepresentasikan data tinggi badan dari data point yang pertama.\n",
    "\n",
    "t2 : merepresentasikan data tinggi badan dari data point yang kedua.\n",
    "\n",
    "\n",
    "b1 : merepresentasikan data berat badan dari data point yang pertama.\n",
    "\n",
    "b2 : merepresentasikan data berat badan dari data point yang kedua.\n"
   ]
  },
  {
   "cell_type": "code",
   "execution_count": 11,
   "metadata": {},
   "outputs": [
    {
     "data": {
      "text/plain": [
       "array([155,  70])"
      ]
     },
     "execution_count": 11,
     "metadata": {},
     "output_type": "execute_result"
    }
   ],
   "source": [
    "misterius = np.array([tinggi_badan, berat_badan])\n",
    "misterius"
   ]
  },
  {
   "cell_type": "code",
   "execution_count": 12,
   "metadata": {},
   "outputs": [
    {
     "data": {
      "text/plain": [
       "array([[158,  64],\n",
       "       [170,  86],\n",
       "       [183,  84],\n",
       "       [191,  80],\n",
       "       [155,  49],\n",
       "       [163,  59],\n",
       "       [180,  67],\n",
       "       [158,  54],\n",
       "       [178,  67]], dtype=int64)"
      ]
     },
     "execution_count": 12,
     "metadata": {},
     "output_type": "execute_result"
    }
   ],
   "source": [
    "X_train"
   ]
  },
  {
   "cell_type": "code",
   "execution_count": 13,
   "metadata": {},
   "outputs": [
    {
     "data": {
      "text/plain": [
       "[6.708203932499369,\n",
       " 21.93171219946131,\n",
       " 31.304951684997057,\n",
       " 37.36308338453881,\n",
       " 21.0,\n",
       " 13.601470508735444,\n",
       " 25.179356624028344,\n",
       " 16.278820596099706,\n",
       " 23.194827009486403]"
      ]
     },
     "execution_count": 13,
     "metadata": {},
     "output_type": "execute_result"
    }
   ],
   "source": [
    "from scipy.spatial.distance import euclidean\n",
    "\n",
    "data_jarak = [euclidean(misterius, d) for d in X_train]\n",
    "data_jarak"
   ]
  },
  {
   "cell_type": "code",
   "execution_count": 14,
   "metadata": {},
   "outputs": [
    {
     "data": {
      "text/html": [
       "<div>\n",
       "<style scoped>\n",
       "    .dataframe tbody tr th:only-of-type {\n",
       "        vertical-align: middle;\n",
       "    }\n",
       "\n",
       "    .dataframe tbody tr th {\n",
       "        vertical-align: top;\n",
       "    }\n",
       "\n",
       "    .dataframe thead th {\n",
       "        text-align: right;\n",
       "    }\n",
       "</style>\n",
       "<table border=\"1\" class=\"dataframe\">\n",
       "  <thead>\n",
       "    <tr style=\"text-align: right;\">\n",
       "      <th></th>\n",
       "      <th>tinggi</th>\n",
       "      <th>berat</th>\n",
       "      <th>jk</th>\n",
       "      <th>jarak</th>\n",
       "    </tr>\n",
       "  </thead>\n",
       "  <tbody>\n",
       "    <tr>\n",
       "      <th>0</th>\n",
       "      <td>158</td>\n",
       "      <td>64</td>\n",
       "      <td>pria</td>\n",
       "      <td>6.708204</td>\n",
       "    </tr>\n",
       "    <tr>\n",
       "      <th>5</th>\n",
       "      <td>163</td>\n",
       "      <td>59</td>\n",
       "      <td>wanita</td>\n",
       "      <td>13.601471</td>\n",
       "    </tr>\n",
       "    <tr>\n",
       "      <th>7</th>\n",
       "      <td>158</td>\n",
       "      <td>54</td>\n",
       "      <td>wanita</td>\n",
       "      <td>16.278821</td>\n",
       "    </tr>\n",
       "    <tr>\n",
       "      <th>4</th>\n",
       "      <td>155</td>\n",
       "      <td>49</td>\n",
       "      <td>wanita</td>\n",
       "      <td>21.000000</td>\n",
       "    </tr>\n",
       "    <tr>\n",
       "      <th>1</th>\n",
       "      <td>170</td>\n",
       "      <td>86</td>\n",
       "      <td>pria</td>\n",
       "      <td>21.931712</td>\n",
       "    </tr>\n",
       "    <tr>\n",
       "      <th>8</th>\n",
       "      <td>178</td>\n",
       "      <td>67</td>\n",
       "      <td>wanita</td>\n",
       "      <td>23.194827</td>\n",
       "    </tr>\n",
       "    <tr>\n",
       "      <th>6</th>\n",
       "      <td>180</td>\n",
       "      <td>67</td>\n",
       "      <td>wanita</td>\n",
       "      <td>25.179357</td>\n",
       "    </tr>\n",
       "    <tr>\n",
       "      <th>2</th>\n",
       "      <td>183</td>\n",
       "      <td>84</td>\n",
       "      <td>pria</td>\n",
       "      <td>31.304952</td>\n",
       "    </tr>\n",
       "    <tr>\n",
       "      <th>3</th>\n",
       "      <td>191</td>\n",
       "      <td>80</td>\n",
       "      <td>pria</td>\n",
       "      <td>37.363083</td>\n",
       "    </tr>\n",
       "  </tbody>\n",
       "</table>\n",
       "</div>"
      ],
      "text/plain": [
       "   tinggi  berat      jk      jarak\n",
       "0     158     64    pria   6.708204\n",
       "5     163     59  wanita  13.601471\n",
       "7     158     54  wanita  16.278821\n",
       "4     155     49  wanita  21.000000\n",
       "1     170     86    pria  21.931712\n",
       "8     178     67  wanita  23.194827\n",
       "6     180     67  wanita  25.179357\n",
       "2     183     84    pria  31.304952\n",
       "3     191     80    pria  37.363083"
      ]
     },
     "execution_count": 14,
     "metadata": {},
     "output_type": "execute_result"
    }
   ],
   "source": [
    "sensus_df['jarak'] = data_jarak\n",
    "sensus_df.sort_values(['jarak'])\n",
    "\n",
    "#diurutkan berdasarkan data nilai terkecil sampai terbesar "
   ]
  },
  {
   "cell_type": "markdown",
   "metadata": {},
   "source": [
    "Evaluasi KNN Classification Model"
   ]
  },
  {
   "cell_type": "markdown",
   "metadata": {},
   "source": [
    "Testing Set"
   ]
  },
  {
   "cell_type": "code",
   "execution_count": 15,
   "metadata": {
    "scrolled": true
   },
   "outputs": [
    {
     "name": "stdout",
     "output_type": "stream",
     "text": [
      "X_test:\n",
      "[[168  65]\n",
      " [180  96]\n",
      " [160  52]\n",
      " [169  67]]\n",
      "\n",
      "y_test:\n",
      "[0 0 1 1]\n"
     ]
    }
   ],
   "source": [
    "X_test = np.array([[168, 65], [180, 96], [160, 52], [169, 67]])\n",
    "y_test = lb.transform(np.array(['pria', 'pria', 'wanita', 'wanita'])).flatten()\n",
    "\n",
    "print(f'X_test:\\n{X_test}\\n')\n",
    "print(f'y_test:\\n{y_test}')\n",
    "\n",
    "#Methode binarizer untuk transformasi string ke numerik.  Methode flatten untuk mengubah array 2 dimensi. "
   ]
  },
  {
   "cell_type": "markdown",
   "metadata": {},
   "source": [
    "Prediksi Terhadap Testing Set"
   ]
  },
  {
   "cell_type": "code",
   "execution_count": 16,
   "metadata": {},
   "outputs": [
    {
     "data": {
      "text/plain": [
       "array([1, 0, 1, 1])"
      ]
     },
     "execution_count": 16,
     "metadata": {},
     "output_type": "execute_result"
    }
   ],
   "source": [
    "y_pred = model.predict(X_test)\n",
    "y_pred"
   ]
  },
  {
   "cell_type": "markdown",
   "metadata": {},
   "source": [
    "Accuracy\n",
    "\n",
    "Akurasi adalah propodi dari instance yang berhasil diprediksi dengan tepat.\n"
   ]
  },
  {
   "attachments": {
    "rumus8.svg": {
     "image/svg+xml": [
      "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"
     ]
    }
   },
   "cell_type": "markdown",
   "metadata": {},
   "source": [
    "![rumus8.svg](attachment:rumus8.svg)"
   ]
  },
  {
   "cell_type": "markdown",
   "metadata": {},
   "source": [
    "tp = true positive\n",
    "\n",
    "tn = true negative\n",
    "\n",
    "fp = false postive\n",
    "\n",
    "fn = false negative\n",
    "\n",
    "\n",
    "True postif dan truen negatif merepresentasikan hasil prediksi atau klasifikasi yang benar. True postive berarti sesuatu yang bernilai positif telah dengan tepat diprediksi sebagai positif oleh model, sedangkan true negative berarti sesuatu yang bernilai negatif telah dengan tepat diprediksi sebagai sesuatu yang negatif oleh model atau dengan kata lain."
   ]
  },
  {
   "cell_type": "code",
   "execution_count": 17,
   "metadata": {},
   "outputs": [
    {
     "name": "stdout",
     "output_type": "stream",
     "text": [
      "Accuracy: 0.75\n"
     ]
    }
   ],
   "source": [
    "from sklearn.metrics import accuracy_score\n",
    "\n",
    "acc = accuracy_score(y_test, y_pred)\n",
    "\n",
    "print(f'Accuracy: {acc}')"
   ]
  },
  {
   "cell_type": "markdown",
   "metadata": {},
   "source": [
    "Precission\n",
    "\n",
    "Precision merupakan proposi dari testing set yang diprediksi positif sebagai model yang benar-benar positif. "
   ]
  },
  {
   "attachments": {
    "rumus9.svg": {
     "image/svg+xml": [
      "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"
     ]
    }
   },
   "cell_type": "markdown",
   "metadata": {},
   "source": [
    "![rumus9.svg](attachment:rumus9.svg)"
   ]
  },
  {
   "cell_type": "markdown",
   "metadata": {},
   "source": [
    "tp : merepresentasikan nilai true positive.\n",
    "\n",
    "fp : merepresentasikan nilai false positive."
   ]
  },
  {
   "cell_type": "code",
   "execution_count": 18,
   "metadata": {},
   "outputs": [
    {
     "name": "stdout",
     "output_type": "stream",
     "text": [
      "Precission: 0.6666666666666666\n"
     ]
    }
   ],
   "source": [
    "from sklearn.metrics import precision_score\n",
    "\n",
    "prec = precision_score(y_test, y_pred)\n",
    "\n",
    "print(f'Precission: {prec}')"
   ]
  },
  {
   "cell_type": "markdown",
   "metadata": {},
   "source": [
    "Recall\n",
    "\n",
    "Recall adalah proposi dari data yang positif dari prediksi positif."
   ]
  },
  {
   "attachments": {
    "rumus10.svg": {
     "image/svg+xml": [
      "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"
     ]
    }
   },
   "cell_type": "markdown",
   "metadata": {},
   "source": [
    "![rumus10.svg](attachment:rumus10.svg)"
   ]
  },
  {
   "cell_type": "markdown",
   "metadata": {},
   "source": [
    "tp : merepresentasikan nilai true positive.\n",
    "\n",
    "fn : merepresentasikan nilai false negativ."
   ]
  },
  {
   "cell_type": "code",
   "execution_count": 19,
   "metadata": {},
   "outputs": [
    {
     "name": "stdout",
     "output_type": "stream",
     "text": [
      "Recall: 1.0\n"
     ]
    }
   ],
   "source": [
    "from sklearn.metrics import recall_score\n",
    "\n",
    "rec = recall_score(y_test, y_pred)\n",
    "\n",
    "print(f'Recall: {rec}')\n"
   ]
  },
  {
   "cell_type": "markdown",
   "metadata": {},
   "source": [
    "F1 Score\n",
    "\n",
    "F1 score merupakan nilai ratarata harmonik dari precission dengan recall. \n"
   ]
  },
  {
   "attachments": {
    "rumus11.svg": {
     "image/svg+xml": [
      "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"
     ]
    }
   },
   "cell_type": "markdown",
   "metadata": {},
   "source": [
    "![rumus11.svg](attachment:rumus11.svg)"
   ]
  },
  {
   "cell_type": "code",
   "execution_count": 20,
   "metadata": {},
   "outputs": [
    {
     "name": "stdout",
     "output_type": "stream",
     "text": [
      "F1-score: 0.8\n"
     ]
    }
   ],
   "source": [
    "from sklearn.metrics import f1_score\n",
    "\n",
    "f1 = f1_score(y_test, y_pred)\n",
    "\n",
    "print(f'F1-score: {f1}')"
   ]
  },
  {
   "cell_type": "markdown",
   "metadata": {},
   "source": [
    "Classification Report"
   ]
  },
  {
   "cell_type": "code",
   "execution_count": 21,
   "metadata": {},
   "outputs": [
    {
     "name": "stdout",
     "output_type": "stream",
     "text": [
      "Classification Report :\n",
      "              precision    recall  f1-score   support\n",
      "\n",
      "           0       1.00      0.50      0.67         2\n",
      "           1       0.67      1.00      0.80         2\n",
      "\n",
      "    accuracy                           0.75         4\n",
      "   macro avg       0.83      0.75      0.73         4\n",
      "weighted avg       0.83      0.75      0.73         4\n",
      "\n"
     ]
    }
   ],
   "source": [
    "from sklearn.metrics import classification_report\n",
    "\n",
    "cls_report = classification_report(y_test, y_pred)\n",
    "\n",
    "print(f'Classification Report :\\n{cls_report}')"
   ]
  },
  {
   "cell_type": "markdown",
   "metadata": {},
   "source": [
    "Matthews Correlation Coefficient (MCC) \n",
    "\n",
    "MCC merupakan alternatif untuj f1 score untuk keperluaf classifier\n",
    "\n",
    "MCC tertinggi bernilai 1\n",
    "\n",
    "Rentang nilai MCC dari -1 untuk nilai terburuk dan 1 untuk nilai yang sempurna"
   ]
  },
  {
   "attachments": {
    "rumus12.svg": {
     "image/svg+xml": [
      "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"
     ]
    }
   },
   "cell_type": "markdown",
   "metadata": {},
   "source": [
    "![rumus12.svg](attachment:rumus12.svg)"
   ]
  },
  {
   "cell_type": "code",
   "execution_count": 22,
   "metadata": {},
   "outputs": [
    {
     "name": "stdout",
     "output_type": "stream",
     "text": [
      "MCC: 0.5773502691896258\n"
     ]
    }
   ],
   "source": [
    "from sklearn.metrics import matthews_corrcoef\n",
    "\n",
    "mcc = matthews_corrcoef(y_test, y_pred)\n",
    "\n",
    "print(f'MCC: {mcc}')"
   ]
  },
  {
   "cell_type": "markdown",
   "metadata": {},
   "source": [
    "*SUMBER : https://www.youtube.com/watch?v=4zARMcgc7hA*"
   ]
  }
 ],
 "metadata": {
  "kernelspec": {
   "display_name": "Python 3",
   "language": "python",
   "name": "python3"
  },
  "language_info": {
   "codemirror_mode": {
    "name": "ipython",
    "version": 3
   },
   "file_extension": ".py",
   "mimetype": "text/x-python",
   "name": "python",
   "nbconvert_exporter": "python",
   "pygments_lexer": "ipython3",
   "version": "3.8.5"
  }
 },
 "nbformat": 4,
 "nbformat_minor": 4
}
