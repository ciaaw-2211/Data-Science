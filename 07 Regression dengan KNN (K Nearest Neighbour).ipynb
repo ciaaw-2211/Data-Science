{
 "cells": [
  {
   "cell_type": "markdown",
   "metadata": {},
   "source": [
    "Regression dengan KNN (K Nearest Neighbour)"
   ]
  },
  {
   "cell_type": "markdown",
   "metadata": {},
   "source": [
    "Sample Dataset"
   ]
  },
  {
   "cell_type": "code",
   "execution_count": 1,
   "metadata": {},
   "outputs": [
    {
     "data": {
      "text/html": [
       "<div>\n",
       "<style scoped>\n",
       "    .dataframe tbody tr th:only-of-type {\n",
       "        vertical-align: middle;\n",
       "    }\n",
       "\n",
       "    .dataframe tbody tr th {\n",
       "        vertical-align: top;\n",
       "    }\n",
       "\n",
       "    .dataframe thead th {\n",
       "        text-align: right;\n",
       "    }\n",
       "</style>\n",
       "<table border=\"1\" class=\"dataframe\">\n",
       "  <thead>\n",
       "    <tr style=\"text-align: right;\">\n",
       "      <th></th>\n",
       "      <th>tinggi</th>\n",
       "      <th>jk</th>\n",
       "      <th>berat</th>\n",
       "    </tr>\n",
       "  </thead>\n",
       "  <tbody>\n",
       "    <tr>\n",
       "      <th>0</th>\n",
       "      <td>158</td>\n",
       "      <td>pria</td>\n",
       "      <td>64</td>\n",
       "    </tr>\n",
       "    <tr>\n",
       "      <th>1</th>\n",
       "      <td>170</td>\n",
       "      <td>pria</td>\n",
       "      <td>86</td>\n",
       "    </tr>\n",
       "    <tr>\n",
       "      <th>2</th>\n",
       "      <td>183</td>\n",
       "      <td>pria</td>\n",
       "      <td>84</td>\n",
       "    </tr>\n",
       "    <tr>\n",
       "      <th>3</th>\n",
       "      <td>191</td>\n",
       "      <td>pria</td>\n",
       "      <td>80</td>\n",
       "    </tr>\n",
       "    <tr>\n",
       "      <th>4</th>\n",
       "      <td>155</td>\n",
       "      <td>wanita</td>\n",
       "      <td>49</td>\n",
       "    </tr>\n",
       "    <tr>\n",
       "      <th>5</th>\n",
       "      <td>163</td>\n",
       "      <td>wanita</td>\n",
       "      <td>59</td>\n",
       "    </tr>\n",
       "    <tr>\n",
       "      <th>6</th>\n",
       "      <td>180</td>\n",
       "      <td>wanita</td>\n",
       "      <td>67</td>\n",
       "    </tr>\n",
       "    <tr>\n",
       "      <th>7</th>\n",
       "      <td>158</td>\n",
       "      <td>wanita</td>\n",
       "      <td>54</td>\n",
       "    </tr>\n",
       "    <tr>\n",
       "      <th>8</th>\n",
       "      <td>170</td>\n",
       "      <td>wanita</td>\n",
       "      <td>67</td>\n",
       "    </tr>\n",
       "  </tbody>\n",
       "</table>\n",
       "</div>"
      ],
      "text/plain": [
       "   tinggi      jk  berat\n",
       "0     158    pria     64\n",
       "1     170    pria     86\n",
       "2     183    pria     84\n",
       "3     191    pria     80\n",
       "4     155  wanita     49\n",
       "5     163  wanita     59\n",
       "6     180  wanita     67\n",
       "7     158  wanita     54\n",
       "8     170  wanita     67"
      ]
     },
     "execution_count": 1,
     "metadata": {},
     "output_type": "execute_result"
    }
   ],
   "source": [
    "import pandas as pd\n",
    "\n",
    "sensus = {'tinggi' : [158, 170, 183, 191, 155, 163, 180, 158, 170],\n",
    "         'jk' : ['pria', 'pria', 'pria', 'pria', 'wanita', 'wanita', 'wanita', 'wanita', 'wanita'],\n",
    "         'berat' : [64, 86, 84, 80, 49, 59, 67, 54, 67]}\n",
    "\n",
    "sensus_df = pd.DataFrame(sensus)\n",
    "sensus_df"
   ]
  },
  {
   "cell_type": "markdown",
   "metadata": {},
   "source": [
    "Import module pandas dengan memanggil import pandas as pd. Kemudian dilanjutkan dengan menyiapkan dictionary yang akan terdiri dari 3 buah case yaitu tinggi, jk, dan berat. Tinggi akan berasosiasi dengan tinggi badan, jk akan berasosiasi dengan jenis kelamin yang terdiri dari dua string (pria dan wanita), dan berat akan berasosiasi dengan sekumpulan nilai berat badan. Dictionary tersenjt ditampung dalam sebuab variabel yang bernama sensus yang akan digunakan untuk pandas dataframe. Objek yang terbentuk pada data frame akan ditampung pada variable sensus_df. Tinggi badan dan jenis kelamin dalam kasus ini akan berperan sebagai features dan berat badan sebagai target. "
   ]
  },
  {
   "cell_type": "markdown",
   "metadata": {},
   "source": [
    "*Regression dengan KKN*\n",
    "\n",
    "Mengestimasi nilai berat badan (mengikuti kasus yang ada)"
   ]
  },
  {
   "cell_type": "markdown",
   "metadata": {},
   "source": [
    "Features dan Target"
   ]
  },
  {
   "cell_type": "code",
   "execution_count": 2,
   "metadata": {},
   "outputs": [
    {
     "name": "stdout",
     "output_type": "stream",
     "text": [
      "X_train:\n",
      "[[158 'pria']\n",
      " [170 'pria']\n",
      " [183 'pria']\n",
      " [191 'pria']\n",
      " [155 'wanita']\n",
      " [163 'wanita']\n",
      " [180 'wanita']\n",
      " [158 'wanita']\n",
      " [170 'wanita']]\n",
      "\n",
      "y_train: [64 86 84 80 49 59 67 54 67]\n"
     ]
    }
   ],
   "source": [
    "import numpy as np \n",
    "\n",
    "X_train = np.array(sensus_df[['tinggi', 'jk']])\n",
    "y_train = np.array(sensus_df['berat'])\n",
    "\n",
    "print(f'X_train:\\n{X_train}\\n')\n",
    "print(f'y_train: {y_train}')"
   ]
  },
  {
   "cell_type": "markdown",
   "metadata": {},
   "source": [
    "Dalam kasus ini tinggi badan dan jenis kelamin akan menggunakan numpy array yang ditampung dalam variabel X_train sebagai sekumpulan features untuk training set. Data berat badan menggunakan numpy array juga dengan menggunakan variabel y_train sebagai sekumpulan nilai target untuk training set."
   ]
  },
  {
   "cell_type": "markdown",
   "metadata": {},
   "source": [
    "*Preprocess Dataset: Konverdi Label menjadi Numerik Biner*"
   ]
  },
  {
   "cell_type": "code",
   "execution_count": 3,
   "metadata": {},
   "outputs": [
    {
     "name": "stdout",
     "output_type": "stream",
     "text": [
      "X_train:\n",
      "[[158 'pria']\n",
      " [170 'pria']\n",
      " [183 'pria']\n",
      " [191 'pria']\n",
      " [155 'wanita']\n",
      " [163 'wanita']\n",
      " [180 'wanita']\n",
      " [158 'wanita']\n",
      " [170 'wanita']]\n",
      "\n",
      "X_train_transposed:\n",
      "[[158 170 183 191 155 163 180 158 170]\n",
      " ['pria' 'pria' 'pria' 'pria' 'wanita' 'wanita' 'wanita' 'wanita'\n",
      "  'wanita']]\n"
     ]
    }
   ],
   "source": [
    "X_train_transposed = np.transpose(X_train)\n",
    "\n",
    "print(f'X_train:\\n{X_train}\\n')\n",
    "print(f'X_train_transposed:\\n{X_train_transposed}')"
   ]
  },
  {
   "cell_type": "markdown",
   "metadata": {},
   "source": [
    "Melakukan proses transpose terlebih dahulu terhadap X_train. Transpose merupakan proses yang merubah posisi baris menjadi kolom dan posisi kolom menjadi baris. Hasil transpose akan ditampung pada X_train_transposed"
   ]
  },
  {
   "cell_type": "code",
   "execution_count": 4,
   "metadata": {},
   "outputs": [
    {
     "name": "stdout",
     "output_type": "stream",
     "text": [
      "jk: ['pria' 'pria' 'pria' 'pria' 'wanita' 'wanita' 'wanita' 'wanita' 'wanita']\n",
      "\n",
      "jk_binarised:\n",
      "[[0]\n",
      " [0]\n",
      " [0]\n",
      " [0]\n",
      " [1]\n",
      " [1]\n",
      " [1]\n",
      " [1]\n",
      " [1]]\n"
     ]
    }
   ],
   "source": [
    "from sklearn.preprocessing import LabelBinarizer\n",
    "\n",
    "lb = LabelBinarizer()\n",
    "jk_binarised = lb.fit_transform(X_train_transposed[1])\n",
    "\n",
    "print(f'jk: {X_train_transposed[1]}\\n')\n",
    "print(f'jk_binarised:\\n{jk_binarised}')"
   ]
  },
  {
   "cell_type": "markdown",
   "metadata": {},
   "source": [
    "Label Binarizer untuk mengkonversikan nilai pria dan wanita dalam kasus ini menjadi 0 dan 1. Caranya dengan melakukan import label binarizer yang berikutnya membuat objek binarizer yang ditampung dalam variabel lb. Proses selanjutnya adalah proses transform jenis kelaminnya dengan memanggil lb.fit_transform(X_train_transposer[1]). [1] merupakan index kesatu di mana pada hasil sebelumnya index ke 0 adalah tinggj badan dan index kesatu merupakan jenis kelamin. Hasil transform ditampung dalam variabel jk_binarised."
   ]
  },
  {
   "cell_type": "code",
   "execution_count": 5,
   "metadata": {},
   "outputs": [
    {
     "data": {
      "text/plain": [
       "array([0, 0, 0, 0, 1, 1, 1, 1, 1])"
      ]
     },
     "execution_count": 5,
     "metadata": {},
     "output_type": "execute_result"
    }
   ],
   "source": [
    "jk_binarised = jk_binarised.flatten()\n",
    "jk_binarised"
   ]
  },
  {
   "cell_type": "markdown",
   "metadata": {},
   "source": [
    "Flatten adalah methode yang dapat digunakan untuk mengkonversikan array multi dimensi menjadi array dimensi tunggal."
   ]
  },
  {
   "cell_type": "code",
   "execution_count": 6,
   "metadata": {},
   "outputs": [
    {
     "name": "stdout",
     "output_type": "stream",
     "text": [
      "X_train_transposed:\n",
      "[[158 170 183 191 155 163 180 158 170]\n",
      " [0 0 0 0 1 1 1 1 1]]\n",
      "\n",
      "X_train:\n",
      "[[158 0]\n",
      " [170 0]\n",
      " [183 0]\n",
      " [191 0]\n",
      " [155 1]\n",
      " [163 1]\n",
      " [180 1]\n",
      " [158 1]\n",
      " [170 1]]\n"
     ]
    }
   ],
   "source": [
    "X_train_transposed[1] = jk_binarised\n",
    "X_train = X_train_transposed.transpose()\n",
    "\n",
    "print(f'X_train_transposed:\\n{X_train_transposed}\\n')\n",
    "print(f'X_train:\\n{X_train}')\n",
    "\n",
    "#Proses transform mengembalikan posisi baris dan kolom ."
   ]
  },
  {
   "cell_type": "markdown",
   "metadata": {},
   "source": [
    "*Training KKN Regression Model*"
   ]
  },
  {
   "cell_type": "markdown",
   "metadata": {},
   "source": [
    "Import KNeighborsRegressor yang kemudian menggunakan nilai K=3 dan selanjutnya akan memanggil objek model yang selanjutnya memanggil model.fit yang disertakan oleh parameternya."
   ]
  },
  {
   "cell_type": "markdown",
   "metadata": {},
   "source": [
    "Prediksi Berat Badan"
   ]
  },
  {
   "cell_type": "code",
   "execution_count": 8,
   "metadata": {},
   "outputs": [
    {
     "data": {
      "text/plain": [
       "array([[155,   1]])"
      ]
     },
     "execution_count": 8,
     "metadata": {},
     "output_type": "execute_result"
    }
   ],
   "source": [
    "X_new = np.array([[155, 1]])\n",
    "X_new"
   ]
  },
  {
   "cell_type": "markdown",
   "metadata": {},
   "source": [
    "Menggunakan data baru, yaitu tinggi nadan 155 dan jenis kelaminnya wanita. Nilai features tersebut disatukan menjadi nilai array 2 dimensi yang ditampung dalam variabel X_new."
   ]
  },
  {
   "cell_type": "code",
   "execution_count": 9,
   "metadata": {},
   "outputs": [
    {
     "data": {
      "text/plain": [
       "array([55.66666667])"
      ]
     },
     "execution_count": 9,
     "metadata": {},
     "output_type": "execute_result"
    }
   ],
   "source": [
    "y_pred = model.predict(X_new)\n",
    "y_pred\n",
    "\n",
    "#Memanggil model.predict yang berasal dari data yang sudah dibuat sebelumnya."
   ]
  },
  {
   "cell_type": "markdown",
   "metadata": {},
   "source": [
    "*Evaluasi KNN Regression Model*"
   ]
  },
  {
   "cell_type": "code",
   "execution_count": 10,
   "metadata": {},
   "outputs": [
    {
     "name": "stdout",
     "output_type": "stream",
     "text": [
      "X_test:\n",
      "[[168   0]\n",
      " [180   0]\n",
      " [160   1]\n",
      " [169   1]]\n",
      "\n",
      "y_test: [65 96 52 67]\n"
     ]
    }
   ],
   "source": [
    "X_test = np.array([[168, 0], [180, 0], [160, 1], [169, 1]])\n",
    "y_test = np.array([65, 96, 52, 67])\n",
    "\n",
    "print(f'X_test:\\n{X_test}\\n')\n",
    "print(f'y_test: {y_test}')"
   ]
  },
  {
   "cell_type": "markdown",
   "metadata": {},
   "source": [
    "Testing set dalam kasus terdiri dari 4 point. Pertama-tama harus menyiapkan testing set untuk nilai featuresnya untuk kemudian ditampung ke dalam variabel X_test. Kemudian sekumpulan nilai target ditampung ke dalam variabel y_test."
   ]
  },
  {
   "cell_type": "code",
   "execution_count": 11,
   "metadata": {},
   "outputs": [
    {
     "data": {
      "text/plain": [
       "array([70.66666667, 79.        , 59.        , 70.66666667])"
      ]
     },
     "execution_count": 11,
     "metadata": {},
     "output_type": "execute_result"
    }
   ],
   "source": [
    "y_pred = model.predict(X_test)\n",
    "y_pred"
   ]
  },
  {
   "cell_type": "markdown",
   "metadata": {},
   "source": [
    "Setelah melakukan testing set, langkah selanjutnya adalah melakukan prediksi dengan memanfaatkan model KNN Regression yang sudah ditraining sebelumnya, yaitu dengan memanggil X_test yang hasilnya akan ditampung dalam variabel y_pred."
   ]
  },
  {
   "cell_type": "markdown",
   "metadata": {},
   "source": [
    "*Coefficient of Determination atau R²*"
   ]
  },
  {
   "cell_type": "code",
   "execution_count": 12,
   "metadata": {},
   "outputs": [
    {
     "name": "stdout",
     "output_type": "stream",
     "text": [
      "R-squared: 0.6290565226735438\n"
     ]
    }
   ],
   "source": [
    "from sklearn.metrics import r2_score\n",
    "\n",
    "r_squared = r2_score(y_test, y_pred)\n",
    "\n",
    "print(f'R-squared: {r_squared}')"
   ]
  },
  {
   "cell_type": "markdown",
   "metadata": {},
   "source": [
    "Langkah pertama adalah dengan mengimport metrics r2_score kemudian langkah selanjutnya adalah dengan memanggil r2_score yang disertai oleh parameternya, yaitu y_test, y_pred yang ditampung dalam variabel r_squared. Nilai r2_square bila mendekati 1 dapat dinilai baik dan sebaliknya."
   ]
  },
  {
   "cell_type": "markdown",
   "metadata": {},
   "source": [
    "*Mean Absolute Error (MAE) atau Mean Absolute Deviation (MAD)*\n",
    "Merupakan nilai absolute error dari nilai rata-rata dan prediksi."
   ]
  },
  {
   "attachments": {
    "rumus13.svg": {
     "image/svg+xml": [
      "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"
     ]
    }
   },
   "cell_type": "markdown",
   "metadata": {},
   "source": [
    "![rumus13.svg](attachment:rumus13.svg)"
   ]
  },
  {
   "cell_type": "markdown",
   "metadata": {},
   "source": [
    "$yi$ = merepresentasikan setiap nilai target pada testing set.\n",
    "\n",
    "$\\hat{y}_i$ = merepresentasikan nilai prediksi yang dihasilkan oleh model kita.\n",
    "\n",
    "Disini yang dihitung adalah selisih antara $yi$ dengan $\\hat{y}_i$. Proses tersebut memungkinkan untuk menghasilkan nilai positif maupun nilai negatif.\n",
    "Jika hasil prediksinya ternyata lebih kecil dari nilai yang seharusnya, maka nilainya akan menjadi positif.\n",
    "Jika hasil prediksinya ternyata lebih besar dari nilai yang seharusnya, maka nilainya akan menjadi negatif.\n",
    "Untuk menghindari nilai negatif, maka kita harus menerapkan yang namanya absolute function. Absolute function ini akan menghilangkan nilai negatif artinya semua hasilnya, baik itu negatif maupun positif akan diubah menjadi nilai positif.\n",
    "Lalu berikutnya, selisih nilai ini akan diakumulasikan atau dijumlahkan untuk berikutnya kita akan bagi dengan 'n'. 'n' merepresentasikan jumlah data pointnya."
   ]
  },
  {
   "cell_type": "code",
   "execution_count": 13,
   "metadata": {},
   "outputs": [
    {
     "name": "stdout",
     "output_type": "stream",
     "text": [
      "MAE : 8.333333333333336\n"
     ]
    }
   ],
   "source": [
    "from sklearn.metrics import mean_absolute_error\n",
    "\n",
    "MAE = mean_absolute_error(y_test, y_pred)\n",
    "\n",
    "print(f'MAE : {MAE}')"
   ]
  },
  {
   "cell_type": "markdown",
   "metadata": {},
   "source": [
    "Langkah pertama adalah dengan mengimport mean_absolute_error. Cara menggunakan mean_absolute_error ini cukup mudah dengan memanggil mean_absolute_error dengan menyertakan pramaternya, yaitu (y_test, y_pred). Nilai absolute error akan ditampunh pada variabel MAE. Semakin kecil nilai MAE nya akan semakin mengindikasikan nilai model yang lebih baik."
   ]
  },
  {
   "cell_type": "markdown",
   "metadata": {},
   "source": [
    "*Mean Squared Error (MSE) atau Mean Squared Deviation (MSD)*\n",
    "MSE merupakan rata-rata dari error kuadrat untuk prediksi."
   ]
  },
  {
   "attachments": {
    "rumus14.svg": {
     "image/svg+xml": [
      "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"
     ]
    }
   },
   "cell_type": "markdown",
   "metadata": {},
   "source": [
    "![rumus14.svg](attachment:rumus14.svg)"
   ]
  },
  {
   "cell_type": "markdown",
   "metadata": {},
   "source": [
    "$y_i$ merupakan nilai target dari testing set.\n",
    "\n",
    "$\\hat{y}_i$ merupakan nilai estimasi yang dihasilkan oleh model kita.\n",
    "\n",
    "Kedua nilai tersebut kita selisihkan yang dimana serupa dengan kasus sebelumnya, selisih kedua nilai terebut bisa postif dan juga bisa bernilai negatif.\n",
    "Jika ternyata nilai prediksinya lebih besar dari nilai sebenarnya, maka akan menghasilkan nilai negatif.\n",
    "Sedangkan jika nilai prediksinya lebih kecil dari nilai sebenarnya atau nilai ekspetasinya, maka akan menghasilkan nilai positif.\n",
    "Untuk menghindari nilai negatif pada $mse$, selisih nilainya akan kita pangkatkan 2.\n",
    "Lalu berikutnya, hasil pemangkata ini akan kita akumulasikan untuk kemudian kita bagi dengan 'n' yang diman 'n' merupakan jumlah untuk data pointnya."
   ]
  },
  {
   "cell_type": "code",
   "execution_count": 14,
   "metadata": {},
   "outputs": [
    {
     "name": "stdout",
     "output_type": "stream",
     "text": [
      "MSE : 95.8888888888889\n"
     ]
    }
   ],
   "source": [
    "\n",
    "from sklearn.metrics import mean_squared_error\n",
    "\n",
    "MSE = mean_squared_error(y_test, y_pred)\n",
    "\n",
    "print(f'MSE : {MSE}')"
   ]
  },
  {
   "cell_type": "markdown",
   "metadata": {},
   "source": [
    "Langkah pertama adalah dengan mengimport mean_squared_error, kemudian mean_squared_error ini memiliki 2 parameter, yaitu y_test dan y_pred untum kemudian ditampung ke dalam variabel MSE. Semakin kecil nilai MSE akan mengindikasikan nilai model yang lebih baik. Nilai MSE akan selalu lebih besar dari nilai MAE karena setiap nilai error dari MSE akan selalu dipangkatkan 2."
   ]
  },
  {
   "cell_type": "markdown",
   "metadata": {},
   "source": [
    "*Permasalahan Scaling pada Features*\n",
    "Dalam kasus ini memiliki 2 features, yaitu tinggi badan dan jenis kelamin. Nilai tinggi badan direpresentasikan dalam satuan mm, sedangkan nilai jenis kelamin direpresentasikan dengan bilangan biner 0 dan 1. Nilai tinggi badan dapat direpresentasikan dengan mm dan m."
   ]
  },
  {
   "cell_type": "code",
   "execution_count": 15,
   "metadata": {},
   "outputs": [
    {
     "data": {
      "text/plain": [
       "[60.0, 40.01249804748511]"
      ]
     },
     "execution_count": 15,
     "metadata": {},
     "output_type": "execute_result"
    }
   ],
   "source": [
    "from scipy.spatial.distance import euclidean\n",
    "\n",
    "# tinggi dalam milimeter\n",
    "X_train = np.array([[1700, 0], [1600, 1]])\n",
    "X_new = np.array([[1640, 0]])\n",
    "\n",
    "[euclidean(X_new[0], d) for d in X_train]"
   ]
  },
  {
   "cell_type": "markdown",
   "metadata": {},
   "source": [
    "Langkah pertama adalah mengimport euclidean. Kemudian membuat 2 variabel yang akan menampung data, yaitu variabel X_train dan X_new. X_train berisi nilai features untuk training set, sedangkan X_new berisi sekumlulan nilai features untuk data point yang akan diprediksi. Enclidean digunakaj untuk proses mengukur jarak antara data point dengan training set. Hasil yang pertama merupakan jarak antara data point baru dengan data jarak oada training set. Hasil yang kedua merupakan jarak anatara data point baru dengan data kedja dari trainning set. Data point yang barublebih dekat dengan data point yang kedua dibandingkan dengan data point pertama."
   ]
  },
  {
   "cell_type": "code",
   "execution_count": 16,
   "metadata": {},
   "outputs": [
    {
     "data": {
      "text/plain": [
       "[0.06000000000000005, 1.0007996802557442]"
      ]
     },
     "execution_count": 16,
     "metadata": {},
     "output_type": "execute_result"
    }
   ],
   "source": [
    "# tinggi dalam meter\n",
    "X_train = np.array([[1.7, 0], [1.6, 1]])\n",
    "X_new = np.array([[1.64, 0]])\n",
    "\n",
    "[euclidean(X_new[0], d) for d in X_train]"
   ]
  },
  {
   "cell_type": "markdown",
   "metadata": {},
   "source": [
    "Tinggi badan diukur dalam satuan meter. Methode yang sama dengan tinggi badan yang menggunakan satuan mm. Perbedaannya adalah hasil dari data point yang pertama lebih dekat dengan data point yang baru. "
   ]
  },
  {
   "cell_type": "markdown",
   "metadata": {},
   "source": [
    "*Menerapkan Standard Scaler (Standard Score atau Z-Score)*"
   ]
  },
  {
   "attachments": {
    "rumus15.svg": {
     "image/svg+xml": [
      "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"
     ]
    }
   },
   "cell_type": "markdown",
   "metadata": {},
   "source": [
    "![rumus15.svg](attachment:rumus15.svg)"
   ]
  },
  {
   "cell_type": "markdown",
   "metadata": {},
   "source": [
    "$x$ : merepresentasikan nilai features.\n",
    "\n",
    "$\\bar{x}$ : merepresentasikan rata-rata nilai features.\n",
    "\n",
    "$S$ : merepresentasikan nilai standard deviation dari sekumpulan nilai features.\n",
    "\n",
    "$z$ : merepresentasikan nilai z-score."
   ]
  },
  {
   "cell_type": "code",
   "execution_count": 17,
   "metadata": {},
   "outputs": [],
   "source": [
    "from sklearn.preprocessing import StandardScaler\n",
    "\n",
    "ss = StandardScaler()"
   ]
  },
  {
   "cell_type": "markdown",
   "metadata": {},
   "source": [
    "Langkah pertama adalah dengan mengimport class StandardScaler yang kemudian dibentuk objek dengan menampung objeknya dalam variabel ss."
   ]
  },
  {
   "cell_type": "code",
   "execution_count": 18,
   "metadata": {},
   "outputs": [
    {
     "name": "stdout",
     "output_type": "stream",
     "text": [
      "X_train_scaled:\n",
      "[[ 1. -1.]\n",
      " [-1.  1.]]\n",
      "\n",
      "X_new_scaled: [[-0.2 -1. ]]\n",
      "\n",
      "jarak : [1.2, 2.1540659228538015]\n"
     ]
    }
   ],
   "source": [
    "# Tinggi dalam milimeter\n",
    "X_train = np.array([[1700, 0], [1600, 1]])\n",
    "X_train_scaled = ss.fit_transform(X_train)\n",
    "print(f'X_train_scaled:\\n{X_train_scaled}\\n')\n",
    "\n",
    "X_new = np.array([[1640, 0]])\n",
    "X_new_scaled = ss.transform(X_new)\n",
    "print(f'X_new_scaled: {X_new_scaled}\\n')\n",
    "\n",
    "\n",
    "jarak = [euclidean(X_new_scaled[0], d) for d in X_train_scaled]\n",
    "print(f'jarak : {jarak}')"
   ]
  },
  {
   "cell_type": "markdown",
   "metadata": {},
   "source": [
    "Dengan menampung np.array yang di dalamya berisi tinggi badan dengan satuan milimeter dan juga jenis kelamin ke dalam variabel X_train yang kemudian ditransform dengan menggunakan variabel X_train_scaled. X_new juga akan dilakukan X_new yang hasilnya akan ditampung kedalam variabel X_new_scaled yang kemudian dihitung ke dalam jarak X_nee_scaled dengan nilai X_train_scaled. Hasilnya adalah tidak lagi menggunakan satuan mm atau cm, tetapi sudah menjadi satuan standard score atau Z-Score. Data point yang baru lebih dekat dengan data point yang pertama."
   ]
  },
  {
   "cell_type": "code",
   "execution_count": 19,
   "metadata": {},
   "outputs": [
    {
     "name": "stdout",
     "output_type": "stream",
     "text": [
      "X_train_scaled:\n",
      "[[ 1. -1.]\n",
      " [-1.  1.]]\n",
      "X_new_scaled : [[-0.2 -1. ]]\n",
      "\n",
      "Jarak : [1.2000000000000026, 2.1540659228538006]\n"
     ]
    }
   ],
   "source": [
    "# Tinggi dalam meter\n",
    "X_train = np.array([[1.7, 0], [1.6, 1]])\n",
    "X_train_scaled = ss.fit_transform(X_train)\n",
    "print(f'X_train_scaled:\\n{X_train_scaled}')\n",
    "\n",
    "X_new = np.array([[1.64, 0]])\n",
    "X_new_scaled = ss.transform(X_new)\n",
    "print(f'X_new_scaled : {X_new_scaled}\\n')\n",
    "\n",
    "jarak = [euclidean(X_new_scaled[0], d) for d in X_train_scaled]\n",
    "print(f'Jarak : {jarak}')"
   ]
  },
  {
   "cell_type": "markdown",
   "metadata": {},
   "source": [
    "Semua langkah untuk menghitung sama dengan eksperimen sebelimnya yang menggunakan satuan mili meter. Perbedaannya hanya disatuan pengukur yang menggunakan meter. Nilai jarak yang dihasilkan sama dengan nilai jarak pada satuan yang sudah diubah menjadi Z-Score lada eksperimen sebelumnya. "
   ]
  },
  {
   "cell_type": "markdown",
   "metadata": {},
   "source": [
    "*Menerapkan Features Scaling pada KKN*"
   ]
  },
  {
   "cell_type": "markdown",
   "metadata": {},
   "source": [
    "Dataset "
   ]
  },
  {
   "cell_type": "code",
   "execution_count": 20,
   "metadata": {},
   "outputs": [],
   "source": [
    "#Training Set\n",
    "X_train = np.array([[158, 0], [170, 0], [183, 0], [191, 0], [155, 1], [163,1],\n",
    "                   [180, 1], [158, 1], [170, 1]])\n",
    "\n",
    "y_train = np.array([64, 86, 84, 80, 49, 59, 67, 54, 67])\n",
    "\n",
    "# Test set\n",
    "X_test = np.array([[168, 0], [180, 0], [160, 1], [169,1]])\n",
    "y_test = np.array([65, 96, 52, 67])"
   ]
  },
  {
   "cell_type": "markdown",
   "metadata": {},
   "source": [
    "Pada training set disediakan X_train untuk menampung sekumpulan nilai features dan juga sekumpulan nilai target. Sedangkan pada Test set berisi sekumpulan nilai y_test features dan juga y_test terget."
   ]
  },
  {
   "cell_type": "markdown",
   "metadata": {},
   "source": [
    "*Features Scaling (Standaed Scaler)*"
   ]
  },
  {
   "cell_type": "code",
   "execution_count": 21,
   "metadata": {},
   "outputs": [
    {
     "name": "stdout",
     "output_type": "stream",
     "text": [
      "X_train_scaled:\n",
      "[[-0.9908706  -1.11803399]\n",
      " [ 0.01869567 -1.11803399]\n",
      " [ 1.11239246 -1.11803399]\n",
      " [ 1.78543664 -1.11803399]\n",
      " [-1.24326216  0.89442719]\n",
      " [-0.57021798  0.89442719]\n",
      " [ 0.86000089  0.89442719]\n",
      " [-0.9908706   0.89442719]\n",
      " [ 0.01869567  0.89442719]]\n",
      "\n",
      "X_test_scaled:\n",
      "[[-0.14956537 -1.11803399]\n",
      " [ 0.86000089 -1.11803399]\n",
      " [-0.82260955  0.89442719]\n",
      " [-0.06543485  0.89442719]]\n",
      "\n"
     ]
    }
   ],
   "source": [
    "X_train_scaled = ss.fit_transform(X_train)\n",
    "X_test_scaled = ss.transform(X_test)\n",
    "\n",
    "print(f'X_train_scaled:\\n{X_train_scaled}\\n')\n",
    "print(f'X_test_scaled:\\n{X_test_scaled}\\n')"
   ]
  },
  {
   "cell_type": "markdown",
   "metadata": {},
   "source": [
    "Langkah pertama adalah memanggil ss.fit_transform(X_train) yang kemudian ditampung pada variabel X_train_scaled. Kemudian juga memanggil ss.transform(X_test) yang ditampung pada variabek X_test_scaled."
   ]
  },
  {
   "cell_type": "markdown",
   "metadata": {},
   "source": [
    "*Training dan Evaluasi Model*"
   ]
  },
  {
   "cell_type": "code",
   "execution_count": 22,
   "metadata": {},
   "outputs": [
    {
     "name": "stdout",
     "output_type": "stream",
     "text": [
      "MAE: 7.583333333333336\n",
      "MSE: 85.13888888888893\n"
     ]
    }
   ],
   "source": [
    "model.fit(X_train_scaled, y_train)\n",
    "y_pred = model.predict(X_test_scaled)\n",
    "\n",
    "MAE = mean_absolute_error(y_test, y_pred)\n",
    "MSE = mean_squared_error(y_test, y_pred)\n",
    "\n",
    "print(f'MAE: {MAE}')\n",
    "print(f'MSE: {MSE}')"
   ]
  },
  {
   "cell_type": "markdown",
   "metadata": {},
   "source": [
    "Objek modelnhya ditraining dengan menyertakan model.fit(X_train_scaled, y_train) sebagai parameternya. Setelah dilakukan training set, kemudian akan dilakukan prediksi dengan memanggil model.predict dan menyertakan (X_test_scaled) yang akan ditampung dalam variabel y_pred. Setelah itu akan dihitung nilai errornya dengan memanggil mean_absolute_errir(y_test, y_pred) yang ditampung pada variabel MAE. Sedangkan untum menghitung MSE caranya adalah dengan memanggil mean_squared_error(y_test, y_pred) yang ditampung dalam variabel MSE. Hasil dari MAE dan MSE dengan menggunakan features scalinh lebih baik dibandingkan dengan tidak menggunakannya karena hasik MSE dan MAE jauh lebih kecil dibandingkan sebelumnya."
   ]
  },
  {
   "cell_type": "markdown",
   "metadata": {},
   "source": [
    "*SUMBER :  https://www.youtube.com/watch?v=W8adIcfv16M*"
   ]
  }
 ],
 "metadata": {
  "kernelspec": {
   "display_name": "Python 3",
   "language": "python",
   "name": "python3"
  },
  "language_info": {
   "codemirror_mode": {
    "name": "ipython",
    "version": 3
   },
   "file_extension": ".py",
   "mimetype": "text/x-python",
   "name": "python",
   "nbconvert_exporter": "python",
   "pygments_lexer": "ipython3",
   "version": "3.8.5"
  }
 },
 "nbformat": 4,
 "nbformat_minor": 4
}
